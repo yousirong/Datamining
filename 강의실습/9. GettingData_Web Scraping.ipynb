{
 "cells": [
  {
   "cell_type": "markdown",
   "metadata": {},
   "source": [
    "# 9장. 데이터 수집하기 (Getting Data) - 웹 스크랩핑"
   ]
  },
  {
   "cell_type": "code",
   "execution_count": 1,
   "metadata": {},
   "outputs": [
    {
     "name": "stdout",
     "output_type": "stream",
     "text": [
      "Collecting beautifulsoup4\n",
      "  Downloading beautifulsoup4-4.9.3-py3-none-any.whl (115 kB)\n",
      "Requirement already satisfied: requests in c:\\users\\fermi_2\\.conda\\envs\\data_mining\\lib\\site-packages (2.25.1)\n",
      "Collecting html5lib\n",
      "  Downloading html5lib-1.1-py2.py3-none-any.whl (112 kB)\n",
      "Collecting soupsieve>1.2\n",
      "  Downloading soupsieve-2.2.1-py3-none-any.whl (33 kB)\n",
      "Collecting webencodings\n",
      "  Using cached webencodings-0.5.1-py2.py3-none-any.whl (11 kB)\n",
      "Requirement already satisfied: six>=1.9 in c:\\users\\fermi_2\\.conda\\envs\\data_mining\\lib\\site-packages (from html5lib) (1.15.0)\n",
      "Requirement already satisfied: chardet<5,>=3.0.2 in c:\\users\\fermi_2\\.conda\\envs\\data_mining\\lib\\site-packages (from requests) (4.0.0)\n",
      "Requirement already satisfied: certifi>=2017.4.17 in c:\\users\\fermi_2\\.conda\\envs\\data_mining\\lib\\site-packages (from requests) (2020.12.5)\n",
      "Requirement already satisfied: idna<3,>=2.5 in c:\\users\\fermi_2\\.conda\\envs\\data_mining\\lib\\site-packages (from requests) (2.10)\n",
      "Requirement already satisfied: urllib3<1.27,>=1.21.1 in c:\\users\\fermi_2\\.conda\\envs\\data_mining\\lib\\site-packages (from requests) (1.26.3)\n",
      "Installing collected packages: webencodings, soupsieve, html5lib, beautifulsoup4\n",
      "Successfully installed beautifulsoup4-4.9.3 html5lib-1.1 soupsieve-2.2.1 webencodings-0.5.1\n"
     ]
    }
   ],
   "source": [
    "!pip install beautifulsoup4 requests html5lib"
   ]
  },
  {
   "cell_type": "markdown",
   "metadata": {},
   "source": [
    "## 1. HTML 문서 가져오기"
   ]
  },
  {
   "cell_type": "code",
   "execution_count": 2,
   "metadata": {},
   "outputs": [
    {
     "name": "stdout",
     "output_type": "stream",
     "text": [
      "<!DOCTYPE html>\n",
      "<html lang=\"en-US\"><head>\n",
      "    <title>Getting Data</title>\n",
      "    <meta charset=\"utf-8\"/>\n",
      "</head>\n",
      "<body>\n",
      "    <h1>Getting Data</h1>\n",
      "    <div class=\"explanation\">\n",
      "        This is an explanation.\n",
      "    </div>\n",
      "    <div class=\"comment\">\n",
      "        This is a comment.\n",
      "    </div>\n",
      "    <div class=\"content\">\n",
      "        <p id=\"p1\">This is the first paragraph.</p>\n",
      "        <p class=\"important\">This is the second paragraph.</p>\n",
      "    </div>\n",
      "    <div class=\"signature\">\n",
      "        <span id=\"name\">Joel</span>\n",
      "        <span id=\"twitter\">@joelgrus</span>\n",
      "        <span id=\"email\">joelgrus-at-gmail</span>\n",
      "    </div>\n",
      "\n",
      "\n",
      "</body></html>\n"
     ]
    }
   ],
   "source": [
    "from bs4 import BeautifulSoup\n",
    "import requests\n",
    "\n",
    "# I put the relevant HTML file on GitHub. In order to fit\n",
    "# the URL in the book I had to split it across two lines.\n",
    "# Recall that whitespace-separated strings get concatenated.\n",
    "url = (\"https://raw.githubusercontent.com/joelgrus/data/master/getting-data.html\")\n",
    "html = requests.get(url).text\n",
    "soup = BeautifulSoup(html, 'html5lib')\n",
    "print(soup)"
   ]
  },
  {
   "cell_type": "markdown",
   "metadata": {},
   "source": [
    "### 1.1 첫번째 Paragraph"
   ]
  },
  {
   "cell_type": "code",
   "execution_count": 3,
   "metadata": {},
   "outputs": [
    {
     "name": "stdout",
     "output_type": "stream",
     "text": [
      "<p id=\"p1\">This is the first paragraph.</p>\n"
     ]
    }
   ],
   "source": [
    "first_paragraph = soup.find('p')        # or just soup.p\n",
    "print(first_paragraph)\n",
    "assert str(soup.find('p')) == '<p id=\"p1\">This is the first paragraph.</p>'"
   ]
  },
  {
   "cell_type": "markdown",
   "metadata": {},
   "source": [
    "### 1.2 단어로 쪼개기"
   ]
  },
  {
   "cell_type": "code",
   "execution_count": 4,
   "metadata": {},
   "outputs": [
    {
     "name": "stdout",
     "output_type": "stream",
     "text": [
      "['This', 'is', 'the', 'first', 'paragraph.']\n"
     ]
    }
   ],
   "source": [
    "first_paragraph_text = soup.p.text\n",
    "first_paragraph_words = soup.p.text.split()\n",
    "print(first_paragraph_words)\n",
    "assert first_paragraph_words == ['This', 'is', 'the', 'first', 'paragraph.']"
   ]
  },
  {
   "cell_type": "markdown",
   "metadata": {},
   "source": [
    "### 1.3 딕셔너리처럼 사용하기"
   ]
  },
  {
   "cell_type": "code",
   "execution_count": 5,
   "metadata": {},
   "outputs": [],
   "source": [
    "first_paragraph_id = soup.p['id']       # raises KeyError if no 'id'\n",
    "first_paragraph_id2 = soup.p.get('id')  # returns None if no 'id'\n",
    "\n",
    "\n",
    "assert first_paragraph_id == first_paragraph_id2 == 'p1'"
   ]
  },
  {
   "cell_type": "markdown",
   "metadata": {},
   "source": [
    "### 1.4 여러 태그 불러오기"
   ]
  },
  {
   "cell_type": "code",
   "execution_count": 6,
   "metadata": {},
   "outputs": [],
   "source": [
    "all_paragraphs = soup.find_all('p')  # or just soup('p')\n",
    "paragraphs_with_ids = [p for p in soup('p') if p.get('id')]\n",
    "\n",
    "assert len(all_paragraphs) == 2\n",
    "assert len(paragraphs_with_ids) == 1"
   ]
  },
  {
   "cell_type": "markdown",
   "metadata": {},
   "source": [
    "### 1.5  특정 클래스 태그 불러오기"
   ]
  },
  {
   "cell_type": "code",
   "execution_count": 7,
   "metadata": {},
   "outputs": [],
   "source": [
    "important_paragraphs = soup('p', {'class' : 'important'})\n",
    "important_paragraphs2 = soup('p', 'important')\n",
    "important_paragraphs3 = [p for p in soup('p')\n",
    "                         if 'important' in p.get('class', [])]\n",
    "\n",
    "assert important_paragraphs == important_paragraphs2 == important_paragraphs3\n",
    "assert len(important_paragraphs) == 1"
   ]
  },
  {
   "cell_type": "markdown",
   "metadata": {},
   "source": [
    "### 1.6  div에 포함된 span가져오기"
   ]
  },
  {
   "cell_type": "code",
   "execution_count": 8,
   "metadata": {},
   "outputs": [],
   "source": [
    "spans_inside_divs = [span\n",
    "                     for div in soup('div')     # for each <div> on the page\n",
    "                     for span in div('span')]   # find each <span> inside it\n",
    "\n",
    "\n",
    "assert len(spans_inside_divs) == 3"
   ]
  },
  {
   "cell_type": "markdown",
   "metadata": {},
   "source": [
    "## 2. 예시 : 의회 감시하기"
   ]
  },
  {
   "cell_type": "code",
   "execution_count": 9,
   "metadata": {},
   "outputs": [
    {
     "name": "stdout",
     "output_type": "stream",
     "text": [
      "967\n"
     ]
    }
   ],
   "source": [
    "from bs4 import BeautifulSoup\n",
    "import requests\n",
    "\n",
    "url = \"https://www.house.gov/representatives\"\n",
    "text = requests.get(url).text\n",
    "soup = BeautifulSoup(text, \"html5lib\")\n",
    "\n",
    "all_urls = [a['href']\n",
    "            for a in soup('a')\n",
    "            if a.has_attr('href')]\n",
    "\n",
    "print(len(all_urls))  # 965 for me, way too many"
   ]
  },
  {
   "cell_type": "markdown",
   "metadata": {},
   "source": [
    "### 2.1 정규식을 이용해서 의원의 URL만 필터링"
   ]
  },
  {
   "cell_type": "code",
   "execution_count": 10,
   "metadata": {},
   "outputs": [],
   "source": [
    "import re\n",
    "\n",
    "# Must start with http:// or https://\n",
    "# Must end with .house.gov or .house.gov/\n",
    "regex = r\"^https?://.*\\.house\\.gov/?$\"\n",
    "\n",
    "# Let's write some tests!\n",
    "assert re.match(regex, \"http://joel.house.gov\")\n",
    "assert re.match(regex, \"https://joel.house.gov\")\n",
    "assert re.match(regex, \"http://joel.house.gov/\")\n",
    "assert re.match(regex, \"https://joel.house.gov/\")\n",
    "assert not re.match(regex, \"joel.house.gov\")\n",
    "assert not re.match(regex, \"http://joel.house.com\")\n",
    "assert not re.match(regex, \"https://joel.house.gov/biography\")"
   ]
  },
  {
   "cell_type": "code",
   "execution_count": 11,
   "metadata": {},
   "outputs": [
    {
     "name": "stdout",
     "output_type": "stream",
     "text": [
      "870\n"
     ]
    }
   ],
   "source": [
    "good_urls = [url for url in all_urls if re.match(regex, url)]\n",
    "\n",
    "print(len(good_urls))  # still 862 for me"
   ]
  },
  {
   "cell_type": "markdown",
   "metadata": {},
   "source": [
    "### 2.2 중복 제거"
   ]
  },
  {
   "cell_type": "code",
   "execution_count": 12,
   "metadata": {},
   "outputs": [
    {
     "name": "stdout",
     "output_type": "stream",
     "text": [
      "435\n"
     ]
    }
   ],
   "source": [
    "num_original_good_urls = len(good_urls)\n",
    "good_urls = list(set(good_urls))\n",
    "    \n",
    "print(len(good_urls))  # only 431 for me\n",
    "assert len(good_urls) < num_original_good_urls"
   ]
  },
  {
   "cell_type": "markdown",
   "metadata": {},
   "source": [
    "### 2.3  jayapal 홈페이지에서 PR 링크 찾기"
   ]
  },
  {
   "cell_type": "code",
   "execution_count": 13,
   "metadata": {},
   "outputs": [
    {
     "name": "stdout",
     "output_type": "stream",
     "text": [
      "{'https://jayapal.house.gov/category/news/', 'https://jayapal.house.gov/category/press-releases/'}\n"
     ]
    }
   ],
   "source": [
    "html = requests.get('https://jayapal.house.gov').text\n",
    "soup = BeautifulSoup(html, 'html5lib')\n",
    "\n",
    "# Use a set because the links might appear multiple times.\n",
    "links = {a['href'] for a in soup('a') if 'press releases' in a.text.lower()}\n",
    "\n",
    "print(links) # {'/media/press-releases'}"
   ]
  },
  {
   "cell_type": "markdown",
   "metadata": {},
   "source": [
    "### 2.4  모든 의원의 홈페이지에서 PR 링크 찾기"
   ]
  },
  {
   "cell_type": "code",
   "execution_count": 14,
   "metadata": {
    "scrolled": false
   },
   "outputs": [
    {
     "name": "stdout",
     "output_type": "stream",
     "text": [
      "https://kilmer.house.gov: {'https://kilmer.house.gov/news/press-releases'}\n",
      "https://crenshaw.house.gov/: {'/press-releases'}\n",
      "https://arrington.house.gov: set()\n",
      "https://eshoo.house.gov/: {'/media/press-releases'}\n",
      "https://biggs.house.gov: {'/media/press-releases'}\n",
      "https://loudermilk.house.gov: {'/news/documentquery.aspx?DocumentTypeID=27'}\n",
      "https://morelle.house.gov: {'/media/press-releases'}\n",
      "https://sarajacobs.house.gov: {'/news/documentquery.aspx?DocumentTypeID=27'}\n",
      "https://cartwright.house.gov: {'/news/documentquery.aspx?DocumentTypeID=2442'}\n",
      "https://comer.house.gov/: {'/press-release'}\n",
      "https://panetta.house.gov: {'/media/press-releases'}\n",
      "https://trahan.house.gov: set()\n",
      "https://budd.house.gov: {'/news/documentquery.aspx?DocumentTypeID=27'}\n",
      "https://mccollum.house.gov: {'/media/press-releases'}\n",
      "https://napolitano.house.gov/: {'/media/press-releases'}\n",
      "https://franklin.house.gov: {'/media/press-releases'}\n",
      "https://stevens.house.gov/: {'/media/press-releases'}\n",
      "https://cline.house.gov: {'/media/press-releases'}\n",
      "https://posey.house.gov/: {'#tab-2', '/News/DocumentQuery.aspx?DocumentTypeID=1487'}\n",
      "https://bacon.house.gov: {'/news/documentquery.aspx?DocumentTypeID=27'}\n",
      "https://cardenas.house.gov: {'https://cardenas.house.gov/media-center/press-releases'}\n",
      "https://banks.house.gov: {'/news/documentquery.aspx?DocumentTypeID=27'}\n",
      "https://chu.house.gov/: {'/media-center/press-releases'}\n",
      "https://auchincloss.house.gov: {'/media/press-releases'}\n",
      "https://mchenry.house.gov: {'/news/documentquery.aspx?DocumentTypeID=418'}\n",
      "https://barr.house.gov/: {'/press-releases'}\n",
      "https://omar.house.gov/: {'/media/press-releases'}\n",
      "https://emmer.house.gov/: {'/press-releases'}\n",
      "https://calvert.house.gov/: {'/media/press-releases'}\n",
      "https://bourdeaux.house.gov: {'/media/press-releases'}\n",
      "https://kinzinger.house.gov/: {'/news/documentquery.aspx?DocumentTypeID=2665'}\n",
      "https://watsoncoleman.house.gov/: {'/news/documentquery.aspx?DocumentTypeID=27'}\n",
      "https://defazio.house.gov/: {'/media-center/press-releases'}\n",
      "https://jackson.house.gov: {'/news/documentquery.aspx?DocumentTypeID=27'}\n",
      "https://mikerogers.house.gov/: {'/news/documentquery.aspx?DocumentTypeID=27'}\n",
      "https://mikegarcia.house.gov/: {'/news/documentquery.aspx?DocumentTypeID=27'}\n",
      "https://grijalva.house.gov/: {'/media/press-releases'}\n",
      "https://case.house.gov/: {'/news/documentquery.aspx?DocumentTypeID=27', '/news/documentsingle.aspx?DocumentID=574'}\n",
      "https://kaygranger.house.gov: {'/press-releases'}\n",
      "https://debbiedingell.house.gov/: {'/news/documentquery.aspx?DocumentTypeID=27', '/news/'}\n",
      "https://hern.house.gov: {'/news/documentquery.aspx?DocumentTypeID=27'}\n",
      "https://adamsmith.house.gov/: {'/press-releases', '#recentposts-pressreleases'}\n",
      "https://waltz.house.gov: {'/news/documentquery.aspx?DocumentTypeID=27'}\n",
      "https://vantaylor.house.gov/: {'/news/documentquery.aspx?DocumentTypeID=27'}\n",
      "https://mikelevin.house.gov: {'https://mikelevin.house.gov/media/press-releases'}\n",
      "https://newhouse.house.gov: {'/media-center/press-releases'}\n",
      "https://katko.house.gov/: {'/media-center/press-releases'}\n",
      "https://schiff.house.gov/: {'https://schiff.house.gov/news/press-releases'}\n",
      "https://adriansmith.house.gov/: {'/newsroom/press-releases'}\n",
      "https://tlaib.house.gov/: {'/media/press-releases'}\n",
      "https://mace.house.gov: {'/media/press-releases'}\n",
      "https://mfume.house.gov/: {'/media/press-releases'}\n",
      "https://lawson.house.gov: {'https://lawson.house.gov/media/press-releases'}\n",
      "https://reed.house.gov/: {'/news/documentquery.aspx?DocumentTypeID=27'}\n",
      "https://horsford.house.gov: {'/media/press-releases'}\n",
      "https://lesko.house.gov: {'/news/documentquery.aspx?DocumentTypeID=27'}\n",
      "https://buck.house.gov/: set()\n",
      "https://fleischmann.house.gov/: {'/media/press-releases'}\n",
      "https://mccaul.house.gov: {'/media-center/press-releases'}\n",
      "https://clyburn.house.gov/: {'/press-releases'}\n",
      "https://cleaver.house.gov: {'/media-center/press-releases'}\n",
      "https://norton.house.gov/: {'/media-center/press-releases'}\n",
      "https://nunes.house.gov/: {'/News/DocumentQuery.aspx?DocumentTypeID=2133'}\n",
      "https://marymiller.house.gov: {'/media/subscribe-press-releases', '/media/press-releases'}\n",
      "https://quigley.house.gov/: {'/media-center/press-releases'}\n",
      "https://trentkelly.house.gov/: {'/news/documentquery.aspx?DocumentTypeID=27'}\n",
      "https://long.house.gov/: {'/news/documentquery.aspx?DocumentTypeID=27'}\n",
      "https://guthrie.house.gov/: set()\n",
      "https://pallone.house.gov: {'/media/press-releases'}\n",
      "https://kathleenrice.house.gov: {'/news/documentquery.aspx?DocumentTypeID=27'}\n",
      "https://fulcher.house.gov/: {'/press-releases'}\n",
      "https://chabot.house.gov/: {'/news/documentquery.aspx?DocumentTypeID=2508'}\n",
      "https://courtney.house.gov/: {'/media-center/press-releases'}\n",
      "https://himes.house.gov/: set()\n",
      "https://barragan.house.gov: {'https://barragan.house.gov/category/press-releases/'}\n",
      "https://austinscott.house.gov/: {'/press-releases'}\n",
      "https://jasonsmith.house.gov: set()\n",
      "https://buchanan.house.gov/: set()\n",
      "https://lamb.house.gov: {'/media/press-releases'}\n",
      "https://allen.house.gov: {'/news/documentquery.aspx?DocumentTypeID=27'}\n",
      "https://castor.house.gov/: {'/News/DocumentQuery.aspx?DocumentTypeID=821'}\n",
      "https://youngkim.house.gov: {'/media/press-releases'}\n",
      "https://halrogers.house.gov/: {'/press-releases'}\n",
      "https://steube.house.gov/: {'/media/press-releases'}\n",
      "https://crawford.house.gov/: {'/News/DocumentQuery.aspx?DocumentTypeID=2080'}\n",
      "https://doyle.house.gov: {'/media/press-releases'}\n",
      "https://mcmorris.house.gov/: set()\n",
      "https://pence.house.gov/: {'/media/press-releases'}\n",
      "https://bergman.house.gov: {'/news/documentquery.aspx?DocumentTypeID=27'}\n",
      "https://upton.house.gov: {'/News/DocumentQuery.aspx?DocumentTypeID=1828'}\n",
      "https://jayapal.house.gov: {'https://jayapal.house.gov/category/news/', 'https://jayapal.house.gov/category/press-releases/'}\n",
      "https://webster.house.gov/: {'/press-releases'}\n",
      "https://troycarter.house.gov: {'/media/press-releases'}\n",
      "https://johnrose.house.gov/: {'/media/press-releases'}\n",
      "https://morgangriffith.house.gov/: {'/News/DocumentQuery.aspx?DocumentTypeID=2235'}\n",
      "https://bass.house.gov/: {'/media-center/press-releases'}\n",
      "https://slotkin.house.gov/: {'/media/press-releases'}\n",
      "https://roy.house.gov: {'/media/press-releases'}\n",
      "https://mceachin.house.gov: {'/media/press-releases'}\n",
      "https://bonamici.house.gov: {'/media/press-releases'}\n",
      "https://herrell.house.gov: {'/media/press-releases-c'}\n",
      "https://seanmaloney.house.gov: set()\n",
      "https://rodneydavis.house.gov: {'#tab1', '/news/documentquery.aspx?DocumentTypeID=2427'}\n",
      "https://kuster.house.gov: {'/news/documentquery.aspx?DocumentTypeID=27'}\n",
      "https://pelosi.house.gov/: {'/news/press-releases'}\n",
      "https://fernandez.house.gov: {'/media/press-releases'}\n",
      "https://hice.house.gov/: {'/news/documentquery.aspx?DocumentTypeID=27'}\n",
      "https://nikemawilliams.house.gov: {'https://nikemawilliams.house.gov/media/press-releases', '/media/press-releases'}\n",
      "https://manning.house.gov: {'/media/press-releases'}\n",
      "https://jordan.house.gov/: {'/News/DocumentQuery.aspx?DocumentTypeID=1611'}\n",
      "https://price.house.gov/: {'/newsroom/press-releases'}\n",
      "https://bustos.house.gov: {'https://bustos.house.gov/category/press-release/'}\n",
      "https://newman.house.gov: {'/media/press-releases'}\n",
      "https://bice.house.gov: {'/media/press-releases'}\n",
      "https://vandrew.house.gov: {'/media/press-releases'}\n",
      "https://williams.house.gov: {'/media-center/press-releases'}\n",
      "https://millermeeks.house.gov/: {'/media/press-releases'}\n",
      "https://miller.house.gov/: {'/media/press-releases'}\n",
      "https://reschenthaler.house.gov/: {'/media/press-releases'}\n",
      "https://garretgraves.house.gov/: {'/media-center/press-releases'}\n",
      "https://dankildee.house.gov: {'/media/press-releases'}\n",
      "https://salazar.house.gov: {'/media/press-releases'}\n",
      "https://palmer.house.gov/: {'/media-center/press-releases', 'https://palmer.house.gov/media-center/press-releases'}\n",
      "https://fletcher.house.gov: {'/news/documentquery.aspx?DocumentTypeID=27'}\n",
      "https://desaulnier.house.gov/: {'/media-center/press-releases'}\n",
      "https://swalwell.house.gov: {'/media-center/press-releases'}\n",
      "https://golden.house.gov: {'/media/press-releases'}\n",
      "https://kim.house.gov/: {'/media/press-releases'}\n",
      "https://issa.house.gov: {'/media/press-releases'}\n",
      "https://meng.house.gov: {'/media-center/press-releases'}\n",
      "https://luria.house.gov: {'/media/press-releases'}\n"
     ]
    },
    {
     "name": "stdout",
     "output_type": "stream",
     "text": [
      "https://sablan.house.gov/: set()\n",
      "https://gibbs.house.gov/: {'/media-center/press-releases'}\n",
      "https://mast.house.gov: {'/press-releases'}\n",
      "https://moulton.house.gov/: set()\n",
      "https://castro.house.gov: {'https://castro.house.gov/media-center/press-releases'}\n",
      "https://schakowsky.house.gov: {'/media/press-releases'}\n",
      "https://delgado.house.gov: {'/media/press-releases'}\n",
      "https://bluntrochester.house.gov: set()\n",
      "https://kustoff.house.gov: {'/media/press-releases'}\n",
      "https://johnjoyce.house.gov/: {'/news/documentquery.aspx?DocumentTypeID=27'}\n",
      "https://pascrell.house.gov/: {'/news/documentquery.aspx?DocumentTypeID=27'}\n",
      "https://stanton.house.gov/: {'/media/press-releases'}\n",
      "https://harshbarger.house.gov: {'/media/press-releases'}\n",
      "https://bush.house.gov: {'/media/press-releases'}\n",
      "https://scalise.house.gov/: {'/media/press-releases'}\n",
      "https://larsen.house.gov: {'/news/documentquery.aspx?DocumentTypeID=27'}\n",
      "https://hinson.house.gov: {'/media/press-releases'}\n",
      "https://dean.house.gov: {'/press-releases'}\n",
      "https://timryan.house.gov/: {'/media/press-releases'}\n",
      "https://mikethompson.house.gov/: {'/newsroom/press-releases'}\n",
      "https://babin.house.gov: {'/news/documentquery.aspx?DocumentTypeID=27'}\n",
      "https://underwood.house.gov/: {'/media/press-releases'}\n",
      "https://desjarlais.house.gov/: set()\n",
      "https://casten.house.gov: {'/media/press-releases'}\n",
      "https://ferguson.house.gov: {'/news/documentquery.aspx?DocumentTypeID=27'}\n",
      "https://huffman.house.gov: set()\n",
      "https://matsui.house.gov: {'/news/documentquery.aspx?DocumentTypeID=27'}\n",
      "https://nadler.house.gov: {'/news/documentquery.aspx?DocumentTypeID=1753'}\n",
      "https://algreen.house.gov: {'/press-releases'}\n",
      "https://fitzpatrick.house.gov/: {'/press-releases'}\n",
      "https://wilson.house.gov/: set()\n",
      "https://feenstra.house.gov: {'/media/press-releases'}\n",
      "https://sarbanes.house.gov/: {'/media-center/press-releases'}\n",
      "https://clayhiggins.house.gov: {'/media/press-releases'}\n",
      "https://vela.house.gov: {'/press-release'}\n",
      "https://wittman.house.gov/: {'/news/documentquery.aspx?DocumentTypeID=2670'}\n",
      "https://greene.house.gov: {'/media/press-releases'}\n",
      "https://delbene.house.gov: {'/news/documentquery.aspx?DocumentTypeID=27'}\n",
      "https://ocasio-cortez.house.gov/: {'/media/press-releases'}\n",
      "https://luetkemeyer.house.gov/: {'/news/documentquery.aspx?DocumentTypeID=2270'}\n",
      "https://curtis.house.gov/: {'https://curtis.house.gov/category/press-releases/'}\n",
      "https://lucas.house.gov: {'/news/press-releases'}\n",
      "https://evans.house.gov/: {'/media-center/press-releases'}\n",
      "https://garamendi.house.gov/: {'/media/press-releases'}\n",
      "https://lynch.house.gov/: {'/press-releases'}\n",
      "https://fischbach.house.gov: {'/media/press-releases'}\n",
      "https://frankel.house.gov: {'/news/documentquery.aspx?DocumentTypeID=27'}\n",
      "https://perlmutter.house.gov/: {'/news/documentquery.aspx?DocumentTypeID=27'}\n",
      "https://lofgren.house.gov/: {'/media/press-releases'}\n",
      "https://murphy.house.gov: {'/news/documentquery.aspx?DocumentTypeID=27'}\n",
      "https://westerman.house.gov/: set()\n",
      "https://keating.house.gov/: set()\n",
      "https://sherrill.house.gov/: {'/media/press-releases'}\n",
      "https://gimenez.house.gov: {'/media/press-releases'}\n",
      "https://huizenga.house.gov/: {'/News/DocumentQuery.aspx?DocumentTypeID=2041'}\n",
      "https://bera.house.gov: {'/media-center/press-releases'}\n",
      "https://doggett.house.gov: set()\n",
      "https://sires.house.gov: {'/media-center/press-releases'}\n",
      "https://womack.house.gov/: {'/News/DocumentQuery.aspx?DocumentTypeID=2067'}\n",
      "https://armstrong.house.gov: {'/media/press-releases'}\n",
      "https://buddycarter.house.gov/: {'/news/documentquery.aspx?DocumentTypeID=27'}\n",
      "https://cole.house.gov: {'/media-center/press-releases'}\n",
      "https://clyde.house.gov: {'/media/press-releases'}\n",
      "https://adams.house.gov: {'/media-center/press-releases'}\n",
      "https://jeffduncan.house.gov/: {'/media/press-releases'}\n",
      "https://norman.house.gov: {'/news/documentquery.aspx?DocumentTypeID=27'}\n",
      "https://norcross.house.gov: set()\n",
      "https://latta.house.gov/: {'/News/DocumentQuery.aspx?DocumentTypeID=1456'}\n",
      "https://weber.house.gov: {'/news/documentquery.aspx?DocumentTypeID=27'}\n",
      "https://allred.house.gov/: {'/media/press-releases'}\n",
      "https://chuygarcia.house.gov/: {'/media/press-releases'}\n",
      "https://vanduyne.house.gov: {'/media/press-releases'}\n",
      "https://balderson.house.gov: {'/news/documentquery.aspx?DocumentTypeID=27'}\n",
      "https://jhb.house.gov/: {'/News/DocumentQuery.aspx?DocumentTypeID=2113'}\n",
      "https://lieu.house.gov/: {'/media-center/press-releases'}\n",
      "https://wagner.house.gov: {'/media-center/press-releases'}\n",
      "https://joewilson.house.gov/: {'/media-center/press-releases'}\n",
      "https://brooks.house.gov/: set()\n",
      "https://gregmurphy.house.gov: {'/media/press-releases'}\n",
      "https://dustyjohnson.house.gov/: {'/media/press-releases'}\n",
      "https://tonko.house.gov/: {'/news/documentquery.aspx?DocumentTypeID=27'}\n",
      "https://mcclintock.house.gov/: {'/newsroom/press-releases'}\n",
      "https://sherman.house.gov: {'/media-center', '/media-center/press-releases'}\n",
      "https://ritchietorres.house.gov: {'/media/press-releases'}\n",
      "https://grothman.house.gov: {'/news/documentquery.aspx?DocumentTypeID=27'}\n",
      "https://cohen.house.gov/: {'/media-center/press-releases'}\n",
      "https://ruiz.house.gov: {'/media-center/press-releases'}\n",
      "https://sessions.house.gov: {'/media/press-releases'}\n",
      "https://davidscott.house.gov/: {'/News/DocumentQuery.aspx?DocumentTypeID=377'}\n",
      "https://porter.house.gov/: set()\n",
      "https://simpson.house.gov: {'/News/DocumentQuery.aspx?DocumentTypeID=1515'}\n",
      "https://obernolte.house.gov: {'/media/press-releases'}\n",
      "https://estes.house.gov/: {'/news/documentquery.aspx?DocumentTypeID=27'}\n",
      "https://bobbyscott.house.gov: {'/media-center/press-releases'}\n",
      "https://juliabrownley.house.gov: {'https://juliabrownley.house.gov/category/press-releases/'}\n",
      "https://gonzalez.house.gov: {'/media/press-releases'}\n",
      "https://danbishop.house.gov: {'/media/press-releases'}\n",
      "https://bowman.house.gov: {'/press-releases'}\n",
      "https://scottpeters.house.gov: {'/media-center/press-releases'}\n",
      "https://mckinley.house.gov/: {'/news/documentquery.aspx?DocumentTypeID=27'}\n",
      "https://mooney.house.gov/: {'/media-center/press-releases'}\n",
      "https://maloney.house.gov/: {'/news/press-releases'}\n",
      "https://benniethompson.house.gov/: {'/media/press-releases'}\n",
      "https://teddeutch.house.gov/: set()\n",
      "https://lindasanchez.house.gov/: {'/media-center/press-releases'}\n",
      "https://cooper.house.gov/: {'/media-center/press-releases'}\n",
      "https://sylviagarcia.house.gov/: {'/media/press-releases'}\n",
      "https://tiffany.house.gov/: {'/media/press-releases'}\n",
      "https://bost.house.gov/: {'/media-center/press-releases'}\n",
      "https://lamalfa.house.gov: {'/media-center/press-releases'}\n",
      "https://larson.house.gov/: {'/media-center/press-releases'}\n",
      "https://rosendale.house.gov: {'/news/documentquery.aspx?DocumentTypeID=27'}\n",
      "https://pingree.house.gov/: set()\n",
      "https://beyer.house.gov: {'/news/documentquery.aspx?DocumentTypeID=27'}\n",
      "https://steel.house.gov: {'/media/press-releases'}\n",
      "https://schneider.house.gov: {'/media/press-releases'}\n",
      "https://schrader.house.gov/: {'/news/documentquery.aspx?DocumentTypeID=2382'}\n",
      "https://butterfield.house.gov: {'/media-center/press-releases'}\n",
      "https://stewart.house.gov: {'/news/documentquery.aspx?DocumentTypeID=27'}\n",
      "https://mcclain.house.gov: {'/media/press-releases'}\n",
      "https://davids.house.gov/: {'/media/press-releases'}\n",
      "https://costa.house.gov/: {'/media-center/press-releases'}\n",
      "https://suozzi.house.gov: {'/media/press-releases'}\n",
      "https://crow.house.gov/: {'/media/press-releases'}\n",
      "https://moolenaar.house.gov/: {'/media-center/press-releases'}\n",
      "https://clarke.house.gov/: {'https://clarke.house.gov/category/press-releases/'}\n",
      "https://houlahan.house.gov/: {'/news/documentquery.aspx?DocumentTypeID=27'}\n",
      "https://bucshon.house.gov/: {'/news/documentquery.aspx?DocumentTypeID=27'}\n",
      "https://fallon.house.gov: {'/media/press-releases'}\n",
      "https://neal.house.gov/: {'/press-releases'}\n",
      "https://ross.house.gov: {'/media/press-releases'}\n",
      "https://chrissmith.house.gov/: set()\n",
      "https://lamborn.house.gov/: {'/media/press-releases'}\n",
      "https://kevinmccarthy.house.gov/: {'/media-center/press-releases'}\n",
      "https://davis.house.gov: set()\n",
      "https://axne.house.gov/: {'/media/press-releases'}\n",
      "https://pfluger.house.gov: {'/media/press-releases'}\n",
      "https://lowenthal.house.gov: {'/media/press-releases'}\n",
      "https://higgins.house.gov: {'/press-releases/archived-press-releases-2008', '/media-center/press-releases'}\n"
     ]
    },
    {
     "name": "stdout",
     "output_type": "stream",
     "text": [
      "https://keller.house.gov: {'/media/press-releases'}\n",
      "https://carter.house.gov/: {'/news/press-releases'}\n",
      "https://langevin.house.gov: {'/press-releases'}\n",
      "https://scanlon.house.gov/: set()\n",
      "https://escobar.house.gov: {'/news/documentquery.aspx?DocumentTypeID=27'}\n",
      "https://schweikert.house.gov/: {'/media-center/press-releases'}\n",
      "https://demings.house.gov: {'/media/press-releases'}\n",
      "https://takano.house.gov: {'https://takano.house.gov/newsroom/press-releases'}\n",
      "https://zeldin.house.gov/: {'/media-center/press-releases'}\n",
      "https://bilirakis.house.gov/: {'/media/press-releases'}\n",
      "https://rutherford.house.gov: {'/media/press-releases'}\n",
      "https://meijer.house.gov: {'/media/press-releases'}\n",
      "https://donyoung.house.gov/: {'/News/'}\n",
      "https://gonzales.house.gov: {'/media/press-releases'}\n",
      "https://gooden.house.gov: {'/media/press-releases'}\n",
      "https://thompson.house.gov: {'/media-center/press-releases'}\n",
      "https://smucker.house.gov/: {'/media/press-releases'}\n",
      "https://billjohnson.house.gov/: {'/News/DocumentQuery.aspx?DocumentTypeID=2085', '/news/documentquery.aspx?DocumentTypeID=2085'}\n",
      "https://strickland.house.gov: {'/media/press-releases'}\n",
      "https://harder.house.gov/: {'/media/press-releases'}\n",
      "https://anthonygonzalez.house.gov: {'/news/documentquery.aspx?DocumentTypeID=27'}\n",
      "https://cloud.house.gov: set()\n",
      "https://boyle.house.gov/: {'/media-center/press-releases'}\n",
      "https://espaillat.house.gov: {'/media/press-releases'}\n",
      "https://gwenmoore.house.gov: {'/news/documentquery.aspx?DocumentTypeID=27'}\n",
      "https://susielee.house.gov: {'/media/press-releases'}\n",
      "https://fitzgerald.house.gov: {'/media/press-releases'}\n",
      "https://fortenberry.house.gov/: {'/news/press-releases'}\n",
      "https://mikejohnson.house.gov: {'/news/documentsingle.aspx?DocumentID=888', '/news/documentquery.aspx?DocumentTypeID=1951', '/news/documentsingle.aspx?DocumentID=875', '/news/documentquery.aspx?DocumentTypeID=27', '/news/documentsingle.aspx?DocumentID=884', '/news/documentsingle.aspx?DocumentID=889', '/news/documentsingle.aspx?DocumentID=874'}\n",
      "https://gaetz.house.gov: {'/media/press-releases'}\n",
      "https://owens.house.gov: {'/media/press-releases'}\n",
      "https://mcnerney.house.gov/: {'/media-center/press-releases'}\n",
      "https://steil.house.gov: {'/media/press-releases'}\n",
      "https://hartzler.house.gov/: {'/media-center/press-releases'}\n",
      "https://perry.house.gov/: set()\n",
      "https://rice.house.gov: {'/press-releases'}\n",
      "https://andylevin.house.gov/: {'/media/press-releases'}\n",
      "https://cicilline.house.gov/: {'/press-releases'}\n",
      "https://gonzalez-colon.house.gov: {'/media/press-releases'}\n",
      "https://anthonybrown.house.gov: {'/news/documentsingle.aspx?DocumentID=1377', '/news/documentquery.aspx?DocumentTypeID=27', '/news/documentsingle.aspx?DocumentID=1376'}\n",
      "https://rubengallego.house.gov/: {'/media-center/press-releases'}\n",
      "https://malinowski.house.gov/: {'/media/press-releases'}\n",
      "https://wexton.house.gov/: {'/news/documentquery.aspx?DocumentTypeID=27'}\n",
      "https://amodei.house.gov: set()\n",
      "https://malliotakis.house.gov: {'/media/press-releases'}\n",
      "https://kelly.house.gov: {'/press-releases'}\n",
      "https://walorski.house.gov: set()\n",
      "https://gomez.house.gov/: {'/news/documentquery.aspx?DocumentTypeID=27'}\n",
      "https://blakemoore.house.gov: {'/media/press-releases'}\n",
      "https://carbajal.house.gov: {'/news/documentquery.aspx?DocumentTypeID=27'}\n",
      "https://spanberger.house.gov: {'/news/documentsingle.aspx?DocumentID=3852', '/news/documentquery.aspx?DocumentTypeID=27', '/news/documentsingle.aspx?DocumentID=3851', '/news/documentsingle.aspx?DocumentID=3849', '/news/documentsingle.aspx?DocumentID=3850', '/news/documentsingle.aspx?DocumentID=3839', '/news/documentsingle.aspx?DocumentID=3848'}\n",
      "https://timmons.house.gov/: {'/media/press-releases'}\n",
      "https://walberg.house.gov/: {'/media/press-releases'}\n",
      "https://carson.house.gov/: {'/newsroom/press-releases'}\n",
      "https://beatty.house.gov: {'/media-center/press-releases'}\n",
      "https://burgess.house.gov/: {'/News/DocumentQuery.aspx?DocumentTypeID=75'}\n",
      "https://baird.house.gov/: {'/news/documentquery.aspx?DocumentTypeID=27'}\n",
      "https://waters.house.gov: {'/media-center/press-releases'}\n",
      "https://mcgovern.house.gov/: {'/news/documentquery.aspx?DocumentTypeID=2472'}\n",
      "https://lahood.house.gov/: set()\n",
      "https://khanna.house.gov: {'/media/press-releases'}\n",
      "https://letlow.house.gov: {'/media/press-releases'}\n",
      "https://stauber.house.gov: {'/media/press-releases'}\n",
      "https://palazzo.house.gov/: {'/News/DocumentQuery.aspx?DocumentTypeID=2519'}\n",
      "https://robinkelly.house.gov/: {'/media-center/press-releases'}\n",
      "https://kevinbrady.house.gov/: {'/news/documentquery.aspx?DocumentTypeID=2657'}\n",
      "https://ohalleran.house.gov: {'/media/press-releases'}\n",
      "https://foxx.house.gov/: {'/news/documentquery.aspx?DocumentTypeID=2367'}\n",
      "https://nehls.house.gov: {'/media/press-releases'}\n",
      "https://bishop.house.gov/: {'/media-center/press-releases'}\n",
      "https://krishnamoorthi.house.gov: {'/media/press-releases'}\n",
      "https://turner.house.gov/: {'/frontpage?qt-home_page_tabs=0#qt-home_page_tabs', '/media-center/press-releases'}\n",
      "https://cuellar.house.gov/: {'/News/DocumentQuery.aspx?DocumentTypeID=1232'}\n",
      "https://plaskett.house.gov/: {'/news/documentquery.aspx?documenttypeid=27'}\n",
      "https://pocan.house.gov: {'/media-center/press-releases'}\n",
      "https://gosar.house.gov/: {'/news/documentquery.aspx?DocumentTypeID=27'}\n",
      "https://ruppersberger.house.gov: {'/news-room/press-releases'}\n",
      "https://carl.house.gov: {'/media/press-releases'}\n",
      "https://pressley.house.gov: {'/media/press-releases'}\n",
      "https://degette.house.gov: {'/newsroom/press-releases'}\n",
      "https://valadao.house.gov: {'/news/documentquery.aspx?DocumentTypeID=27'}\n",
      "https://rush.house.gov: {'/media-center/press-releases'}\n",
      "https://aguilar.house.gov/: {'/media-center/press-releases'}\n",
      "https://yarmuth.house.gov/: set()\n",
      "https://dunn.house.gov: {'/press-releases'}\n",
      "https://wassermanschultz.house.gov/: {'/news/documentquery.aspx?DocumentTypeID=27'}\n",
      "https://tenney.house.gov/: {'/media/press-releases'}\n",
      "https://graves.house.gov/: {'/media-center?media_type=congress_press_release'}\n",
      "https://kind.house.gov/: {'/media-center/press-releases'}\n",
      "https://delauro.house.gov/: {'/media-center/press-releases'}\n",
      "https://cawthorn.house.gov: {'/media/press-releases'}\n",
      "https://harris.house.gov/: {'/media/press-releases'}\n",
      "https://davidson.house.gov/: {'/press-releases'}\n",
      "https://cheney.house.gov: {'https://cheney.house.gov/category/press_release/'}\n",
      "https://radewagen.house.gov/: {'/media-center/press-releases'}\n",
      "https://payne.house.gov: {'/media/press-releases'}\n",
      "https://blumenauer.house.gov/: {'/media-center/press-releases'}\n",
      "https://raskin.house.gov: {'/press-releases'}\n",
      "https://laturner.house.gov: {'/media/press-releases'}\n",
      "https://wild.house.gov: {'/media/press-releases'}\n",
      "https://hudson.house.gov: {'/frontpage?qt-keep_up_to_date_with_me=0#qt-keep_up_to_date_with_me', '/media/press-releases'}\n",
      "https://mann.house.gov: {'/media/press-releases'}\n",
      "https://meeks.house.gov: {'/media/press-releases'}\n",
      "https://hollingsworth.house.gov: set()\n",
      "https://mariodiazbalart.house.gov/: {'/media-center/press-releases'}\n",
      "https://sewell.house.gov/: {'/frontpage?qt-home_page_tabs=0#qt-home_page_tabs', '/media-center/press-releases'}\n",
      "https://stefanik.house.gov/: {'/media-center/press-releases'}\n",
      "https://kahele.house.gov: {'/media/press-releases'}\n",
      "https://good.house.gov: {'/media/press-releases'}\n",
      "https://boebert.house.gov: {'/media/press-releases'}\n",
      "https://crist.house.gov: {'/news/documentquery.aspx?DocumentTypeID=27'}\n",
      "https://connolly.house.gov/: {'/news/documentquery.aspx?DocumentTypeID=1952'}\n",
      "https://donalds.house.gov: {'/news/documentquery.aspx?DocumentTypeID=27'}\n",
      "https://hankjohnson.house.gov/: {'/media-center/press-releases'}\n",
      "https://aderholt.house.gov/: {'/media-center/press-releases'}\n",
      "https://mrvan.house.gov: {'/media/press-releases'}\n",
      "https://schrier.house.gov: {'/media/press-releases'}\n",
      "https://roybal-allard.house.gov: {'#tab2', '/news/documentquery.aspx?DocumentTypeID=1465'}\n",
      "https://jacksonlee.house.gov/: {'/media-center/press-releases'}\n",
      "https://trone.house.gov: {'https://trone.house.gov/category/congress_press_release/'}\n",
      "https://jeffries.house.gov: {'https://jeffries.house.gov/category/press-release/'}\n",
      "https://foster.house.gov: {'/media/press-releases'}\n",
      "https://hagedorn.house.gov/: {'/media/press-releases'}\n",
      "https://ebjohnson.house.gov: {'/media-center/press-releases'}\n"
     ]
    },
    {
     "name": "stdout",
     "output_type": "stream",
     "text": [
      "https://massie.house.gov: set()\n",
      "https://soto.house.gov: {'/media/press-releases'}\n",
      "https://mullin.house.gov: {'/news/documentquery.aspx?DocumentTypeID=27'}\n",
      "https://spartz.house.gov: {'/media/press-releases'}\n",
      "https://kaptur.house.gov/: {'/media-center/press-releases'}\n",
      "https://kirkpatrick.house.gov/: set()\n",
      "https://mcbath.house.gov: {'/press-releases'}\n",
      "https://cammack.house.gov: {'/media/press-releases'}\n",
      "https://gallagher.house.gov: {'/media/press-releases'}\n",
      "https://hill.house.gov/: {'/news/documentquery.aspx?DocumentTypeID=27'}\n",
      "https://jacobs.house.gov: {'/media/press-releases'}\n",
      "https://hayes.house.gov: {'/media/press-releases'}\n",
      "https://guest.house.gov: {'/media/press-releases'}\n",
      "https://joyce.house.gov: {'/press-releases'}\n",
      "https://bentz.house.gov: {'/media/press-releases'}\n",
      "https://lawrence.house.gov/: {'/media-center/press-releases'}\n",
      "https://welch.house.gov/: {'/media-center/press-releases'}\n",
      "https://pappas.house.gov: {'/media/press-releases'}\n",
      "https://vargas.house.gov: {'/media-center/press-releases'}\n",
      "https://gohmert.house.gov/: {'/News/DocumentQuery.aspx?DocumentTypeID=1954'}\n",
      "https://burchett.house.gov: {'/media/press-releases'}\n",
      "https://titus.house.gov/: {'/news/documentquery.aspx?DocumentTypeID=27'}\n",
      "https://phillips.house.gov/: {'/media/press-releases'}\n",
      "https://velazquez.house.gov: {'/media-center/press-releases'}\n",
      "https://torres.house.gov/: {'/media-center/press-releases'}\n",
      "https://wenstrup.house.gov: {'/news/documentquery.aspx?DocumentTypeID=2491'}\n",
      "https://neguse.house.gov/: {'https://neguse.house.gov/media/press-releases'}\n",
      "https://speier.house.gov/: {'/press-releases'}\n",
      "https://barrymoore.house.gov: {'/media/press-releases'}\n",
      "https://gottheimer.house.gov: {'/news/documentquery.aspx?DocumentTypeID=27'}\n",
      "https://meuser.house.gov: {'/media/press-releases'}\n",
      "https://markgreen.house.gov/: {'/press-releases'}\n",
      "https://sannicolas.house.gov: set()\n",
      "https://garbarino.house.gov: {'/media/press-releases'}\n",
      "https://correa.house.gov: {'/press/table'}\n",
      "https://rouzer.house.gov/: {'/press-releases'}\n",
      "https://craig.house.gov: {'/media/press-releases'}\n",
      "https://jones.house.gov: {'/media/press-releases'}\n",
      "https://veasey.house.gov: {'/media-center/press-releases'}\n",
      "https://hoyer.house.gov/: set()\n",
      "https://lee.house.gov/: set()\n"
     ]
    }
   ],
   "source": [
    "from typing import Dict, Set\n",
    "\n",
    "press_releases: Dict[str, Set[str]] = {}\n",
    "\n",
    "for house_url in good_urls:\n",
    "    html = requests.get(house_url).text\n",
    "    soup = BeautifulSoup(html, 'html5lib')\n",
    "    pr_links = {a['href'] for a in soup('a') if 'press releases' in a.text.lower()}\n",
    "    print(f\"{house_url}: {pr_links}\")\n",
    "    press_releases[house_url] = pr_links"
   ]
  },
  {
   "cell_type": "markdown",
   "metadata": {},
   "source": [
    "### 2.5  Paragraph에 keyword가 존재하는지 확인"
   ]
  },
  {
   "cell_type": "code",
   "execution_count": 15,
   "metadata": {},
   "outputs": [],
   "source": [
    "def paragraph_mentions(text: str, keyword: str) -> bool:\n",
    "    \"\"\"\n",
    "    Returns True if a <p> inside the text mentions {keyword}\n",
    "    \"\"\"\n",
    "    soup = BeautifulSoup(text, 'html5lib')\n",
    "    paragraphs = [p.get_text() for p in soup('p')]\n",
    "\n",
    "    return any(keyword.lower() in paragraph.lower()\n",
    "               for paragraph in paragraphs)"
   ]
  },
  {
   "cell_type": "code",
   "execution_count": 16,
   "metadata": {},
   "outputs": [],
   "source": [
    "text = \"\"\"<body><h1>Facebook</h1><p>Twitter</p>\"\"\"\n",
    "assert paragraph_mentions(text, \"twitter\")       # is inside a <p>\n",
    "assert not paragraph_mentions(text, \"facebook\")  # not inside a <p>"
   ]
  },
  {
   "cell_type": "markdown",
   "metadata": {},
   "source": [
    "### 2.6  어떤 의원의 보도자료에 data를 언급했는지 찾기"
   ]
  },
  {
   "cell_type": "code",
   "execution_count": 17,
   "metadata": {
    "scrolled": true
   },
   "outputs": [
    {
     "name": "stdout",
     "output_type": "stream",
     "text": [
      "https://panetta.house.gov\n",
      "https://banks.house.gov\n",
      "https://reed.house.gov/\n",
      "https://gibbs.house.gov/\n",
      "https://johnjoyce.house.gov/\n",
      "https://bush.house.gov\n",
      "https://allred.house.gov/\n",
      "https://lieu.house.gov/\n",
      "https://davidscott.house.gov/\n",
      "https://mcclain.house.gov\n",
      "https://higgins.house.gov\n",
      "https://donyoung.house.gov/\n",
      "https://anthonygonzalez.house.gov\n",
      "https://gwenmoore.house.gov\n",
      "https://kelly.house.gov\n",
      "https://gomez.house.gov/\n",
      "https://ohalleran.house.gov\n",
      "https://boebert.house.gov\n"
     ]
    }
   ],
   "source": [
    "for house_url, pr_links in press_releases.items():\n",
    "    for pr_link in pr_links:\n",
    "        url = f\"{house_url}/{pr_link}\"\n",
    "        text = requests.get(url).text\n",
    "\n",
    "        if paragraph_mentions(text, 'data'):\n",
    "            print(f\"{house_url}\")\n",
    "            break  # done with this house_url"
   ]
  },
  {
   "cell_type": "markdown",
   "metadata": {},
   "source": [
    "## 3. GitHub API 사용하기"
   ]
  },
  {
   "cell_type": "code",
   "execution_count": 18,
   "metadata": {},
   "outputs": [
    {
     "name": "stdout",
     "output_type": "stream",
     "text": [
      "Requirement already satisfied: python-dateutil in c:\\users\\fermi_2\\.conda\\envs\\data_mining\\lib\\site-packages (2.8.1)\n",
      "Requirement already satisfied: six>=1.5 in c:\\users\\fermi_2\\.conda\\envs\\data_mining\\lib\\site-packages (from python-dateutil) (1.15.0)\n"
     ]
    }
   ],
   "source": [
    "!pip install python-dateutil"
   ]
  },
  {
   "cell_type": "markdown",
   "metadata": {},
   "source": [
    "### 3.1 JSON 객체 파싱"
   ]
  },
  {
   "cell_type": "code",
   "execution_count": 19,
   "metadata": {},
   "outputs": [],
   "source": [
    "import requests, json\n",
    "\n",
    "github_user = \"joelgrus\"\n",
    "endpoint = f\"https://api.github.com/users/{github_user}/repos\"\n",
    "\n",
    "repos = json.loads(requests.get(endpoint).text)"
   ]
  },
  {
   "cell_type": "markdown",
   "metadata": {},
   "source": [
    "### 3.2 월별/요일별 저장소 생성 통계"
   ]
  },
  {
   "cell_type": "code",
   "execution_count": 20,
   "metadata": {},
   "outputs": [],
   "source": [
    "from collections import Counter\n",
    "from dateutil.parser import parse\n",
    "\n",
    "dates = [parse(repo[\"created_at\"]) for repo in repos]\n",
    "month_counts = Counter(date.month for date in dates)\n",
    "weekday_counts = Counter(date.weekday() for date in dates)"
   ]
  },
  {
   "cell_type": "markdown",
   "metadata": {},
   "source": [
    "### 3.3 가장 최근에 만들어진 저장소 5개에 사용된 언어"
   ]
  },
  {
   "cell_type": "code",
   "execution_count": 21,
   "metadata": {},
   "outputs": [],
   "source": [
    "last_5_repositories = sorted(repos,\n",
    "                                key=lambda r: r[\"pushed_at\"],\n",
    "                                reverse=True)[:5]\n",
    "\n",
    "last_5_languages = [repo[\"language\"]\n",
    "                    for repo in last_5_repositories]"
   ]
  },
  {
   "cell_type": "code",
   "execution_count": 22,
   "metadata": {},
   "outputs": [
    {
     "name": "stdout",
     "output_type": "stream",
     "text": [
      "[{'id': 26382146, 'node_id': 'MDEwOlJlcG9zaXRvcnkyNjM4MjE0Ng==', 'name': 'data-science-from-scratch', 'full_name': 'joelgrus/data-science-from-scratch', 'private': False, 'owner': {'login': 'joelgrus', 'id': 1308313, 'node_id': 'MDQ6VXNlcjEzMDgzMTM=', 'avatar_url': 'https://avatars.githubusercontent.com/u/1308313?v=4', 'gravatar_id': '', 'url': 'https://api.github.com/users/joelgrus', 'html_url': 'https://github.com/joelgrus', 'followers_url': 'https://api.github.com/users/joelgrus/followers', 'following_url': 'https://api.github.com/users/joelgrus/following{/other_user}', 'gists_url': 'https://api.github.com/users/joelgrus/gists{/gist_id}', 'starred_url': 'https://api.github.com/users/joelgrus/starred{/owner}{/repo}', 'subscriptions_url': 'https://api.github.com/users/joelgrus/subscriptions', 'organizations_url': 'https://api.github.com/users/joelgrus/orgs', 'repos_url': 'https://api.github.com/users/joelgrus/repos', 'events_url': 'https://api.github.com/users/joelgrus/events{/privacy}', 'received_events_url': 'https://api.github.com/users/joelgrus/received_events', 'type': 'User', 'site_admin': False}, 'html_url': 'https://github.com/joelgrus/data-science-from-scratch', 'description': 'code for Data Science From Scratch book', 'fork': False, 'url': 'https://api.github.com/repos/joelgrus/data-science-from-scratch', 'forks_url': 'https://api.github.com/repos/joelgrus/data-science-from-scratch/forks', 'keys_url': 'https://api.github.com/repos/joelgrus/data-science-from-scratch/keys{/key_id}', 'collaborators_url': 'https://api.github.com/repos/joelgrus/data-science-from-scratch/collaborators{/collaborator}', 'teams_url': 'https://api.github.com/repos/joelgrus/data-science-from-scratch/teams', 'hooks_url': 'https://api.github.com/repos/joelgrus/data-science-from-scratch/hooks', 'issue_events_url': 'https://api.github.com/repos/joelgrus/data-science-from-scratch/issues/events{/number}', 'events_url': 'https://api.github.com/repos/joelgrus/data-science-from-scratch/events', 'assignees_url': 'https://api.github.com/repos/joelgrus/data-science-from-scratch/assignees{/user}', 'branches_url': 'https://api.github.com/repos/joelgrus/data-science-from-scratch/branches{/branch}', 'tags_url': 'https://api.github.com/repos/joelgrus/data-science-from-scratch/tags', 'blobs_url': 'https://api.github.com/repos/joelgrus/data-science-from-scratch/git/blobs{/sha}', 'git_tags_url': 'https://api.github.com/repos/joelgrus/data-science-from-scratch/git/tags{/sha}', 'git_refs_url': 'https://api.github.com/repos/joelgrus/data-science-from-scratch/git/refs{/sha}', 'trees_url': 'https://api.github.com/repos/joelgrus/data-science-from-scratch/git/trees{/sha}', 'statuses_url': 'https://api.github.com/repos/joelgrus/data-science-from-scratch/statuses/{sha}', 'languages_url': 'https://api.github.com/repos/joelgrus/data-science-from-scratch/languages', 'stargazers_url': 'https://api.github.com/repos/joelgrus/data-science-from-scratch/stargazers', 'contributors_url': 'https://api.github.com/repos/joelgrus/data-science-from-scratch/contributors', 'subscribers_url': 'https://api.github.com/repos/joelgrus/data-science-from-scratch/subscribers', 'subscription_url': 'https://api.github.com/repos/joelgrus/data-science-from-scratch/subscription', 'commits_url': 'https://api.github.com/repos/joelgrus/data-science-from-scratch/commits{/sha}', 'git_commits_url': 'https://api.github.com/repos/joelgrus/data-science-from-scratch/git/commits{/sha}', 'comments_url': 'https://api.github.com/repos/joelgrus/data-science-from-scratch/comments{/number}', 'issue_comment_url': 'https://api.github.com/repos/joelgrus/data-science-from-scratch/issues/comments{/number}', 'contents_url': 'https://api.github.com/repos/joelgrus/data-science-from-scratch/contents/{+path}', 'compare_url': 'https://api.github.com/repos/joelgrus/data-science-from-scratch/compare/{base}...{head}', 'merges_url': 'https://api.github.com/repos/joelgrus/data-science-from-scratch/merges', 'archive_url': 'https://api.github.com/repos/joelgrus/data-science-from-scratch/{archive_format}{/ref}', 'downloads_url': 'https://api.github.com/repos/joelgrus/data-science-from-scratch/downloads', 'issues_url': 'https://api.github.com/repos/joelgrus/data-science-from-scratch/issues{/number}', 'pulls_url': 'https://api.github.com/repos/joelgrus/data-science-from-scratch/pulls{/number}', 'milestones_url': 'https://api.github.com/repos/joelgrus/data-science-from-scratch/milestones{/number}', 'notifications_url': 'https://api.github.com/repos/joelgrus/data-science-from-scratch/notifications{?since,all,participating}', 'labels_url': 'https://api.github.com/repos/joelgrus/data-science-from-scratch/labels{/name}', 'releases_url': 'https://api.github.com/repos/joelgrus/data-science-from-scratch/releases{/id}', 'deployments_url': 'https://api.github.com/repos/joelgrus/data-science-from-scratch/deployments', 'created_at': '2014-11-09T02:31:24Z', 'updated_at': '2021-05-31T10:34:53Z', 'pushed_at': '2021-04-27T23:04:07Z', 'git_url': 'git://github.com/joelgrus/data-science-from-scratch.git', 'ssh_url': 'git@github.com:joelgrus/data-science-from-scratch.git', 'clone_url': 'https://github.com/joelgrus/data-science-from-scratch.git', 'svn_url': 'https://github.com/joelgrus/data-science-from-scratch', 'homepage': None, 'size': 769, 'stargazers_count': 6019, 'watchers_count': 6019, 'language': 'Python', 'has_issues': True, 'has_projects': True, 'has_downloads': True, 'has_wiki': True, 'has_pages': False, 'forks_count': 3476, 'mirror_url': None, 'archived': False, 'disabled': False, 'open_issues_count': 68, 'license': {'key': 'mit', 'name': 'MIT License', 'spdx_id': 'MIT', 'url': 'https://api.github.com/licenses/mit', 'node_id': 'MDc6TGljZW5zZTEz'}, 'forks': 3476, 'open_issues': 68, 'watchers': 6019, 'default_branch': 'master'}, {'id': 33576630, 'node_id': 'MDEwOlJlcG9zaXRvcnkzMzU3NjYzMA==', 'name': 'drunken-avenger', 'full_name': 'joelgrus/drunken-avenger', 'private': False, 'owner': {'login': 'joelgrus', 'id': 1308313, 'node_id': 'MDQ6VXNlcjEzMDgzMTM=', 'avatar_url': 'https://avatars.githubusercontent.com/u/1308313?v=4', 'gravatar_id': '', 'url': 'https://api.github.com/users/joelgrus', 'html_url': 'https://github.com/joelgrus', 'followers_url': 'https://api.github.com/users/joelgrus/followers', 'following_url': 'https://api.github.com/users/joelgrus/following{/other_user}', 'gists_url': 'https://api.github.com/users/joelgrus/gists{/gist_id}', 'starred_url': 'https://api.github.com/users/joelgrus/starred{/owner}{/repo}', 'subscriptions_url': 'https://api.github.com/users/joelgrus/subscriptions', 'organizations_url': 'https://api.github.com/users/joelgrus/orgs', 'repos_url': 'https://api.github.com/users/joelgrus/repos', 'events_url': 'https://api.github.com/users/joelgrus/events{/privacy}', 'received_events_url': 'https://api.github.com/users/joelgrus/received_events', 'type': 'User', 'site_admin': False}, 'html_url': 'https://github.com/joelgrus/drunken-avenger', 'description': 'the pelican setup for my blog, as well as all the content', 'fork': False, 'url': 'https://api.github.com/repos/joelgrus/drunken-avenger', 'forks_url': 'https://api.github.com/repos/joelgrus/drunken-avenger/forks', 'keys_url': 'https://api.github.com/repos/joelgrus/drunken-avenger/keys{/key_id}', 'collaborators_url': 'https://api.github.com/repos/joelgrus/drunken-avenger/collaborators{/collaborator}', 'teams_url': 'https://api.github.com/repos/joelgrus/drunken-avenger/teams', 'hooks_url': 'https://api.github.com/repos/joelgrus/drunken-avenger/hooks', 'issue_events_url': 'https://api.github.com/repos/joelgrus/drunken-avenger/issues/events{/number}', 'events_url': 'https://api.github.com/repos/joelgrus/drunken-avenger/events', 'assignees_url': 'https://api.github.com/repos/joelgrus/drunken-avenger/assignees{/user}', 'branches_url': 'https://api.github.com/repos/joelgrus/drunken-avenger/branches{/branch}', 'tags_url': 'https://api.github.com/repos/joelgrus/drunken-avenger/tags', 'blobs_url': 'https://api.github.com/repos/joelgrus/drunken-avenger/git/blobs{/sha}', 'git_tags_url': 'https://api.github.com/repos/joelgrus/drunken-avenger/git/tags{/sha}', 'git_refs_url': 'https://api.github.com/repos/joelgrus/drunken-avenger/git/refs{/sha}', 'trees_url': 'https://api.github.com/repos/joelgrus/drunken-avenger/git/trees{/sha}', 'statuses_url': 'https://api.github.com/repos/joelgrus/drunken-avenger/statuses/{sha}', 'languages_url': 'https://api.github.com/repos/joelgrus/drunken-avenger/languages', 'stargazers_url': 'https://api.github.com/repos/joelgrus/drunken-avenger/stargazers', 'contributors_url': 'https://api.github.com/repos/joelgrus/drunken-avenger/contributors', 'subscribers_url': 'https://api.github.com/repos/joelgrus/drunken-avenger/subscribers', 'subscription_url': 'https://api.github.com/repos/joelgrus/drunken-avenger/subscription', 'commits_url': 'https://api.github.com/repos/joelgrus/drunken-avenger/commits{/sha}', 'git_commits_url': 'https://api.github.com/repos/joelgrus/drunken-avenger/git/commits{/sha}', 'comments_url': 'https://api.github.com/repos/joelgrus/drunken-avenger/comments{/number}', 'issue_comment_url': 'https://api.github.com/repos/joelgrus/drunken-avenger/issues/comments{/number}', 'contents_url': 'https://api.github.com/repos/joelgrus/drunken-avenger/contents/{+path}', 'compare_url': 'https://api.github.com/repos/joelgrus/drunken-avenger/compare/{base}...{head}', 'merges_url': 'https://api.github.com/repos/joelgrus/drunken-avenger/merges', 'archive_url': 'https://api.github.com/repos/joelgrus/drunken-avenger/{archive_format}{/ref}', 'downloads_url': 'https://api.github.com/repos/joelgrus/drunken-avenger/downloads', 'issues_url': 'https://api.github.com/repos/joelgrus/drunken-avenger/issues{/number}', 'pulls_url': 'https://api.github.com/repos/joelgrus/drunken-avenger/pulls{/number}', 'milestones_url': 'https://api.github.com/repos/joelgrus/drunken-avenger/milestones{/number}', 'notifications_url': 'https://api.github.com/repos/joelgrus/drunken-avenger/notifications{?since,all,participating}', 'labels_url': 'https://api.github.com/repos/joelgrus/drunken-avenger/labels{/name}', 'releases_url': 'https://api.github.com/repos/joelgrus/drunken-avenger/releases{/id}', 'deployments_url': 'https://api.github.com/repos/joelgrus/drunken-avenger/deployments', 'created_at': '2015-04-08T01:01:47Z', 'updated_at': '2021-04-14T00:12:47Z', 'pushed_at': '2021-04-14T00:12:44Z', 'git_url': 'git://github.com/joelgrus/drunken-avenger.git', 'ssh_url': 'git@github.com:joelgrus/drunken-avenger.git', 'clone_url': 'https://github.com/joelgrus/drunken-avenger.git', 'svn_url': 'https://github.com/joelgrus/drunken-avenger', 'homepage': None, 'size': 13798, 'stargazers_count': 0, 'watchers_count': 0, 'language': 'JavaScript', 'has_issues': True, 'has_projects': True, 'has_downloads': True, 'has_wiki': True, 'has_pages': False, 'forks_count': 0, 'mirror_url': None, 'archived': False, 'disabled': False, 'open_issues_count': 0, 'license': None, 'forks': 0, 'open_issues': 0, 'watchers': 0, 'default_branch': 'master'}, {'id': 314853168, 'node_id': 'MDEwOlJlcG9zaXRvcnkzMTQ4NTMxNjg=', 'name': 'advent2020', 'full_name': 'joelgrus/advent2020', 'private': False, 'owner': {'login': 'joelgrus', 'id': 1308313, 'node_id': 'MDQ6VXNlcjEzMDgzMTM=', 'avatar_url': 'https://avatars.githubusercontent.com/u/1308313?v=4', 'gravatar_id': '', 'url': 'https://api.github.com/users/joelgrus', 'html_url': 'https://github.com/joelgrus', 'followers_url': 'https://api.github.com/users/joelgrus/followers', 'following_url': 'https://api.github.com/users/joelgrus/following{/other_user}', 'gists_url': 'https://api.github.com/users/joelgrus/gists{/gist_id}', 'starred_url': 'https://api.github.com/users/joelgrus/starred{/owner}{/repo}', 'subscriptions_url': 'https://api.github.com/users/joelgrus/subscriptions', 'organizations_url': 'https://api.github.com/users/joelgrus/orgs', 'repos_url': 'https://api.github.com/users/joelgrus/repos', 'events_url': 'https://api.github.com/users/joelgrus/events{/privacy}', 'received_events_url': 'https://api.github.com/users/joelgrus/received_events', 'type': 'User', 'site_admin': False}, 'html_url': 'https://github.com/joelgrus/advent2020', 'description': 'advent of code 2020', 'fork': False, 'url': 'https://api.github.com/repos/joelgrus/advent2020', 'forks_url': 'https://api.github.com/repos/joelgrus/advent2020/forks', 'keys_url': 'https://api.github.com/repos/joelgrus/advent2020/keys{/key_id}', 'collaborators_url': 'https://api.github.com/repos/joelgrus/advent2020/collaborators{/collaborator}', 'teams_url': 'https://api.github.com/repos/joelgrus/advent2020/teams', 'hooks_url': 'https://api.github.com/repos/joelgrus/advent2020/hooks', 'issue_events_url': 'https://api.github.com/repos/joelgrus/advent2020/issues/events{/number}', 'events_url': 'https://api.github.com/repos/joelgrus/advent2020/events', 'assignees_url': 'https://api.github.com/repos/joelgrus/advent2020/assignees{/user}', 'branches_url': 'https://api.github.com/repos/joelgrus/advent2020/branches{/branch}', 'tags_url': 'https://api.github.com/repos/joelgrus/advent2020/tags', 'blobs_url': 'https://api.github.com/repos/joelgrus/advent2020/git/blobs{/sha}', 'git_tags_url': 'https://api.github.com/repos/joelgrus/advent2020/git/tags{/sha}', 'git_refs_url': 'https://api.github.com/repos/joelgrus/advent2020/git/refs{/sha}', 'trees_url': 'https://api.github.com/repos/joelgrus/advent2020/git/trees{/sha}', 'statuses_url': 'https://api.github.com/repos/joelgrus/advent2020/statuses/{sha}', 'languages_url': 'https://api.github.com/repos/joelgrus/advent2020/languages', 'stargazers_url': 'https://api.github.com/repos/joelgrus/advent2020/stargazers', 'contributors_url': 'https://api.github.com/repos/joelgrus/advent2020/contributors', 'subscribers_url': 'https://api.github.com/repos/joelgrus/advent2020/subscribers', 'subscription_url': 'https://api.github.com/repos/joelgrus/advent2020/subscription', 'commits_url': 'https://api.github.com/repos/joelgrus/advent2020/commits{/sha}', 'git_commits_url': 'https://api.github.com/repos/joelgrus/advent2020/git/commits{/sha}', 'comments_url': 'https://api.github.com/repos/joelgrus/advent2020/comments{/number}', 'issue_comment_url': 'https://api.github.com/repos/joelgrus/advent2020/issues/comments{/number}', 'contents_url': 'https://api.github.com/repos/joelgrus/advent2020/contents/{+path}', 'compare_url': 'https://api.github.com/repos/joelgrus/advent2020/compare/{base}...{head}', 'merges_url': 'https://api.github.com/repos/joelgrus/advent2020/merges', 'archive_url': 'https://api.github.com/repos/joelgrus/advent2020/{archive_format}{/ref}', 'downloads_url': 'https://api.github.com/repos/joelgrus/advent2020/downloads', 'issues_url': 'https://api.github.com/repos/joelgrus/advent2020/issues{/number}', 'pulls_url': 'https://api.github.com/repos/joelgrus/advent2020/pulls{/number}', 'milestones_url': 'https://api.github.com/repos/joelgrus/advent2020/milestones{/number}', 'notifications_url': 'https://api.github.com/repos/joelgrus/advent2020/notifications{?since,all,participating}', 'labels_url': 'https://api.github.com/repos/joelgrus/advent2020/labels{/name}', 'releases_url': 'https://api.github.com/repos/joelgrus/advent2020/releases{/id}', 'deployments_url': 'https://api.github.com/repos/joelgrus/advent2020/deployments', 'created_at': '2020-11-21T16:21:49Z', 'updated_at': '2021-05-09T16:20:55Z', 'pushed_at': '2020-12-25T05:14:47Z', 'git_url': 'git://github.com/joelgrus/advent2020.git', 'ssh_url': 'git@github.com:joelgrus/advent2020.git', 'clone_url': 'https://github.com/joelgrus/advent2020.git', 'svn_url': 'https://github.com/joelgrus/advent2020', 'homepage': None, 'size': 146, 'stargazers_count': 27, 'watchers_count': 27, 'language': 'Python', 'has_issues': True, 'has_projects': True, 'has_downloads': True, 'has_wiki': True, 'has_pages': False, 'forks_count': 4, 'mirror_url': None, 'archived': False, 'disabled': False, 'open_issues_count': 0, 'license': None, 'forks': 4, 'open_issues': 0, 'watchers': 27, 'default_branch': 'master'}, {'id': 298829523, 'node_id': 'MDEwOlJlcG9zaXRvcnkyOTg4Mjk1MjM=', 'name': 'collaborative-regression', 'full_name': 'joelgrus/collaborative-regression', 'private': False, 'owner': {'login': 'joelgrus', 'id': 1308313, 'node_id': 'MDQ6VXNlcjEzMDgzMTM=', 'avatar_url': 'https://avatars.githubusercontent.com/u/1308313?v=4', 'gravatar_id': '', 'url': 'https://api.github.com/users/joelgrus', 'html_url': 'https://github.com/joelgrus', 'followers_url': 'https://api.github.com/users/joelgrus/followers', 'following_url': 'https://api.github.com/users/joelgrus/following{/other_user}', 'gists_url': 'https://api.github.com/users/joelgrus/gists{/gist_id}', 'starred_url': 'https://api.github.com/users/joelgrus/starred{/owner}{/repo}', 'subscriptions_url': 'https://api.github.com/users/joelgrus/subscriptions', 'organizations_url': 'https://api.github.com/users/joelgrus/orgs', 'repos_url': 'https://api.github.com/users/joelgrus/repos', 'events_url': 'https://api.github.com/users/joelgrus/events{/privacy}', 'received_events_url': 'https://api.github.com/users/joelgrus/received_events', 'type': 'User', 'site_admin': False}, 'html_url': 'https://github.com/joelgrus/collaborative-regression', 'description': 'collaborative regression', 'fork': False, 'url': 'https://api.github.com/repos/joelgrus/collaborative-regression', 'forks_url': 'https://api.github.com/repos/joelgrus/collaborative-regression/forks', 'keys_url': 'https://api.github.com/repos/joelgrus/collaborative-regression/keys{/key_id}', 'collaborators_url': 'https://api.github.com/repos/joelgrus/collaborative-regression/collaborators{/collaborator}', 'teams_url': 'https://api.github.com/repos/joelgrus/collaborative-regression/teams', 'hooks_url': 'https://api.github.com/repos/joelgrus/collaborative-regression/hooks', 'issue_events_url': 'https://api.github.com/repos/joelgrus/collaborative-regression/issues/events{/number}', 'events_url': 'https://api.github.com/repos/joelgrus/collaborative-regression/events', 'assignees_url': 'https://api.github.com/repos/joelgrus/collaborative-regression/assignees{/user}', 'branches_url': 'https://api.github.com/repos/joelgrus/collaborative-regression/branches{/branch}', 'tags_url': 'https://api.github.com/repos/joelgrus/collaborative-regression/tags', 'blobs_url': 'https://api.github.com/repos/joelgrus/collaborative-regression/git/blobs{/sha}', 'git_tags_url': 'https://api.github.com/repos/joelgrus/collaborative-regression/git/tags{/sha}', 'git_refs_url': 'https://api.github.com/repos/joelgrus/collaborative-regression/git/refs{/sha}', 'trees_url': 'https://api.github.com/repos/joelgrus/collaborative-regression/git/trees{/sha}', 'statuses_url': 'https://api.github.com/repos/joelgrus/collaborative-regression/statuses/{sha}', 'languages_url': 'https://api.github.com/repos/joelgrus/collaborative-regression/languages', 'stargazers_url': 'https://api.github.com/repos/joelgrus/collaborative-regression/stargazers', 'contributors_url': 'https://api.github.com/repos/joelgrus/collaborative-regression/contributors', 'subscribers_url': 'https://api.github.com/repos/joelgrus/collaborative-regression/subscribers', 'subscription_url': 'https://api.github.com/repos/joelgrus/collaborative-regression/subscription', 'commits_url': 'https://api.github.com/repos/joelgrus/collaborative-regression/commits{/sha}', 'git_commits_url': 'https://api.github.com/repos/joelgrus/collaborative-regression/git/commits{/sha}', 'comments_url': 'https://api.github.com/repos/joelgrus/collaborative-regression/comments{/number}', 'issue_comment_url': 'https://api.github.com/repos/joelgrus/collaborative-regression/issues/comments{/number}', 'contents_url': 'https://api.github.com/repos/joelgrus/collaborative-regression/contents/{+path}', 'compare_url': 'https://api.github.com/repos/joelgrus/collaborative-regression/compare/{base}...{head}', 'merges_url': 'https://api.github.com/repos/joelgrus/collaborative-regression/merges', 'archive_url': 'https://api.github.com/repos/joelgrus/collaborative-regression/{archive_format}{/ref}', 'downloads_url': 'https://api.github.com/repos/joelgrus/collaborative-regression/downloads', 'issues_url': 'https://api.github.com/repos/joelgrus/collaborative-regression/issues{/number}', 'pulls_url': 'https://api.github.com/repos/joelgrus/collaborative-regression/pulls{/number}', 'milestones_url': 'https://api.github.com/repos/joelgrus/collaborative-regression/milestones{/number}', 'notifications_url': 'https://api.github.com/repos/joelgrus/collaborative-regression/notifications{?since,all,participating}', 'labels_url': 'https://api.github.com/repos/joelgrus/collaborative-regression/labels{/name}', 'releases_url': 'https://api.github.com/repos/joelgrus/collaborative-regression/releases{/id}', 'deployments_url': 'https://api.github.com/repos/joelgrus/collaborative-regression/deployments', 'created_at': '2020-09-26T14:19:22Z', 'updated_at': '2020-11-28T18:53:11Z', 'pushed_at': '2020-11-28T18:53:09Z', 'git_url': 'git://github.com/joelgrus/collaborative-regression.git', 'ssh_url': 'git@github.com:joelgrus/collaborative-regression.git', 'clone_url': 'https://github.com/joelgrus/collaborative-regression.git', 'svn_url': 'https://github.com/joelgrus/collaborative-regression', 'homepage': None, 'size': 4, 'stargazers_count': 0, 'watchers_count': 0, 'language': 'Python', 'has_issues': True, 'has_projects': True, 'has_downloads': True, 'has_wiki': True, 'has_pages': False, 'forks_count': 1, 'mirror_url': None, 'archived': False, 'disabled': False, 'open_issues_count': 0, 'license': {'key': 'mit', 'name': 'MIT License', 'spdx_id': 'MIT', 'url': 'https://api.github.com/licenses/mit', 'node_id': 'MDc6TGljZW5zZTEz'}, 'forks': 1, 'open_issues': 0, 'watchers': 0, 'default_branch': 'master'}, {'id': 225098708, 'node_id': 'MDEwOlJlcG9zaXRvcnkyMjUwOTg3MDg=', 'name': 'advent2019', 'full_name': 'joelgrus/advent2019', 'private': False, 'owner': {'login': 'joelgrus', 'id': 1308313, 'node_id': 'MDQ6VXNlcjEzMDgzMTM=', 'avatar_url': 'https://avatars.githubusercontent.com/u/1308313?v=4', 'gravatar_id': '', 'url': 'https://api.github.com/users/joelgrus', 'html_url': 'https://github.com/joelgrus', 'followers_url': 'https://api.github.com/users/joelgrus/followers', 'following_url': 'https://api.github.com/users/joelgrus/following{/other_user}', 'gists_url': 'https://api.github.com/users/joelgrus/gists{/gist_id}', 'starred_url': 'https://api.github.com/users/joelgrus/starred{/owner}{/repo}', 'subscriptions_url': 'https://api.github.com/users/joelgrus/subscriptions', 'organizations_url': 'https://api.github.com/users/joelgrus/orgs', 'repos_url': 'https://api.github.com/users/joelgrus/repos', 'events_url': 'https://api.github.com/users/joelgrus/events{/privacy}', 'received_events_url': 'https://api.github.com/users/joelgrus/received_events', 'type': 'User', 'site_admin': False}, 'html_url': 'https://github.com/joelgrus/advent2019', 'description': 'advent of code 2019', 'fork': False, 'url': 'https://api.github.com/repos/joelgrus/advent2019', 'forks_url': 'https://api.github.com/repos/joelgrus/advent2019/forks', 'keys_url': 'https://api.github.com/repos/joelgrus/advent2019/keys{/key_id}', 'collaborators_url': 'https://api.github.com/repos/joelgrus/advent2019/collaborators{/collaborator}', 'teams_url': 'https://api.github.com/repos/joelgrus/advent2019/teams', 'hooks_url': 'https://api.github.com/repos/joelgrus/advent2019/hooks', 'issue_events_url': 'https://api.github.com/repos/joelgrus/advent2019/issues/events{/number}', 'events_url': 'https://api.github.com/repos/joelgrus/advent2019/events', 'assignees_url': 'https://api.github.com/repos/joelgrus/advent2019/assignees{/user}', 'branches_url': 'https://api.github.com/repos/joelgrus/advent2019/branches{/branch}', 'tags_url': 'https://api.github.com/repos/joelgrus/advent2019/tags', 'blobs_url': 'https://api.github.com/repos/joelgrus/advent2019/git/blobs{/sha}', 'git_tags_url': 'https://api.github.com/repos/joelgrus/advent2019/git/tags{/sha}', 'git_refs_url': 'https://api.github.com/repos/joelgrus/advent2019/git/refs{/sha}', 'trees_url': 'https://api.github.com/repos/joelgrus/advent2019/git/trees{/sha}', 'statuses_url': 'https://api.github.com/repos/joelgrus/advent2019/statuses/{sha}', 'languages_url': 'https://api.github.com/repos/joelgrus/advent2019/languages', 'stargazers_url': 'https://api.github.com/repos/joelgrus/advent2019/stargazers', 'contributors_url': 'https://api.github.com/repos/joelgrus/advent2019/contributors', 'subscribers_url': 'https://api.github.com/repos/joelgrus/advent2019/subscribers', 'subscription_url': 'https://api.github.com/repos/joelgrus/advent2019/subscription', 'commits_url': 'https://api.github.com/repos/joelgrus/advent2019/commits{/sha}', 'git_commits_url': 'https://api.github.com/repos/joelgrus/advent2019/git/commits{/sha}', 'comments_url': 'https://api.github.com/repos/joelgrus/advent2019/comments{/number}', 'issue_comment_url': 'https://api.github.com/repos/joelgrus/advent2019/issues/comments{/number}', 'contents_url': 'https://api.github.com/repos/joelgrus/advent2019/contents/{+path}', 'compare_url': 'https://api.github.com/repos/joelgrus/advent2019/compare/{base}...{head}', 'merges_url': 'https://api.github.com/repos/joelgrus/advent2019/merges', 'archive_url': 'https://api.github.com/repos/joelgrus/advent2019/{archive_format}{/ref}', 'downloads_url': 'https://api.github.com/repos/joelgrus/advent2019/downloads', 'issues_url': 'https://api.github.com/repos/joelgrus/advent2019/issues{/number}', 'pulls_url': 'https://api.github.com/repos/joelgrus/advent2019/pulls{/number}', 'milestones_url': 'https://api.github.com/repos/joelgrus/advent2019/milestones{/number}', 'notifications_url': 'https://api.github.com/repos/joelgrus/advent2019/notifications{?since,all,participating}', 'labels_url': 'https://api.github.com/repos/joelgrus/advent2019/labels{/name}', 'releases_url': 'https://api.github.com/repos/joelgrus/advent2019/releases{/id}', 'deployments_url': 'https://api.github.com/repos/joelgrus/advent2019/deployments', 'created_at': '2019-12-01T02:57:18Z', 'updated_at': '2020-09-10T18:16:05Z', 'pushed_at': '2019-12-25T06:34:04Z', 'git_url': 'git://github.com/joelgrus/advent2019.git', 'ssh_url': 'git@github.com:joelgrus/advent2019.git', 'clone_url': 'https://github.com/joelgrus/advent2019.git', 'svn_url': 'https://github.com/joelgrus/advent2019', 'homepage': None, 'size': 96, 'stargazers_count': 21, 'watchers_count': 21, 'language': 'Python', 'has_issues': True, 'has_projects': True, 'has_downloads': True, 'has_wiki': True, 'has_pages': False, 'forks_count': 3, 'mirror_url': None, 'archived': False, 'disabled': False, 'open_issues_count': 0, 'license': None, 'forks': 3, 'open_issues': 0, 'watchers': 21, 'default_branch': 'master'}]\n"
     ]
    }
   ],
   "source": [
    "print(last_5_repositories)"
   ]
  },
  {
   "cell_type": "code",
   "execution_count": 23,
   "metadata": {},
   "outputs": [
    {
     "name": "stdout",
     "output_type": "stream",
     "text": [
      "['Python', 'JavaScript', 'Python', 'Python', 'Python']\n"
     ]
    }
   ],
   "source": [
    "print(last_5_languages)"
   ]
  },
  {
   "cell_type": "markdown",
   "metadata": {},
   "source": [
    "## 4. 트위터 API 사용하기"
   ]
  },
  {
   "cell_type": "code",
   "execution_count": 24,
   "metadata": {},
   "outputs": [
    {
     "name": "stdout",
     "output_type": "stream",
     "text": [
      "Collecting twython\n",
      "  Using cached twython-3.8.2-py3-none-any.whl (33 kB)\n",
      "Collecting requests-oauthlib>=0.4.0\n",
      "  Using cached requests_oauthlib-1.3.0-py2.py3-none-any.whl (23 kB)\n",
      "Requirement already satisfied: requests>=2.1.0 in c:\\users\\fermi_2\\.conda\\envs\\data_mining\\lib\\site-packages (from twython) (2.25.1)\n",
      "Requirement already satisfied: chardet<5,>=3.0.2 in c:\\users\\fermi_2\\.conda\\envs\\data_mining\\lib\\site-packages (from requests>=2.1.0->twython) (4.0.0)\n",
      "Requirement already satisfied: certifi>=2017.4.17 in c:\\users\\fermi_2\\.conda\\envs\\data_mining\\lib\\site-packages (from requests>=2.1.0->twython) (2020.12.5)\n",
      "Requirement already satisfied: urllib3<1.27,>=1.21.1 in c:\\users\\fermi_2\\.conda\\envs\\data_mining\\lib\\site-packages (from requests>=2.1.0->twython) (1.26.3)\n",
      "Requirement already satisfied: idna<3,>=2.5 in c:\\users\\fermi_2\\.conda\\envs\\data_mining\\lib\\site-packages (from requests>=2.1.0->twython) (2.10)\n",
      "Collecting oauthlib>=3.0.0\n",
      "  Using cached oauthlib-3.1.0-py2.py3-none-any.whl (147 kB)\n",
      "Installing collected packages: oauthlib, requests-oauthlib, twython\n",
      "Successfully installed oauthlib-3.1.0 requests-oauthlib-1.3.0 twython-3.8.2\n"
     ]
    }
   ],
   "source": [
    "!pip install twython"
   ]
  },
  {
   "cell_type": "markdown",
   "metadata": {},
   "source": [
    "### 4.1 API Key와 Secret Key"
   ]
  },
  {
   "cell_type": "code",
   "execution_count": 25,
   "metadata": {},
   "outputs": [],
   "source": [
    "import os\n",
    "\n",
    "# Feel free to plug your key and secret in directly\n",
    "CONSUMER_KEY = os.environ.get(\"TWITTER_CONSUMER_KEY\")\n",
    "CONSUMER_SECRET = os.environ.get(\"TWITTER_CONSUMER_SECRET\")"
   ]
  },
  {
   "cell_type": "markdown",
   "metadata": {},
   "source": [
    "### 4.2 클라이언트 인스턴스 만들기"
   ]
  },
  {
   "cell_type": "code",
   "execution_count": 26,
   "metadata": {},
   "outputs": [
    {
     "name": "stdout",
     "output_type": "stream",
     "text": [
      "go visit https://api.twitter.com/oauth/authenticate?oauth_token=387PgAAAAAABNC5QAAABecK_9Do and get the PIN code and paste it below\n",
      "please enter the PIN code: 6600070\n"
     ]
    }
   ],
   "source": [
    "import webbrowser\n",
    "from twython import Twython\n",
    "\n",
    "# Get a temporary client to retrieve an authentication url\n",
    "temp_client = Twython(CONSUMER_KEY, CONSUMER_SECRET)\n",
    "temp_creds = temp_client.get_authentication_tokens()\n",
    "url = temp_creds['auth_url']\n",
    "\n",
    "# Now visit that URL to authorize the application and get a PIN\n",
    "print(f\"go visit {url} and get the PIN code and paste it below\")\n",
    "webbrowser.open(url)\n",
    "PIN_CODE = input(\"please enter the PIN code: \")\n",
    "\n",
    "# Now we use that PIN_CODE to get the actual tokens\n",
    "auth_client = Twython(CONSUMER_KEY,\n",
    "                        CONSUMER_SECRET,\n",
    "                        temp_creds['oauth_token'],\n",
    "                        temp_creds['oauth_token_secret'])\n",
    "final_step = auth_client.get_authorized_tokens(PIN_CODE)\n",
    "ACCESS_TOKEN = final_step['oauth_token']\n",
    "ACCESS_TOKEN_SECRET = final_step['oauth_token_secret']\n",
    "\n",
    "# And get a new Twython instance using them.\n",
    "twitter = Twython(CONSUMER_KEY, CONSUMER_SECRET, ACCESS_TOKEN, ACCESS_TOKEN_SECRET)"
   ]
  },
  {
   "cell_type": "markdown",
   "metadata": {},
   "source": [
    "### 4.3 몇몇 트윗 받기"
   ]
  },
  {
   "cell_type": "code",
   "execution_count": 27,
   "metadata": {},
   "outputs": [
    {
     "name": "stdout",
     "output_type": "stream",
     "text": [
      "Topschoolworkh1: Term papers and classes help\n",
      "\n",
      "Math\n",
      "Accounting\n",
      "Microeconomics\n",
      "Business\n",
      "CALC,,\n",
      "Political science\n",
      "Health\n",
      "Thesis,,\n",
      "Law… https://t.co/1dkXfHZjuv\n",
      "\n",
      "Topschoolworkh1: RT @Topschoolworkh1: Term papers and classes help\n",
      "\n",
      "Math\n",
      "Accounting\n",
      "Microeconomics\n",
      "Business\n",
      "CALC,,\n",
      "Political science\n",
      "Health\n",
      "Thesis\n",
      "Sociology…\n",
      "\n",
      "Christo48746457: RT @freeCodeCamp: If you want to practice your machine learning skills, try building an end-to-end ML project.\n",
      "\n",
      "It's especially fun with a…\n",
      "\n",
      "BotForEquality: RT @OsoroSatComs: Kindly dm if you’re/know any #lady who can tutor data science/machine learning in Nairobi sometimes in late June/ Early J…\n",
      "\n",
      "OsoroSatComs: Kindly dm if you’re/know any #lady who can tutor data science/machine learning in Nairobi sometimes in late June/ E… https://t.co/3dHC0QEtnj\n",
      "\n",
      "Deep__AI: Level up your data science vocabulary: Beta Distribution https://t.co/LGNDdWdZRv #Probability #BetaDistribution\n",
      "\n",
      "LatinoLdnOnt: Data Science Is a High-Paying, Fast-Growing Field—Here’s What You Need to Know About Entering It @TheMuse https://t.co/qkDdESXsno\n",
      "\n",
      "JStingone: RT @askdrstats: Data Collection &amp; Integration to Enhance Public Health: Making Sense of a Patchwork of Data @nasem Signup https://t.co/jXsQ…\n",
      "\n",
      "miinaraut: RT @tenkahen: Interested in doing a PhD in spatial data science? The position for doing your doctoral studies at @AaltoUniversity  is still…\n",
      "\n",
      "AICareerLab: Accelerate your career at the Virtual Ai+ Professionals Expo with talks designed to help you navigate the competiti… https://t.co/wuqe50YIyC\n",
      "\n",
      "bungobot1: RT @DD_NaNa_: To better align data teams with business operations, a new organizational structure is needed https://t.co/L1jx8p3dFZ\n",
      "\n",
      "SiDa_Industrie: RT @DataSharingEU: We welcome our new participant @UM_IDS that specialises in FAIR data, formalised knowledge representation, social networ…\n",
      "\n",
      "GuidanceHT: RT @UoL_UGrad_LSE: Earn a BSc from the University of London online for less than $30,000. Designed by the London School of Economics and Po…\n",
      "\n",
      "etsii_urjc: · Máster en ciberseguridad y privacidad (11 Junio 17:00)\n",
      "· Máster en cloud apps: desarrollo y despliegue de aplicac… https://t.co/bJb9sveyEK\n",
      "\n",
      "tlearningagency: 👀  We saw +250 organizations make a commitment to the Data Science for Everyone campaign. Will you too?… https://t.co/9iyCZQMAHW\n",
      "\n"
     ]
    }
   ],
   "source": [
    "for status in twitter.search(q='\"data science\"')[\"statuses\"]:\n",
    "    user = status[\"user\"][\"screen_name\"]\n",
    "    text = status[\"text\"]\n",
    "    print(f\"{user}: {text}\\n\")"
   ]
  },
  {
   "cell_type": "markdown",
   "metadata": {},
   "source": [
    "### 4.4 스트림으로 대량의 트윗 받기"
   ]
  },
  {
   "cell_type": "code",
   "execution_count": 28,
   "metadata": {},
   "outputs": [],
   "source": [
    "from twython import TwythonStreamer\n",
    "\n",
    "# Appending data to a global variable is pretty poor form\n",
    "# but it makes the example much simpler\n",
    "tweets = []\n",
    "\n",
    "class MyStreamer(TwythonStreamer):\n",
    "    def on_success(self, data):\n",
    "        \"\"\"\n",
    "        What do we do when twitter sends us data?\n",
    "        Here data will be a Python dict representing a tweet\n",
    "        \"\"\"\n",
    "        # We only want to collect English-language tweets\n",
    "        if data.get('lang') == 'en':\n",
    "            tweets.append(data)\n",
    "            print(f\"received tweet #{len(tweets)}\")\n",
    "\n",
    "        # Stop when we've collected enough\n",
    "        if len(tweets) >= 100:\n",
    "            self.disconnect()\n",
    "\n",
    "    def on_error(self, status_code, data):\n",
    "        print(status_code, data)\n",
    "        self.disconnect()"
   ]
  },
  {
   "cell_type": "markdown",
   "metadata": {},
   "source": [
    "### 4.5 Data가 포함된 트윗 다운로드"
   ]
  },
  {
   "cell_type": "code",
   "execution_count": 29,
   "metadata": {},
   "outputs": [
    {
     "name": "stdout",
     "output_type": "stream",
     "text": [
      "received tweet #1\n",
      "received tweet #2\n",
      "received tweet #3\n",
      "received tweet #4\n",
      "received tweet #5\n",
      "received tweet #6\n",
      "received tweet #7\n",
      "received tweet #8\n",
      "received tweet #9\n",
      "received tweet #10\n",
      "received tweet #11\n",
      "received tweet #12\n",
      "received tweet #13\n",
      "received tweet #14\n",
      "received tweet #15\n",
      "received tweet #16\n",
      "received tweet #17\n",
      "received tweet #18\n",
      "received tweet #19\n",
      "received tweet #20\n",
      "received tweet #21\n",
      "received tweet #22\n",
      "received tweet #23\n",
      "received tweet #24\n",
      "received tweet #25\n",
      "received tweet #26\n",
      "received tweet #27\n",
      "received tweet #28\n",
      "received tweet #29\n",
      "received tweet #30\n",
      "received tweet #31\n",
      "received tweet #32\n",
      "received tweet #33\n",
      "received tweet #34\n",
      "received tweet #35\n",
      "received tweet #36\n",
      "received tweet #37\n",
      "received tweet #38\n",
      "received tweet #39\n",
      "received tweet #40\n",
      "received tweet #41\n",
      "received tweet #42\n",
      "received tweet #43\n",
      "received tweet #44\n",
      "received tweet #45\n",
      "received tweet #46\n",
      "received tweet #47\n",
      "received tweet #48\n",
      "received tweet #49\n",
      "received tweet #50\n",
      "received tweet #51\n",
      "received tweet #52\n",
      "received tweet #53\n",
      "received tweet #54\n",
      "received tweet #55\n",
      "received tweet #56\n",
      "received tweet #57\n",
      "received tweet #58\n",
      "received tweet #59\n",
      "received tweet #60\n",
      "received tweet #61\n",
      "received tweet #62\n",
      "received tweet #63\n",
      "received tweet #64\n",
      "received tweet #65\n",
      "received tweet #66\n",
      "received tweet #67\n",
      "received tweet #68\n",
      "received tweet #69\n",
      "received tweet #70\n",
      "received tweet #71\n",
      "received tweet #72\n",
      "received tweet #73\n",
      "received tweet #74\n",
      "received tweet #75\n",
      "received tweet #76\n",
      "received tweet #77\n",
      "received tweet #78\n",
      "received tweet #79\n",
      "received tweet #80\n",
      "received tweet #81\n",
      "received tweet #82\n",
      "received tweet #83\n",
      "received tweet #84\n",
      "received tweet #85\n",
      "received tweet #86\n",
      "received tweet #87\n",
      "received tweet #88\n",
      "received tweet #89\n",
      "received tweet #90\n",
      "received tweet #91\n",
      "received tweet #92\n",
      "received tweet #93\n",
      "received tweet #94\n",
      "received tweet #95\n",
      "received tweet #96\n",
      "received tweet #97\n",
      "received tweet #98\n",
      "received tweet #99\n",
      "received tweet #100\n"
     ]
    }
   ],
   "source": [
    "stream = MyStreamer(CONSUMER_KEY, CONSUMER_SECRET,\n",
    "                    ACCESS_TOKEN, ACCESS_TOKEN_SECRET)\n",
    "\n",
    "# starts consuming public statuses that contain the keyword 'data'\n",
    "stream.statuses.filter(track='data')\n",
    "\n",
    "# if instead we wanted to start consuming a sample of *all* public statuses\n",
    "# stream.statuses.sample()"
   ]
  },
  {
   "cell_type": "code",
   "execution_count": 30,
   "metadata": {},
   "outputs": [
    {
     "name": "stdout",
     "output_type": "stream",
     "text": [
      "{'created_at': 'Mon May 31 14:07:19 +0000 2021', 'id': 1399366886102536193, 'id_str': '1399366886102536193', 'text': '@EmperorBTC 7 years working on projects related to startups, specializing in competitor analysis, data management,… https://t.co/4wjmTJKhg9', 'display_text_range': [12, 140], 'source': '<a href=\"https://mobile.twitter.com\" rel=\"nofollow\">Twitter Web App</a>', 'truncated': True, 'in_reply_to_status_id': 1399365824641568768, 'in_reply_to_status_id_str': '1399365824641568768', 'in_reply_to_user_id': 183951857, 'in_reply_to_user_id_str': '183951857', 'in_reply_to_screen_name': 'EmperorBTC', 'user': {'id': 1325623166, 'id_str': '1325623166', 'name': 'Fox', 'screen_name': '9Jzs', 'location': 'Barcelona', 'url': None, 'description': None, 'translator_type': 'none', 'protected': False, 'verified': False, 'followers_count': 125, 'friends_count': 344, 'listed_count': 1, 'favourites_count': 6871, 'statuses_count': 8379, 'created_at': 'Wed Apr 03 22:59:04 +0000 2013', 'utc_offset': None, 'time_zone': None, 'geo_enabled': False, 'lang': None, 'contributors_enabled': False, 'is_translator': False, 'profile_background_color': '000000', 'profile_background_image_url': 'http://abs.twimg.com/images/themes/theme1/bg.png', 'profile_background_image_url_https': 'https://abs.twimg.com/images/themes/theme1/bg.png', 'profile_background_tile': False, 'profile_link_color': '1B95E0', 'profile_sidebar_border_color': '000000', 'profile_sidebar_fill_color': '000000', 'profile_text_color': '000000', 'profile_use_background_image': False, 'profile_image_url': 'http://pbs.twimg.com/profile_images/1291664142164725760/WKeP-M2-_normal.jpg', 'profile_image_url_https': 'https://pbs.twimg.com/profile_images/1291664142164725760/WKeP-M2-_normal.jpg', 'profile_banner_url': 'https://pbs.twimg.com/profile_banners/1325623166/1615897027', 'default_profile': False, 'default_profile_image': False, 'following': None, 'follow_request_sent': None, 'notifications': None, 'withheld_in_countries': []}, 'geo': None, 'coordinates': None, 'place': None, 'contributors': None, 'is_quote_status': False, 'extended_tweet': {'full_text': '@EmperorBTC 7 years working on projects related to startups, specializing in competitor analysis, data management, etc., as well as developing strategic plans. You have helped me in trading so it would be an honor to help you in whatever you need.', 'display_text_range': [12, 247], 'entities': {'hashtags': [], 'urls': [], 'user_mentions': [{'screen_name': 'EmperorBTC', 'name': 'Emperor👑', 'id': 183951857, 'id_str': '183951857', 'indices': [0, 11]}], 'symbols': []}}, 'quote_count': 0, 'reply_count': 0, 'retweet_count': 0, 'favorite_count': 0, 'entities': {'hashtags': [], 'urls': [{'url': 'https://t.co/4wjmTJKhg9', 'expanded_url': 'https://twitter.com/i/web/status/1399366886102536193', 'display_url': 'twitter.com/i/web/status/1…', 'indices': [116, 139]}], 'user_mentions': [{'screen_name': 'EmperorBTC', 'name': 'Emperor👑', 'id': 183951857, 'id_str': '183951857', 'indices': [0, 11]}], 'symbols': []}, 'favorited': False, 'retweeted': False, 'filter_level': 'low', 'lang': 'en', 'timestamp_ms': '1622470039283'}\n"
     ]
    }
   ],
   "source": [
    "print(tweets[0])"
   ]
  },
  {
   "cell_type": "markdown",
   "metadata": {},
   "source": [
    "### 4.6 가장 많이 나오는 해시테그 찾기"
   ]
  },
  {
   "cell_type": "code",
   "execution_count": 31,
   "metadata": {},
   "outputs": [
    {
     "name": "stdout",
     "output_type": "stream",
     "text": [
      "[('ai', 8), ('besmartlikebts', 4), ('judicialdeeppockets', 1), ('pot', 1), ('fbo', 1)]\n"
     ]
    }
   ],
   "source": [
    "from collections import Counter\n",
    "\n",
    "top_hashtags = Counter(hashtag['text'].lower()\n",
    "                        for tweet in tweets\n",
    "                        for hashtag in tweet['entities']['hashtags'])\n",
    "print(top_hashtags.most_common(5))"
   ]
  }
 ],
 "metadata": {
  "kernelspec": {
   "display_name": "Python 3",
   "language": "python",
   "name": "python3"
  },
  "language_info": {
   "codemirror_mode": {
    "name": "ipython",
    "version": 3
   },
   "file_extension": ".py",
   "mimetype": "text/x-python",
   "name": "python",
   "nbconvert_exporter": "python",
   "pygments_lexer": "ipython3",
   "version": "3.8.5"
  }
 },
 "nbformat": 4,
 "nbformat_minor": 4
}
