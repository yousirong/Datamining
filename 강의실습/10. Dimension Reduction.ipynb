{
 "cells": [
  {
   "cell_type": "markdown",
   "metadata": {
    "id": "L4oZsvGcpPd9"
   },
   "source": [
    "# 10장. 차원 축소 (Dimension Reduction)"
   ]
  },
  {
   "cell_type": "markdown",
   "metadata": {
    "id": "_EdQ8kvwOp2s"
   },
   "source": [
    "## 1. 차원 축소 (Dimension Reduction)"
   ]
  },
  {
   "cell_type": "markdown",
   "metadata": {
    "id": "isDB7-vXOp2s"
   },
   "source": [
    "### 1.1 평균 빼기"
   ]
  },
  {
   "cell_type": "code",
   "execution_count": 1,
   "metadata": {
    "id": "rcTAqKt1Op2s"
   },
   "outputs": [],
   "source": [
    "from typing import List\n",
    "from scratch.linear_algebra import Vector, subtract\n",
    "\n",
    "def de_mean(data: List[Vector]) -> List[Vector]:\n",
    "    \"\"\"Recenters the data to have mean 0 in every dimension\"\"\"\n",
    "    mean = vector_mean(data)\n",
    "    return [subtract(vector, mean) for vector in data]"
   ]
  },
  {
   "cell_type": "markdown",
   "metadata": {
    "id": "kvs-othEOp2t"
   },
   "source": [
    "### 1.2 단위 벡터 만들기"
   ]
  },
  {
   "cell_type": "code",
   "execution_count": 2,
   "metadata": {
    "id": "ZDGqYQ7AOp2t"
   },
   "outputs": [],
   "source": [
    "from scratch.linear_algebra import magnitude\n",
    "\n",
    "def direction(w: Vector) -> Vector:\n",
    "    mag = magnitude(w)\n",
    "    return [w_i / mag for w_i in w]"
   ]
  },
  {
   "cell_type": "markdown",
   "metadata": {
    "id": "lAEZJOxkOp2t"
   },
   "source": [
    "### 1.3 단위 벡터 방향으로 분산 구하기 (목적 함수)"
   ]
  },
  {
   "cell_type": "code",
   "execution_count": 3,
   "metadata": {
    "id": "Xjdv29uFOp2t"
   },
   "outputs": [],
   "source": [
    "from scratch.linear_algebra import dot\n",
    "\n",
    "def directional_variance(data: List[Vector], w: Vector) -> float:\n",
    "    \"\"\"\n",
    "    Returns the variance of x in the direction of w\n",
    "    \"\"\"\n",
    "    w_dir = direction(w)\n",
    "    return sum(dot(v, w_dir) ** 2 for v in data)"
   ]
  },
  {
   "cell_type": "markdown",
   "metadata": {
    "id": "vCcOeo2MOp2t"
   },
   "source": [
    "### 1.4 단위 벡터 방향의 분산에 대한 그래디언트"
   ]
  },
  {
   "cell_type": "code",
   "execution_count": 4,
   "metadata": {
    "id": "QrCzJwZCOp2u"
   },
   "outputs": [],
   "source": [
    "def directional_variance_gradient(data: List[Vector], w: Vector) -> Vector:\n",
    "    \"\"\"\n",
    "    The gradient of directional variance with respect to w\n",
    "    \"\"\"\n",
    "    w_dir = direction(w)\n",
    "    return [sum(2 * dot(v, w_dir) * v[i] for v in data)\n",
    "            for i in range(len(w))]"
   ]
  },
  {
   "cell_type": "markdown",
   "metadata": {
    "id": "NX-rRGJ1Op2u"
   },
   "source": [
    "### 1.5 경사 상승법 (Gradient Ascent)"
   ]
  },
  {
   "cell_type": "code",
   "execution_count": 5,
   "metadata": {
    "id": "vtPkzhO0Op2u"
   },
   "outputs": [],
   "source": [
    "from scratch.gradient_descent import gradient_step\n",
    "import tqdm\n",
    "\n",
    "def first_principal_component(data: List[Vector],\n",
    "                              n: int = 100,\n",
    "                              step_size: float = 0.1) -> Vector:\n",
    "    # Start with a random guess\n",
    "    guess = [1.0 for _ in data[0]]\n",
    "\n",
    "    with tqdm.trange(n) as t:\n",
    "        for _ in t:\n",
    "            dv = directional_variance(data, guess)\n",
    "            gradient = directional_variance_gradient(data, guess)\n",
    "            guess = gradient_step(guess, gradient, step_size)\n",
    "            t.set_description(f\"dv: {dv:.3f}\")\n",
    "\n",
    "    return direction(guess)"
   ]
  },
  {
   "cell_type": "markdown",
   "metadata": {
    "id": "3mvgmm30Op2u"
   },
   "source": [
    "### 1.6 투영"
   ]
  },
  {
   "cell_type": "code",
   "execution_count": 6,
   "metadata": {
    "id": "3wDfI-DQOp2u"
   },
   "outputs": [],
   "source": [
    "from scratch.linear_algebra import scalar_multiply\n",
    "\n",
    "def project(v: Vector, w: Vector) -> Vector:\n",
    "    \"\"\"return the projection of v onto the direction w\"\"\"\n",
    "    projection_length = dot(v, w)\n",
    "    return scalar_multiply(projection_length, w)"
   ]
  },
  {
   "cell_type": "markdown",
   "metadata": {
    "id": "vzuYq5BROp2v"
   },
   "source": [
    "### 1.7 주성분 투영 제거"
   ]
  },
  {
   "cell_type": "code",
   "execution_count": 7,
   "metadata": {
    "id": "fKVSCFcdOp2v"
   },
   "outputs": [],
   "source": [
    "from scratch.linear_algebra import subtract\n",
    "\n",
    "def remove_projection_from_vector(v: Vector, w: Vector) -> Vector:\n",
    "    \"\"\"projects v onto w and subtracts the result from v\"\"\"\n",
    "    return subtract(v, project(v, w))\n",
    "\n",
    "def remove_projection(data: List[Vector], w: Vector) -> List[Vector]:\n",
    "    return [remove_projection_from_vector(v, w) for v in data]"
   ]
  },
  {
   "cell_type": "markdown",
   "metadata": {
    "id": "PaAxckqSOp2v"
   },
   "source": [
    "### 1.8 PCA 알고리즘"
   ]
  },
  {
   "cell_type": "code",
   "execution_count": 8,
   "metadata": {
    "id": "HY-HbbYqOp2v"
   },
   "outputs": [],
   "source": [
    "def pca(data: List[Vector], num_components: int) -> List[Vector]:\n",
    "    components: List[Vector] = []\n",
    "    for _ in range(num_components):\n",
    "        component = first_principal_component(data)\n",
    "        components.append(component)\n",
    "        data = remove_projection(data, component)\n",
    "\n",
    "    return components"
   ]
  },
  {
   "cell_type": "markdown",
   "metadata": {
    "id": "lV339HyhOp2v"
   },
   "source": [
    "### 1.9 차원 축소"
   ]
  },
  {
   "cell_type": "code",
   "execution_count": 9,
   "metadata": {
    "id": "PfAqi7ibOp2w"
   },
   "outputs": [],
   "source": [
    "def transform_vector(v: Vector, components: List[Vector]) -> Vector:\n",
    "    return [dot(v, w) for w in components]\n",
    "\n",
    "def transform(data: List[Vector], components: List[Vector]) -> List[Vector]:\n",
    "    return [transform_vector(v, components) for v in data]"
   ]
  }
 ],
 "metadata": {
  "colab": {
   "collapsed_sections": [],
   "name": "10. Dimension Reduction.ipynb",
   "provenance": []
  },
  "kernelspec": {
   "display_name": "datamining",
   "language": "python",
   "name": "datamining"
  },
  "language_info": {
   "codemirror_mode": {
    "name": "ipython",
    "version": 3
   },
   "file_extension": ".py",
   "mimetype": "text/x-python",
   "name": "python",
   "nbconvert_exporter": "python",
   "pygments_lexer": "ipython3",
   "version": "3.8.5"
  }
 },
 "nbformat": 4,
 "nbformat_minor": 1
}
