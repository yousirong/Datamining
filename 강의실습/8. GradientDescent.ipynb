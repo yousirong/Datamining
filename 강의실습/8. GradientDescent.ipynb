{
 "cells": [
  {
   "cell_type": "markdown",
   "metadata": {
    "id": "F6IOZq4LneJw"
   },
   "source": [
    "# 8장. 경사 하강법 (Gradient Descent)"
   ]
  },
  {
   "cell_type": "markdown",
   "metadata": {
    "id": "9v_VDITgogTo"
   },
   "source": [
    "## 1. 그래디언트 계산"
   ]
  },
  {
   "cell_type": "markdown",
   "metadata": {
    "id": "ofVYsqbwnbxS"
   },
   "source": [
    "### 1.1 함수의 변화율"
   ]
  },
  {
   "cell_type": "code",
   "execution_count": 1,
   "metadata": {
    "id": "BH-34cdznSi5"
   },
   "outputs": [],
   "source": [
    "from typing import Callable\n",
    "\n",
    "def difference_quotient(f: Callable[[float], float],\n",
    "                        x: float,\n",
    "                        h: float) -> float:\n",
    "    return (f(x + h) - f(x)) / h"
   ]
  },
  {
   "cell_type": "markdown",
   "metadata": {
    "id": "o5nrk1nRnqJP"
   },
   "source": [
    "### 1.2 함수의 미분"
   ]
  },
  {
   "cell_type": "code",
   "execution_count": 2,
   "metadata": {
    "id": "B1Hbz_v3nwSK"
   },
   "outputs": [],
   "source": [
    "def square(x: float) -> float:\n",
    "    return x * x\n",
    "\n",
    "def derivative(x: float) -> float:\n",
    "    return 2 * x"
   ]
  },
  {
   "cell_type": "markdown",
   "metadata": {
    "id": "ppZVcpVyn0xH"
   },
   "source": [
    "### 1.3 두 방법의 비교"
   ]
  },
  {
   "cell_type": "code",
   "execution_count": 3,
   "metadata": {
    "id": "OJ8DImTuoDMB"
   },
   "outputs": [
    {
     "data": {
      "image/png": "[encoded data removed]",
      "text/plain": [
       "<Figure size 432x288 with 1 Axes>"
      ]
     },
     "metadata": {
      "needs_background": "light"
     },
     "output_type": "display_data"
    }
   ],
   "source": [
    "xs = range(-10, 11)\n",
    "actuals = [derivative(x) for x in xs]\n",
    "estimates = [difference_quotient(square, x, h=0.001) for x in xs]\n",
    "\n",
    "# plot to show they're basically the same\n",
    "import matplotlib.pyplot as plt\n",
    "plt.title(\"Actual Derivatives vs. Estimates\")\n",
    "plt.plot(xs, actuals, 'rx', label='Actual')       # red  x\n",
    "plt.plot(xs, estimates, 'b+', label='Estimate')   # blue +\n",
    "plt.legend(loc=9)\n",
    "plt.show()\n",
    "plt.close()"
   ]
  },
  {
   "cell_type": "markdown",
   "metadata": {
    "id": "_r4FFkqroLaQ"
   },
   "source": [
    "### 1.4 다변수 함수의 변화율"
   ]
  },
  {
   "cell_type": "code",
   "execution_count": 6,
   "metadata": {
    "id": "bIm24qEGoQRq"
   },
   "outputs": [],
   "source": [
    "from scratch.linear_algebra import Vector, dot\n",
    "def partial_difference_quotient(f: Callable[[Vector], float],\n",
    "                                v: Vector,\n",
    "                                i: int,\n",
    "                                h: float) -> float:\n",
    "    \"\"\"Returns the i-th partial difference quotient of f at v\"\"\"\n",
    "    w = [v_j + (h if j == i else 0)    # add h to just the ith element of v\n",
    "            for j, v_j in enumerate(v)]\n",
    "\n",
    "    return (f(w) - f(v)) / h"
   ]
  },
  {
   "cell_type": "code",
   "execution_count": 7,
   "metadata": {
    "id": "9EeSEWYfoWlH"
   },
   "outputs": [],
   "source": [
    "def estimate_gradient(f: Callable[[Vector], float],\n",
    "                      v: Vector,\n",
    "                      h: float = 0.0001):\n",
    "    return [partial_difference_quotient(f, v, i, h)\n",
    "            for i in range(len(v))]"
   ]
  },
  {
   "cell_type": "markdown",
   "metadata": {
    "id": "jJit6LvFojZp"
   },
   "source": [
    "## 2. 경사 하강법"
   ]
  },
  {
   "cell_type": "markdown",
   "metadata": {
    "id": "DwLiUD04olF3"
   },
   "source": [
    "### 2.1 그래디언트 스텝"
   ]
  },
  {
   "cell_type": "code",
   "execution_count": 9,
   "metadata": {
    "id": "LYQDmxw3onjg"
   },
   "outputs": [],
   "source": [
    "import random\n",
    "from scratch.linear_algebra import distance, add, scalar_multiply\n",
    "\n",
    "def gradient_step(v: Vector, gradient: Vector, step_size: float) -> Vector:\n",
    "    \"\"\"Moves `step_size` in the `gradient` direction from `v`\"\"\"\n",
    "    assert len(v) == len(gradient)\n",
    "    step = scalar_multiply(step_size, gradient)\n",
    "    return add(v, step)"
   ]
  },
  {
   "cell_type": "markdown",
   "metadata": {
    "id": "oQ6VHIxnor5Z"
   },
   "source": [
    "### 2.2  경사 하강법 - 2차 다변수 함수 예시"
   ]
  },
  {
   "cell_type": "code",
   "execution_count": 10,
   "metadata": {
    "id": "DeouM5sgov-v"
   },
   "outputs": [],
   "source": [
    "def sum_of_squares_gradient(v: Vector) -> Vector:\n",
    "    return [2 * v_i for v_i in v]"
   ]
  },
  {
   "cell_type": "code",
   "execution_count": 12,
   "metadata": {
    "id": "uEyQSdoXo7io"
   },
   "outputs": [],
   "source": [
    "# pick a random starting point\n",
    "v = [random.uniform(-10, 10) for i in range(3)]\n",
    "\n",
    "for epoch in range(1000):\n",
    "    grad = sum_of_squares_gradient(v)    # compute the gradient at v\n",
    "    v = gradient_step(v, grad, -0.01)    # take a negative gradient step\n",
    "    # print(epoch, v)\n",
    "\n",
    "assert distance(v, [0, 0, 0]) < 0.001    # v should be close to 0"
   ]
  },
  {
   "cell_type": "markdown",
   "metadata": {
    "id": "xDG2jXVfpFV4"
   },
   "source": [
    "### 2.3 경사 하강법 - 단순 선형 회귀 예시"
   ]
  },
  {
   "cell_type": "markdown",
   "metadata": {
    "id": "SZBcSHw_pkQP"
   },
   "source": [
    "#### 데이터 생성"
   ]
  },
  {
   "cell_type": "code",
   "execution_count": 13,
   "metadata": {
    "id": "-LHqf0-wpJVg"
   },
   "outputs": [],
   "source": [
    "# x ranges from -50 to 49, y is always 20 * x + 5\n",
    "inputs = [(x, 20 * x + 5) for x in range(-50, 50)]"
   ]
  },
  {
   "cell_type": "markdown",
   "metadata": {
    "id": "d0ZQv2I7pmo4"
   },
   "source": [
    "#### 그래디언트 계산"
   ]
  },
  {
   "cell_type": "code",
   "execution_count": 14,
   "metadata": {
    "id": "K-3UTlYppPwZ"
   },
   "outputs": [],
   "source": [
    "def linear_gradient(x: float, y: float, theta: Vector) -> Vector:\n",
    "    slope, intercept = theta\n",
    "    predicted = slope * x + intercept    # The prediction of the model.\n",
    "    error = (predicted - y)              # error is (predicted - actual)\n",
    "    squared_error = error ** 2           # We'll minimize squared error\n",
    "    grad = [2 * error * x, 2 * error]    # using its gradient.\n",
    "    return grad"
   ]
  },
  {
   "cell_type": "markdown",
   "metadata": {
    "id": "fSbMGQiBphWJ"
   },
   "source": [
    "#### 배치 경사 하강법"
   ]
  },
  {
   "cell_type": "code",
   "execution_count": 15,
   "metadata": {
    "id": "ARBz1nqPpTtP"
   },
   "outputs": [],
   "source": [
    "    from scratch.linear_algebra import vector_mean\n",
    "    \n",
    "    # Start with random values for slope and intercept.\n",
    "    theta = [random.uniform(-1, 1), random.uniform(-1, 1)]\n",
    "    \n",
    "    learning_rate = 0.001\n",
    "    \n",
    "    for epoch in range(5000):\n",
    "        # Compute the mean of the gradients\n",
    "        grad = vector_mean([linear_gradient(x, y, theta) for x, y in inputs])\n",
    "        # Take a step in that direction\n",
    "        theta = gradient_step(theta, grad, -learning_rate)\n",
    "        # print(epoch, theta)\n",
    "    \n",
    "    slope, intercept = theta\n",
    "    assert 19.9 < slope < 20.1,   \"slope should be about 20\"\n",
    "    assert 4.9 < intercept < 5.1, \"intercept should be about 5\""
   ]
  },
  {
   "cell_type": "markdown",
   "metadata": {
    "id": "opZjnS2Ip4CA"
   },
   "source": [
    "#### 미니 배치 경사 하강법"
   ]
  },
  {
   "cell_type": "markdown",
   "metadata": {
    "id": "x2CmpV7IqAnw"
   },
   "source": [
    "##### 미니 배치 생성"
   ]
  },
  {
   "cell_type": "code",
   "execution_count": 16,
   "metadata": {
    "id": "2tpAm8Ywp64Z"
   },
   "outputs": [],
   "source": [
    "from typing import TypeVar, List, Iterator\n",
    "\n",
    "T = TypeVar('T')  # this allows us to type \"generic\" functions\n",
    "\n",
    "def minibatches(dataset: List[T],\n",
    "                batch_size: int,\n",
    "                shuffle: bool = True) -> Iterator[List[T]]:\n",
    "    \"\"\"Generates `batch_size`-sized minibatches from the dataset\"\"\"\n",
    "    # Start indexes 0, batch_size, 2 * batch_size, ...\n",
    "    batch_starts = [start for start in range(0, len(dataset), batch_size)]\n",
    "\n",
    "    if shuffle: random.shuffle(batch_starts)  # shuffle the batches\n",
    "\n",
    "    for start in batch_starts:\n",
    "        end = start + batch_size\n",
    "        yield dataset[start:end]"
   ]
  },
  {
   "cell_type": "markdown",
   "metadata": {
    "id": "MFSuY61AqDa3"
   },
   "source": [
    "##### 미니 배치 경사하강법"
   ]
  },
  {
   "cell_type": "code",
   "execution_count": 17,
   "metadata": {
    "id": "sff1j7-ap9no"
   },
   "outputs": [],
   "source": [
    "# Minibatch gradient descent example\n",
    "\n",
    "theta = [random.uniform(-1, 1), random.uniform(-1, 1)]\n",
    "\n",
    "for epoch in range(1000):\n",
    "    for batch in minibatches(inputs, batch_size=20):\n",
    "        grad = vector_mean([linear_gradient(x, y, theta) for x, y in batch])\n",
    "        theta = gradient_step(theta, grad, -learning_rate)\n",
    "    # print(epoch, theta)\n",
    "\n",
    "slope, intercept = theta\n",
    "assert 19.9 < slope < 20.1,   \"slope should be about 20\"\n",
    "assert 4.9 < intercept < 5.1, \"intercept should be about 5\""
   ]
  },
  {
   "cell_type": "markdown",
   "metadata": {
    "id": "wzPXpe26qHZ4"
   },
   "source": [
    "#### 확률적 경사 하강법"
   ]
  },
  {
   "cell_type": "code",
   "execution_count": 18,
   "metadata": {
    "id": "WqbliyAoqJYp"
   },
   "outputs": [],
   "source": [
    "# Stochastic gradient descent example\n",
    "\n",
    "theta = [random.uniform(-1, 1), random.uniform(-1, 1)]\n",
    "\n",
    "for epoch in range(100):\n",
    "    for x, y in inputs:\n",
    "        grad = linear_gradient(x, y, theta)\n",
    "        theta = gradient_step(theta, grad, -learning_rate)\n",
    "    # print(epoch, theta)\n",
    "\n",
    "slope, intercept = theta\n",
    "assert 19.9 < slope < 20.1,   \"slope should be about 20\"\n",
    "assert 4.9 < intercept < 5.1, \"intercept should be about 5\""
   ]
  }
 ],
 "metadata": {
  "colab": {
   "collapsed_sections": [],
   "name": "GradientDescent.ipynb",
   "provenance": []
  },
  "kernelspec": {
   "display_name": "Python 3",
   "language": "python",
   "name": "python3"
  },
  "language_info": {
   "codemirror_mode": {
    "name": "ipython",
    "version": 3
   },
   "file_extension": ".py",
   "mimetype": "text/x-python",
   "name": "python",
   "nbconvert_exporter": "python",
   "pygments_lexer": "ipython3",
   "version": "3.8.3"
  }
 },
 "nbformat": 4,
 "nbformat_minor": 1
}
