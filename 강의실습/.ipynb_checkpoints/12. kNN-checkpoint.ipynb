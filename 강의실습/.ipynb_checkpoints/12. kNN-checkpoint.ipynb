{
 "cells": [
  {
   "cell_type": "markdown",
   "metadata": {
    "id": "RIA0VDvrb2n-"
   },
   "source": [
    "# 12장. k 최근접 이웃 (kNN)"
   ]
  },
  {
   "cell_type": "markdown",
   "metadata": {
    "id": "XQa0C1hRJtIT"
   },
   "source": [
    "## 1. k-NN 분류기"
   ]
  },
  {
   "cell_type": "markdown",
   "metadata": {
    "id": "f_fGfjB0PDqe"
   },
   "source": [
    "### 투표 함수"
   ]
  },
  {
   "cell_type": "code",
   "execution_count": 1,
   "metadata": {
    "id": "v45HHh_EPDqe"
   },
   "outputs": [],
   "source": [
    "from typing import List\n",
    "from collections import Counter"
   ]
  },
  {
   "cell_type": "markdown",
   "metadata": {
    "id": "9snT_z0DPDqf"
   },
   "source": [
    "#### 최대 득표 방식으로 투표를 실시"
   ]
  },
  {
   "cell_type": "code",
   "execution_count": 2,
   "metadata": {
    "id": "2LOKyEXI70Q1"
   },
   "outputs": [],
   "source": [
    "def raw_majority_vote(labels: List[str]) -> str:\n",
    "    votes = Counter(labels)\n",
    "    winner, _ = votes.most_common(1)[0]\n",
    "    return winner"
   ]
  },
  {
   "cell_type": "markdown",
   "metadata": {
    "id": "W_m9-kiqPDqh"
   },
   "source": [
    "#### 동률이 발생하면 k를 하나씩 줄이면서 재투표"
   ]
  },
  {
   "cell_type": "code",
   "execution_count": 3,
   "metadata": {
    "id": "l2wls7Hq9bQF"
   },
   "outputs": [],
   "source": [
    "def majority_vote(labels: List[str]) -> str:\n",
    "    \"\"\"Assumes that labels are ordered from nearest to farthest.\"\"\"\n",
    "    vote_counts = Counter(labels)\n",
    "    winner, winner_count = vote_counts.most_common(1)[0]\n",
    "    num_winners = len([count\n",
    "                       for count in vote_counts.values()\n",
    "                       if count == winner_count])\n",
    "\n",
    "    if num_winners == 1:\n",
    "        return winner                     # unique winner, so return it\n",
    "    else:\n",
    "        return majority_vote(labels[:-1]) # try again without the farthest"
   ]
  },
  {
   "cell_type": "markdown",
   "metadata": {
    "id": "4AhCv5auJpYT"
   },
   "source": [
    "### k-NN 분류기"
   ]
  },
  {
   "cell_type": "markdown",
   "metadata": {
    "id": "ES0nRSHMPDqi"
   },
   "source": [
    "#### 데이터 포인트 자료 구조"
   ]
  },
  {
   "cell_type": "code",
   "execution_count": 4,
   "metadata": {
    "colab": {
     "base_uri": "https://localhost:8080/",
     "height": 335
    },
    "id": "dRDzvkPcPurd",
    "outputId": "c135bfcb-4955-496f-f5f3-b6609334e2f8"
   },
   "outputs": [
    {
     "ename": "ModuleNotFoundError",
     "evalue": "No module named 'scratch'",
     "output_type": "error",
     "traceback": [
      "\u001b[1;31m---------------------------------------------------------------------------\u001b[0m",
      "\u001b[1;31mModuleNotFoundError\u001b[0m                       Traceback (most recent call last)",
      "\u001b[1;32m<ipython-input-4-5711ba5be2d5>\u001b[0m in \u001b[0;36m<module>\u001b[1;34m\u001b[0m\n\u001b[0;32m      1\u001b[0m \u001b[1;32mfrom\u001b[0m \u001b[0mtyping\u001b[0m \u001b[1;32mimport\u001b[0m \u001b[0mNamedTuple\u001b[0m\u001b[1;33m\u001b[0m\u001b[1;33m\u001b[0m\u001b[0m\n\u001b[1;32m----> 2\u001b[1;33m \u001b[1;32mfrom\u001b[0m \u001b[0mscratch\u001b[0m\u001b[1;33m.\u001b[0m\u001b[0mlinear_algebra\u001b[0m \u001b[1;32mimport\u001b[0m \u001b[0mVector\u001b[0m\u001b[1;33m,\u001b[0m \u001b[0mdistance\u001b[0m\u001b[1;33m\u001b[0m\u001b[1;33m\u001b[0m\u001b[0m\n\u001b[0m",
      "\u001b[1;31mModuleNotFoundError\u001b[0m: No module named 'scratch'"
     ]
    }
   ],
   "source": [
    "from typing import NamedTuple\n",
    "from scratch.linear_algebra import Vector, distance"
   ]
  },
  {
   "cell_type": "code",
   "execution_count": null,
   "metadata": {
    "id": "nHrnI83CPDqi"
   },
   "outputs": [],
   "source": [
    "class LabeledPoint(NamedTuple):\n",
    "    point: Vector\n",
    "    label: str"
   ]
  },
  {
   "cell_type": "markdown",
   "metadata": {
    "id": "AU95fylDQAuN"
   },
   "source": [
    "#### k-NN 분류기"
   ]
  },
  {
   "cell_type": "code",
   "execution_count": null,
   "metadata": {
    "id": "NqrP_c4Z9Ux1"
   },
   "outputs": [],
   "source": [
    "def knn_classify(k: int,\n",
    "                 labeled_points: List[LabeledPoint],\n",
    "                 new_point: Vector) -> str:\n",
    "\n",
    "    # Order the labeled points from nearest to farthest.\n",
    "    by_distance = sorted(labeled_points,\n",
    "                         key=lambda lp: distance(lp.point, new_point))\n",
    "\n",
    "    # Find the labels for the k closest\n",
    "    k_nearest_labels = [lp.label for lp in by_distance[:k]]\n",
    "\n",
    "    # and let them vote.\n",
    "    return majority_vote(k_nearest_labels)"
   ]
  },
  {
   "cell_type": "markdown",
   "metadata": {
    "id": "CjePBfZAPDqj"
   },
   "source": [
    "## 2. (key, value) 자료 구조"
   ]
  },
  {
   "cell_type": "markdown",
   "metadata": {
    "id": "0IuQQCO6q7m0"
   },
   "source": [
    "#### 1안. Collections의 namedtuple 이용하기"
   ]
  },
  {
   "cell_type": "code",
   "execution_count": null,
   "metadata": {
    "id": "5yS5gk0Mq9qg"
   },
   "outputs": [],
   "source": [
    "import datetime\n",
    "from collections import namedtuple\n",
    "\n",
    "StockPrice1 = namedtuple('StockPrice', ['symbol', 'date', 'closing_price'])\n",
    "price = StockPrice1('MSFT', datetime.date(2018, 12, 14), 106.03)"
   ]
  },
  {
   "cell_type": "markdown",
   "metadata": {
    "id": "YO3VPGzUrEb9"
   },
   "source": [
    "#### 2안. Typing의 NamedTuple 이용하기"
   ]
  },
  {
   "cell_type": "code",
   "execution_count": null,
   "metadata": {
    "id": "kDUSi6ltrIIl"
   },
   "outputs": [],
   "source": [
    "from typing import NamedTuple\n",
    "class StockPrice(NamedTuple):\n",
    "    symbol: str\n",
    "    date: datetime.date\n",
    "    closing_price: float\n",
    "\n",
    "    def is_high_tech(self) -> bool:\n",
    "        \"\"\"It's a class, so we can add methods too\"\"\"\n",
    "        return self.symbol in ['MSFT', 'GOOG', 'FB', 'AMZN', 'AAPL']\n",
    "\n",
    "price = StockPrice('MSFT', datetime.date(2018, 12, 14), 106.03)\n",
    "\n",
    "assert price.symbol == 'MSFT'\n",
    "assert price.closing_price == 106.03\n",
    "assert price.is_high_tech()"
   ]
  },
  {
   "cell_type": "markdown",
   "metadata": {
    "id": "pYJ0FJK3rNw9"
   },
   "source": [
    "#### 3안. dataclasses의 dataclass 이용하기"
   ]
  },
  {
   "cell_type": "code",
   "execution_count": null,
   "metadata": {
    "id": "_LsM5uvQrTwl"
   },
   "outputs": [],
   "source": [
    "from dataclasses import dataclass\n",
    "\n",
    "@dataclass\n",
    "class StockPrice2:\n",
    "    symbol: str\n",
    "    date: datetime.date\n",
    "    closing_price: float\n",
    "\n",
    "    def is_high_tech(self) -> bool:\n",
    "        \"\"\"It's a class, so we can add methods too\"\"\"\n",
    "        return self.symbol in ['MSFT', 'GOOG', 'FB', 'AMZN', 'AAPL']\n",
    "\n",
    "price = StockPrice2('MSFT', datetime.date(2018, 12, 14), 106.03)\n",
    "assert price.symbol == 'MSFT'\n",
    "assert price.closing_price == 106.03\n",
    "assert price.is_high_tech()"
   ]
  },
  {
   "cell_type": "markdown",
   "metadata": {
    "id": "GQJlsKcyPDqk"
   },
   "source": [
    "## 3. k-NN 예시 (붓꽃 종 분류)"
   ]
  },
  {
   "cell_type": "markdown",
   "metadata": {
    "id": "dfDvgQ88PS1E"
   },
   "source": [
    "### 데이터셋 다운로드"
   ]
  },
  {
   "cell_type": "code",
   "execution_count": null,
   "metadata": {
    "id": "5sECNI0T7Mif"
   },
   "outputs": [],
   "source": [
    "import requests\n",
    "\n",
    "data = requests.get(\"https://archive.ics.uci.edu/ml/machine-learning-databases/iris/iris.data\")\n",
    "\n",
    "with open(\"iris.data\", \"w\") as f:\n",
    "  f.write(data.text)"
   ]
  },
  {
   "cell_type": "markdown",
   "metadata": {
    "id": "Xs2qkFbPJQS7"
   },
   "source": [
    "### 데이터 읽기"
   ]
  },
  {
   "cell_type": "code",
   "execution_count": null,
   "metadata": {
    "id": "mcH2awG77bqt"
   },
   "outputs": [],
   "source": [
    "from typing import Dict\n",
    "import csv\n",
    "from collections import defaultdict"
   ]
  },
  {
   "cell_type": "markdown",
   "metadata": {
    "id": "p8WIOmJhQfa9"
   },
   "source": [
    "#### 데이터 파싱"
   ]
  },
  {
   "cell_type": "code",
   "execution_count": null,
   "metadata": {
    "id": "AkkGHU3XQcLO"
   },
   "outputs": [],
   "source": [
    "def parse_iris_row(row: List[str]) -> LabeledPoint:\n",
    "    \"\"\"\n",
    "    sepal_length, sepal_width, petal_length, petal_width, class\n",
    "    \"\"\"\n",
    "    measurements = [float(value) for value in row[:-1]]\n",
    "    # class is e.g. \"Iris-virginica\"; we just want \"virginica\"\n",
    "    label = row[-1].split(\"-\")[-1]\n",
    "\n",
    "    return LabeledPoint(measurements, label)"
   ]
  },
  {
   "cell_type": "markdown",
   "metadata": {
    "id": "rhn37R0zQlRD"
   },
   "source": [
    "#### csv 파일 읽기"
   ]
  },
  {
   "cell_type": "code",
   "execution_count": null,
   "metadata": {
    "id": "3LhdpnGDQW8m"
   },
   "outputs": [],
   "source": [
    "with open(\"iris.data\") as f:\n",
    "    reader = csv.reader(f)\n",
    "    # for i, row in enumerate(reader):\n",
    "    #    print(i, row)\n",
    "    iris_data = [parse_iris_row(row) for row in reader if row]\n",
    "    # print(iris_data)"
   ]
  },
  {
   "cell_type": "markdown",
   "metadata": {
    "id": "O-Pi83pDQtwX"
   },
   "source": [
    "#### 붓꽃 종 별 딕셔너리 생성"
   ]
  },
  {
   "cell_type": "code",
   "execution_count": null,
   "metadata": {
    "id": "mEbMADFcQYmF"
   },
   "outputs": [],
   "source": [
    "# We'll also group just the points by species/label so we can plot them.\n",
    "points_by_species: Dict[str, List[Vector]] = defaultdict(list)\n",
    "for iris in iris_data:\n",
    "    points_by_species[iris.label].append(iris.point)\n",
    "# print(points_by_species)"
   ]
  },
  {
   "cell_type": "markdown",
   "metadata": {
    "id": "m3sNkSviJb5c"
   },
   "source": [
    "### 데이터 탐색"
   ]
  },
  {
   "cell_type": "code",
   "execution_count": null,
   "metadata": {
    "colab": {
     "base_uri": "https://localhost:8080/",
     "height": 265
    },
    "id": "TMnMda4u90NM",
    "outputId": "07b33f2b-e705-40c2-86a8-6a4593046bcf"
   },
   "outputs": [],
   "source": [
    "metrics = ['sepal length', 'sepal width', 'petal length', 'petal width']\n",
    "pairs = [(i, j) for i in range(4) for j in range(4) if i < j]\n",
    "print(pairs)\n",
    "marks = ['+', '.', 'x']  # we have 3 classes, so 3 markers"
   ]
  },
  {
   "cell_type": "code",
   "execution_count": null,
   "metadata": {},
   "outputs": [],
   "source": [
    "from matplotlib import pyplot as plt\n",
    "# plt.figure(figsize=(30, 20))\n",
    "fig, ax = plt.subplots(2, 3, figsize=(12, 7))\n",
    "\n",
    "for row in range(2):\n",
    "    for col in range(3):\n",
    "        i, j = pairs[3 * row + col]\n",
    "        ax[row][col].set_title(f\"{metrics[i]} vs {metrics[j]}\", fontsize=8)\n",
    "        ax[row][col].set_xticks([])\n",
    "        ax[row][col].set_yticks([])\n",
    "\n",
    "        for mark, (species, points) in zip(marks, points_by_species.items()):\n",
    "            xs = [point[i] for point in points]\n",
    "            ys = [point[j] for point in points]\n",
    "            ax[row][col].scatter(xs, ys, marker=mark, label=species)\n",
    "\n",
    "ax[-1][-1].legend(loc='lower right', prop={'size': 6})\n",
    "plt.show()"
   ]
  },
  {
   "cell_type": "markdown",
   "metadata": {
    "id": "OSh-V8zBJZOz"
   },
   "source": [
    "### 데이터셋 분리"
   ]
  },
  {
   "cell_type": "code",
   "execution_count": null,
   "metadata": {
    "id": "UGsPIFge-krd"
   },
   "outputs": [],
   "source": [
    "import random\n",
    "from scratch.machine_learning import split_data\n",
    "\n",
    "random.seed(12)\n",
    "iris_train, iris_test = split_data(iris_data, 0.70)\n",
    "assert len(iris_train) == 0.7 * 150\n",
    "assert len(iris_test) == 0.3 * 150"
   ]
  },
  {
   "cell_type": "markdown",
   "metadata": {
    "id": "GOjI4BV4RW_i"
   },
   "source": [
    "### 예측 "
   ]
  },
  {
   "cell_type": "code",
   "execution_count": null,
   "metadata": {
    "colab": {
     "base_uri": "https://localhost:8080/"
    },
    "id": "VSrYsZDn-wnO",
    "outputId": "3dd3d512-e413-4a50-fef0-734153a81cb6"
   },
   "outputs": [],
   "source": [
    "from typing import Tuple\n",
    "\n",
    "# track how many times we see (predicted, actual)\n",
    "confusion_matrix: Dict[Tuple[str, str], int] = defaultdict(int)\n",
    "num_correct = 0\n",
    "\n",
    "for iris in iris_test:\n",
    "    predicted = knn_classify(5, iris_train, iris.point)\n",
    "    actual = iris.label\n",
    "\n",
    "    if predicted == actual:\n",
    "        num_correct += 1\n",
    "\n",
    "    confusion_matrix[(predicted, actual)] += 1\n",
    "\n",
    "pct_correct = num_correct / len(iris_test)\n",
    "print(pct_correct, confusion_matrix)"
   ]
  },
  {
   "cell_type": "markdown",
   "metadata": {
    "id": "7EFsA-SdDkSu"
   },
   "source": [
    "## 4. 차원의 저주"
   ]
  },
  {
   "cell_type": "code",
   "execution_count": null,
   "metadata": {
    "id": "HQ82mtFaDjq8"
   },
   "outputs": [],
   "source": [
    "import random\n",
    "\n",
    "def random_point(dim: int) -> Vector:\n",
    "    return [random.random() for _ in range(dim)]\n",
    "\n",
    "def random_distances(dim: int, num_pairs: int) -> List[float]:\n",
    "    return [distance(random_point(dim), random_point(dim))\n",
    "            for _ in range(num_pairs)]"
   ]
  },
  {
   "cell_type": "code",
   "execution_count": null,
   "metadata": {
    "colab": {
     "base_uri": "https://localhost:8080/"
    },
    "id": "SHybsYgB-0I9",
    "outputId": "686ea4d8-d39d-4406-c561-415239f674f8"
   },
   "outputs": [],
   "source": [
    "import tqdm\n",
    "dimensions = range(1, 101)\n",
    "\n",
    "avg_distances = []\n",
    "min_distances = []\n",
    "\n",
    "random.seed(0)\n",
    "for dim in tqdm.tqdm(dimensions, desc=\"Curse of Dimensionality\"):\n",
    "    distances = random_distances(dim, 10000)      # 10,000 random pairs\n",
    "    avg_distances.append(sum(distances) / 10000)  # track the average\n",
    "    min_distances.append(min(distances))          # track the minimum\n",
    "\n",
    "min_avg_ratio = [min_dist / avg_dist\n",
    "                    for min_dist, avg_dist in zip(min_distances, avg_distances)]"
   ]
  },
  {
   "cell_type": "code",
   "execution_count": null,
   "metadata": {
    "colab": {
     "base_uri": "https://localhost:8080/",
     "height": 295
    },
    "id": "R8TWe13XF_BV",
    "outputId": "73fb78b7-2792-4cc1-b6a8-fa2ccc83deb3"
   },
   "outputs": [],
   "source": [
    "   from matplotlib import pyplot as plt\n",
    "\n",
    "   plt.plot(dimensions, avg_distances)\n",
    "   plt.plot(dimensions, min_distances)\n",
    "   plt.title(\"10,000 random distances\")\n",
    "   plt.legend([\"average distance\", \"minimum distance\"], loc='upper left')\n",
    "   plt.xlabel(\"# of dimensions\")\n",
    "   plt.ylabel(\"distance\")\n",
    "\n",
    "   plt.show()"
   ]
  },
  {
   "cell_type": "code",
   "execution_count": null,
   "metadata": {
    "colab": {
     "base_uri": "https://localhost:8080/",
     "height": 295
    },
    "id": "md0i7-QBG8Vy",
    "outputId": "fe873369-8f66-4baf-ad34-ea12f3051daf"
   },
   "outputs": [],
   "source": [
    "   from matplotlib import pyplot as plt\n",
    "\n",
    "   plt.plot(dimensions, min_avg_ratio)\n",
    "   plt.title(\"Minimum Distances/Average Distance\")\n",
    "   plt.xlabel(\"# of dimensions\")\n",
    "   plt.ylabel(\"ratio\")\n",
    "\n",
    "   plt.show()"
   ]
  },
  {
   "cell_type": "code",
   "execution_count": null,
   "metadata": {
    "colab": {
     "base_uri": "https://localhost:8080/",
     "height": 337
    },
    "id": "jKfG6VIzJ_FH",
    "outputId": "b6399f1a-38cf-4598-d709-88d4420c1a51"
   },
   "outputs": [],
   "source": [
    "from mpl_toolkits.mplot3d import Axes3D\n",
    "\n",
    "dim = 3\n",
    "num_pairs = 50\n",
    "\n",
    "points = [random_point(dim) for _ in range(num_pairs)]\n",
    "x_coord, y_coord, z_coord = zip(*points)\n",
    "\n",
    "fig, ax = plt.subplots(1, 1)\n",
    "ax = Axes3D(fig, elev=-150, azim=110)\n",
    "ax.scatter(x_coord, y_coord, z_coord,\n",
    "           cmap=plt.cm.Set1, edgecolor='k', s=40)"
   ]
  }
 ],
 "metadata": {
  "colab": {
   "collapsed_sections": [],
   "name": "12. kNN.ipynb",
   "provenance": []
  },
  "kernelspec": {
   "display_name": "Python 3",
   "language": "python",
   "name": "python3"
  },
  "language_info": {
   "codemirror_mode": {
    "name": "ipython",
    "version": 3
   },
   "file_extension": ".py",
   "mimetype": "text/x-python",
   "name": "python",
   "nbconvert_exporter": "python",
   "pygments_lexer": "ipython3",
   "version": "3.8.5"
  }
 },
 "nbformat": 4,
 "nbformat_minor": 1
}
