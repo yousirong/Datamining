{
 "cells": [
  {
   "cell_type": "markdown",
   "metadata": {
    "id": "Wisv5eRs3-CF"
   },
   "source": [
    "# 17장. 결정 트리 (Decision Tree)"
   ]
  },
  {
   "cell_type": "markdown",
   "metadata": {
    "id": "uSwuCEOC3-CU"
   },
   "source": [
    "## 1. 데이터셋 (인터뷰 후보자 합격 예측) "
   ]
  },
  {
   "cell_type": "markdown",
   "metadata": {
    "id": "7qwHV2U13-CV"
   },
   "source": [
    "### 1.1 데이터 NamedTuple"
   ]
  },
  {
   "cell_type": "code",
   "execution_count": 1,
   "metadata": {
    "executionInfo": {
     "elapsed": 1790,
     "status": "ok",
     "timestamp": 1621348262989,
     "user": {
      "displayName": "Seongjin Yoon",
      "photoUrl": "",
      "userId": "05896535080749314531"
     },
     "user_tz": -540
    },
    "id": "Gxwuo0DK3-CV"
   },
   "outputs": [],
   "source": [
    "from typing import NamedTuple, Optional\n",
    "\n",
    "class Candidate(NamedTuple):\n",
    "    level: str\n",
    "    lang: str\n",
    "    tweets: bool\n",
    "    phd: bool\n",
    "    did_well: Optional[bool] = None  # allow unlabeled data"
   ]
  },
  {
   "cell_type": "markdown",
   "metadata": {
    "id": "fd3BmNqm3-CV"
   },
   "source": [
    "### 1.2 데이터셋"
   ]
  },
  {
   "cell_type": "code",
   "execution_count": 2,
   "metadata": {
    "id": "zv3ySonq3-CW"
   },
   "outputs": [],
   "source": [
    "                  #  level     lang     tweets  phd  did_well\n",
    "inputs = [Candidate('Senior', 'Java',   False, False, False),\n",
    "          Candidate('Senior', 'Java',   False, True,  False),\n",
    "          Candidate('Mid',    'Python', False, False, True),\n",
    "          Candidate('Junior', 'Python', False, False, True),\n",
    "          Candidate('Junior', 'R',      True,  False, True),\n",
    "          Candidate('Junior', 'R',      True,  True,  False),\n",
    "          Candidate('Mid',    'R',      True,  True,  True),\n",
    "          Candidate('Senior', 'Python', False, False, False),\n",
    "          Candidate('Senior', 'R',      True,  False, True),\n",
    "          Candidate('Junior', 'Python', True,  False, True),\n",
    "          Candidate('Senior', 'Python', True,  True,  True),\n",
    "          Candidate('Mid',    'Python', False, True,  True),\n",
    "          Candidate('Mid',    'Java',   True,  False, True),\n",
    "          Candidate('Junior', 'Python', False, True,  False)\n",
    "         ]"
   ]
  },
  {
   "cell_type": "markdown",
   "metadata": {
    "id": "4-xUyDG93-CN"
   },
   "source": [
    "## 2. 엔트로피 (Entropy)"
   ]
  },
  {
   "cell_type": "markdown",
   "metadata": {
    "id": "lSAs5gVo3-CP"
   },
   "source": [
    "### 2.1 엔트로피"
   ]
  },
  {
   "cell_type": "code",
   "execution_count": 3,
   "metadata": {
    "id": "KBDBTgtl3-CP"
   },
   "outputs": [],
   "source": [
    "from typing import List\n",
    "import math\n",
    "\n",
    "def entropy(class_probabilities: List[float]) -> float:\n",
    "    \"\"\"Given a list of class probabilities, compute the entropy\"\"\"\n",
    "    return sum(-p * math.log(p, 2)\n",
    "               for p in class_probabilities\n",
    "               if p > 0)                     # ignore zero probabilities"
   ]
  },
  {
   "cell_type": "code",
   "execution_count": 4,
   "metadata": {
    "id": "lkrFaZxH3-CQ"
   },
   "outputs": [],
   "source": [
    "assert entropy([1.0]) == 0\n",
    "assert entropy([0.5, 0.5]) == 1\n",
    "assert 0.81 < entropy([0.25, 0.75]) < 0.82"
   ]
  },
  {
   "cell_type": "markdown",
   "metadata": {
    "id": "Rsa7uwLG3-CR"
   },
   "source": [
    "### 2.2 클래스 별 확률"
   ]
  },
  {
   "cell_type": "code",
   "execution_count": 5,
   "metadata": {
    "id": "U5PkPh513-CR"
   },
   "outputs": [],
   "source": [
    "from typing import Any\n",
    "from collections import Counter\n",
    "\n",
    "def class_probabilities(labels: List[Any]) -> List[float]:\n",
    "    total_count = len(labels)\n",
    "    return [count / total_count\n",
    "            for count in Counter(labels).values()]"
   ]
  },
  {
   "cell_type": "markdown",
   "metadata": {
    "id": "VJDEl3753-CS"
   },
   "source": [
    "### 2.3 데이터 엔트로피"
   ]
  },
  {
   "cell_type": "code",
   "execution_count": 6,
   "metadata": {
    "id": "_b9miSub3-CS"
   },
   "outputs": [],
   "source": [
    "def data_entropy(labels: List[Any]) -> float:\n",
    "    return entropy(class_probabilities(labels))"
   ]
  },
  {
   "cell_type": "code",
   "execution_count": 7,
   "metadata": {
    "id": "ZcFRc0vx3-CT"
   },
   "outputs": [],
   "source": [
    "assert data_entropy(['a']) == 0\n",
    "assert data_entropy([True, False]) == 1\n",
    "assert data_entropy([3, 4, 4, 4]) == entropy([0.25, 0.75])"
   ]
  },
  {
   "cell_type": "markdown",
   "metadata": {
    "id": "W4PLPp-mLPX0"
   },
   "source": [
    "## 3. 노드 분할 방식"
   ]
  },
  {
   "cell_type": "markdown",
   "metadata": {
    "id": "9pl5q9Eh3-CX"
   },
   "source": [
    "### 3.1 속성 값에 따라 데이터 분할"
   ]
  },
  {
   "cell_type": "code",
   "execution_count": 8,
   "metadata": {
    "colab": {
     "base_uri": "https://localhost:8080/",
     "height": 245
    },
    "executionInfo": {
     "elapsed": 2245,
     "status": "error",
     "timestamp": 1621348162223,
     "user": {
      "displayName": "Seongjin Yoon",
      "photoUrl": "",
      "userId": "05896535080749314531"
     },
     "user_tz": -540
    },
    "id": "7VL_Qq3r3-CX",
    "outputId": "c637b837-09c6-44a3-da5d-98606e44adb6"
   },
   "outputs": [],
   "source": [
    "from typing import Dict, TypeVar\n",
    "from collections import defaultdict\n",
    "\n",
    "T = TypeVar('T')  # generic type for inputs\n",
    "\n",
    "def partition_by(inputs: List[T], attribute: str) -> Dict[Any, List[T]]:\n",
    "    \"\"\"Partition the inputs into lists based on the specified attribute.\"\"\"\n",
    "    partitions: Dict[Any, List[T]] = defaultdict(list)\n",
    "    for input in inputs:\n",
    "        key = getattr(input, attribute)  # value of the specified attribute\n",
    "        partitions[key].append(input)    # add input to the correct partition\n",
    "    return partitions"
   ]
  },
  {
   "cell_type": "markdown",
   "metadata": {
    "id": "5j_kxU3T3-CT"
   },
   "source": [
    "### 3.2 분할 엔트로피"
   ]
  },
  {
   "cell_type": "code",
   "execution_count": 9,
   "metadata": {
    "id": "H-X5nerb3-CU"
   },
   "outputs": [],
   "source": [
    "def partition_entropy(subsets: List[List[Any]]) -> float:\n",
    "    \"\"\"Returns the entropy from this partition of data into subsets\"\"\"\n",
    "    total_count = sum(len(subset) for subset in subsets)\n",
    "\n",
    "    return sum(data_entropy(subset) * len(subset) / total_count\n",
    "               for subset in subsets)"
   ]
  },
  {
   "cell_type": "markdown",
   "metadata": {
    "id": "gTBje0su3-CY"
   },
   "source": [
    "### 3.3 **데이터 분할 및 분할 엔트로피 계산**"
   ]
  },
  {
   "cell_type": "code",
   "execution_count": 10,
   "metadata": {
    "executionInfo": {
     "elapsed": 2234,
     "status": "aborted",
     "timestamp": 1621348162217,
     "user": {
      "displayName": "Seongjin Yoon",
      "photoUrl": "",
      "userId": "05896535080749314531"
     },
     "user_tz": -540
    },
    "id": "ek0O-1zN3-CY"
   },
   "outputs": [],
   "source": [
    "def partition_entropy_by(inputs: List[Any],\n",
    "                         attribute: str,\n",
    "                         label_attribute: str) -> float:\n",
    "    \"\"\"Compute the entropy corresponding to the given partition\"\"\"\n",
    "    # partitions consist of our inputs\n",
    "    partitions = partition_by(inputs, attribute)\n",
    "\n",
    "    # but partition_entropy needs just the class labels\n",
    "    labels = [[getattr(input, label_attribute) for input in partition]\n",
    "              for partition in partitions.values()]\n",
    "\n",
    "    return partition_entropy(labels)"
   ]
  },
  {
   "cell_type": "markdown",
   "metadata": {
    "id": "gb84p8023-CZ"
   },
   "source": [
    "### 3.4 분할 속성 탐색"
   ]
  },
  {
   "cell_type": "markdown",
   "metadata": {
    "id": "r1vOPg7oRQZa"
   },
   "source": [
    "#### 3.4.1 1차 분할 속성 탐색"
   ]
  },
  {
   "cell_type": "code",
   "execution_count": 11,
   "metadata": {
    "executionInfo": {
     "elapsed": 2227,
     "status": "aborted",
     "timestamp": 1621348162219,
     "user": {
      "displayName": "Seongjin Yoon",
      "photoUrl": "",
      "userId": "05896535080749314531"
     },
     "user_tz": -540
    },
    "id": "G0ABEyG73-CZ"
   },
   "outputs": [
    {
     "name": "stdout",
     "output_type": "stream",
     "text": [
      "level 0.6935361388961919\n",
      "lang 0.8601317128547441\n",
      "tweets 0.7884504573082896\n",
      "phd 0.8921589282623617\n"
     ]
    }
   ],
   "source": [
    "for key in ['level','lang','tweets','phd']:\n",
    "    print(key, partition_entropy_by(inputs, key, 'did_well'))\n",
    "\n",
    "assert 0.69 < partition_entropy_by(inputs, 'level', 'did_well')  < 0.70\n",
    "assert 0.86 < partition_entropy_by(inputs, 'lang', 'did_well')   < 0.87\n",
    "assert 0.78 < partition_entropy_by(inputs, 'tweets', 'did_well') < 0.79\n",
    "assert 0.89 < partition_entropy_by(inputs, 'phd', 'did_well')    < 0.90"
   ]
  },
  {
   "cell_type": "markdown",
   "metadata": {
    "id": "peLF6WFB3-Cb"
   },
   "source": [
    "#### 3.4.2 2차 분할 속성 탐색 (직급 별로 파티션 엔트로피 비교)"
   ]
  },
  {
   "cell_type": "code",
   "execution_count": 12,
   "metadata": {
    "executionInfo": {
     "elapsed": 2226,
     "status": "aborted",
     "timestamp": 1621348162220,
     "user": {
      "displayName": "Seongjin Yoon",
      "photoUrl": "",
      "userId": "05896535080749314531"
     },
     "user_tz": -540
    },
    "id": "3P58J9Oj3-Cb"
   },
   "outputs": [],
   "source": [
    "senior_inputs = [input for input in inputs if input.level == 'Senior']\n",
    "\n",
    "assert 0.4 == partition_entropy_by(senior_inputs, 'lang', 'did_well')\n",
    "assert 0.0 == partition_entropy_by(senior_inputs, 'tweets', 'did_well')\n",
    "assert 0.95 < partition_entropy_by(senior_inputs, 'phd', 'did_well') < 0.96"
   ]
  },
  {
   "cell_type": "code",
   "execution_count": 13,
   "metadata": {
    "executionInfo": {
     "elapsed": 2221,
     "status": "aborted",
     "timestamp": 1621348162221,
     "user": {
      "displayName": "Seongjin Yoon",
      "photoUrl": "",
      "userId": "05896535080749314531"
     },
     "user_tz": -540
    },
    "id": "B2dkSgHB3-Cb"
   },
   "outputs": [
    {
     "name": "stdout",
     "output_type": "stream",
     "text": [
      "0.0\n",
      "0.0\n",
      "0.0\n"
     ]
    }
   ],
   "source": [
    "mid_inputs = [input for input in inputs if input.level == 'Mid']\n",
    "\n",
    "print(partition_entropy_by(mid_inputs, 'lang', 'did_well'))\n",
    "print( partition_entropy_by(mid_inputs, 'tweets', 'did_well'))\n",
    "print(partition_entropy_by(mid_inputs, 'phd', 'did_well'))"
   ]
  },
  {
   "cell_type": "code",
   "execution_count": 14,
   "metadata": {
    "executionInfo": {
     "elapsed": 2215,
     "status": "aborted",
     "timestamp": 1621348162222,
     "user": {
      "displayName": "Seongjin Yoon",
      "photoUrl": "",
      "userId": "05896535080749314531"
     },
     "user_tz": -540
    },
    "id": "EJpPSKJo3-Cc"
   },
   "outputs": [
    {
     "name": "stdout",
     "output_type": "stream",
     "text": [
      "0.9509775004326938\n",
      "0.9509775004326938\n",
      "0.0\n"
     ]
    }
   ],
   "source": [
    "junior_inputs = [input for input in inputs if input.level == 'Junior']\n",
    "\n",
    "print(partition_entropy_by(junior_inputs, 'lang', 'did_well'))\n",
    "print( partition_entropy_by(junior_inputs, 'tweets', 'did_well'))\n",
    "print(partition_entropy_by(junior_inputs, 'phd', 'did_well'))"
   ]
  },
  {
   "cell_type": "markdown",
   "metadata": {
    "id": "8Utr5GZt3-Cd"
   },
   "source": [
    "## 4. 의사 결정 트리 만들기"
   ]
  },
  {
   "cell_type": "markdown",
   "metadata": {
    "id": "XN9aLBeq3-Cd"
   },
   "source": [
    "### 4.1 리프/결정 노드 정의"
   ]
  },
  {
   "cell_type": "code",
   "execution_count": 15,
   "metadata": {
    "id": "1R27f06g3-Cd"
   },
   "outputs": [],
   "source": [
    "from typing import NamedTuple, Union, Any\n",
    "\n",
    "class Leaf(NamedTuple):\n",
    "    value: Any\n",
    "\n",
    "class Split(NamedTuple):\n",
    "    attribute: str\n",
    "    subtrees: dict\n",
    "    default_value: Any = None\n",
    "\n",
    "DecisionTree = Union[Leaf, Split]"
   ]
  },
  {
   "cell_type": "markdown",
   "metadata": {
    "id": "kBCshX2R3-Ce"
   },
   "source": [
    "### 4.2 트리 구성 예시"
   ]
  },
  {
   "cell_type": "code",
   "execution_count": 16,
   "metadata": {
    "id": "qS-d9dzs3-Ce"
   },
   "outputs": [],
   "source": [
    "hiring_tree = Split('level', {   # First, consider \"level\".\n",
    "    'Junior': Split('phd', {     # if level is \"Junior\", next look at \"phd\"\n",
    "        False: Leaf(True),       #   if \"phd\" is False, predict True\n",
    "        True: Leaf(False)        #   if \"phd\" is True, predict False\n",
    "    }),\n",
    "    'Mid': Leaf(True),           # if level is \"Mid\", just predict True\n",
    "    'Senior': Split('tweets', {  # if level is \"Senior\", look at \"tweets\"\n",
    "        False: Leaf(False),      #   if \"tweets\" is False, predict False\n",
    "        True: Leaf(True)         #   if \"tweets\" is True, predict True\n",
    "    })\n",
    "})"
   ]
  },
  {
   "cell_type": "markdown",
   "metadata": {
    "id": "qxWW5jKm3-Ce"
   },
   "source": [
    "### 4.3 클래스 분류"
   ]
  },
  {
   "cell_type": "code",
   "execution_count": 17,
   "metadata": {
    "id": "Isd88L853-Cf"
   },
   "outputs": [],
   "source": [
    "def classify(tree: DecisionTree, input: Any) -> Any:\n",
    "    \"\"\"classify the input using the given decision tree\"\"\"\n",
    "\n",
    "    # If this is a leaf node, return its value\n",
    "    if isinstance(tree, Leaf):\n",
    "        return tree.value\n",
    "\n",
    "    # Otherwise this tree consists of an attribute to split on\n",
    "    # and a dictionary whose keys are values of that attribute\n",
    "    # and whose values of are subtrees to consider next\n",
    "    subtree_key = getattr(input, tree.attribute)\n",
    "\n",
    "    if subtree_key not in tree.subtrees:   # If no subtree for key,\n",
    "        return tree.default_value          # return the default value.\n",
    "\n",
    "    subtree = tree.subtrees[subtree_key]   # Choose the appropriate subtree\n",
    "    return classify(subtree, input)        # and use it to classify the input."
   ]
  },
  {
   "cell_type": "markdown",
   "metadata": {
    "id": "VQxqZIB43-Cf"
   },
   "source": [
    "### 4.4 의사 결정 트리 생성 (build_tree_id3)"
   ]
  },
  {
   "cell_type": "code",
   "execution_count": 18,
   "metadata": {
    "id": "3Nq0hPug3-Cf"
   },
   "outputs": [],
   "source": [
    "def build_tree_id3(inputs: List[Any],\n",
    "                   split_attributes: List[str],\n",
    "                   target_attribute: str) -> DecisionTree:\n",
    "    # Count target labels\n",
    "    label_counts = Counter(getattr(input, target_attribute)\n",
    "                           for input in inputs)\n",
    "    most_common_label = label_counts.most_common(1)[0][0]\n",
    "\n",
    "    # If there's a unique label, predict it\n",
    "    if len(label_counts) == 1:\n",
    "        return Leaf(most_common_label)\n",
    "\n",
    "    # If no split attributes left, return the majority label\n",
    "    if not split_attributes:\n",
    "        return Leaf(most_common_label)\n",
    "\n",
    "    # Otherwise split by the best attribute\n",
    "\n",
    "    def split_entropy(attribute: str) -> float:\n",
    "        \"\"\"Helper function for finding the best attribute\"\"\"\n",
    "        return partition_entropy_by(inputs, attribute, target_attribute)\n",
    "\n",
    "    best_attribute = min(split_attributes, key=split_entropy)\n",
    "\n",
    "    partitions = partition_by(inputs, best_attribute)\n",
    "    new_attributes = [a for a in split_attributes if a != best_attribute]\n",
    "\n",
    "    # recursively build the subtrees\n",
    "    subtrees = {attribute_value : build_tree_id3(subset,\n",
    "                                                 new_attributes,\n",
    "                                                 target_attribute)\n",
    "                for attribute_value, subset in partitions.items()}\n",
    "\n",
    "    return Split(best_attribute, subtrees, default_value=most_common_label)"
   ]
  },
  {
   "cell_type": "markdown",
   "metadata": {
    "id": "fvq2QKFL3-Cg"
   },
   "source": [
    "### 4.5 테스트"
   ]
  },
  {
   "cell_type": "code",
   "execution_count": 19,
   "metadata": {
    "id": "bV-AUFPB3-Cg",
    "outputId": "0c3de075-55db-4a13-ec1d-823028a2dd88"
   },
   "outputs": [],
   "source": [
    "tree = build_tree_id3(inputs,\n",
    "                      ['level', 'lang', 'tweets', 'phd'],\n",
    "                      'did_well')\n",
    "\n",
    "# Should predict True\n",
    "assert classify(tree, Candidate(\"Junior\", \"Java\", True, False))\n",
    "\n",
    "# Should predict False\n",
    "assert not classify(tree, Candidate(\"Junior\", \"Java\", True, True))\n",
    "\n",
    "# Should predict True\n",
    "assert classify(tree, Candidate(\"Intern\", \"Java\", True, True))"
   ]
  }
 ],
 "metadata": {
  "colab": {
   "collapsed_sections": [],
   "name": "17. Decision Tree.ipynb",
   "provenance": []
  },
  "kernelspec": {
   "display_name": "datamining",
   "language": "python",
   "name": "datamining"
  },
  "language_info": {
   "codemirror_mode": {
    "name": "ipython",
    "version": 3
   },
   "file_extension": ".py",
   "mimetype": "text/x-python",
   "name": "python",
   "nbconvert_exporter": "python",
   "pygments_lexer": "ipython3",
   "version": "3.8.5"
  }
 },
 "nbformat": 4,
 "nbformat_minor": 1
}
