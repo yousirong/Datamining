{
 "cells": [
  {
   "cell_type": "markdown",
   "metadata": {
    "id": "RIA0VDvrb2n-"
   },
   "source": [
    "# k 최근접 이웃 (kNN) 과제"
   ]
  },
  {
   "cell_type": "markdown",
   "metadata": {},
   "source": [
    "## 1. k-NN 분류기"
   ]
  },
  {
   "cell_type": "code",
   "execution_count": 1,
   "metadata": {
    "id": "v45HHh_EPDqe"
   },
   "outputs": [],
   "source": [
    "from typing import List\n",
    "from collections import Counter"
   ]
  },
  {
   "cell_type": "markdown",
   "metadata": {
    "id": "W_m9-kiqPDqh"
   },
   "source": [
    "### 1.1 투표 함수"
   ]
  },
  {
   "cell_type": "code",
   "execution_count": 2,
   "metadata": {
    "id": "l2wls7Hq9bQF"
   },
   "outputs": [],
   "source": [
    "def majority_vote(labels: List[str]) -> str:\n",
    "    \"\"\"Assumes that labels are ordered from nearest to farthest.\"\"\"\n",
    "    vote_counts = Counter(labels)\n",
    "    winner, winner_count = vote_counts.most_common(1)[0]\n",
    "    num_winners = len([count\n",
    "                       for count in vote_counts.values()\n",
    "                       if count == winner_count])\n",
    "\n",
    "    if num_winners == 1:\n",
    "        return winner                     # unique winner, so return it\n",
    "    else:\n",
    "        return majority_vote(labels[:-1]) # try again without the farthest"
   ]
  },
  {
   "cell_type": "markdown",
   "metadata": {
    "id": "ES0nRSHMPDqi"
   },
   "source": [
    "### 1.2 데이터 포인트"
   ]
  },
  {
   "cell_type": "code",
   "execution_count": 3,
   "metadata": {
    "colab": {
     "base_uri": "https://localhost:8080/",
     "height": 335
    },
    "id": "dRDzvkPcPurd",
    "outputId": "c135bfcb-4955-496f-f5f3-b6609334e2f8"
   },
   "outputs": [],
   "source": [
    "from typing import NamedTuple\n",
    "from scratch.linear_algebra import Vector, distance"
   ]
  },
  {
   "cell_type": "code",
   "execution_count": 4,
   "metadata": {
    "id": "nHrnI83CPDqi"
   },
   "outputs": [],
   "source": [
    "class LabeledPoint(NamedTuple):\n",
    "    point: Vector\n",
    "    label: str"
   ]
  },
  {
   "cell_type": "markdown",
   "metadata": {
    "id": "AU95fylDQAuN"
   },
   "source": [
    "### 1.3 k-NN 분류기"
   ]
  },
  {
   "cell_type": "code",
   "execution_count": 5,
   "metadata": {
    "id": "NqrP_c4Z9Ux1"
   },
   "outputs": [],
   "source": [
    "def knn_classify(k: int,\n",
    "                 labeled_points: List[LabeledPoint],\n",
    "                 new_point: Vector) -> str:\n",
    "\n",
    "    # Order the labeled points from nearest to farthest.\n",
    "    by_distance = sorted(labeled_points,\n",
    "                         key=lambda lp: distance(lp.point, new_point))\n",
    "\n",
    "    # Find the labels for the k closest\n",
    "    k_nearest_labels = [lp.label for lp in by_distance[:k]]\n",
    "\n",
    "    # and let them vote.\n",
    "    return majority_vote(k_nearest_labels)"
   ]
  },
  {
   "cell_type": "markdown",
   "metadata": {
    "id": "GQJlsKcyPDqk"
   },
   "source": [
    "## 2. 유방 암 데이터 분류"
   ]
  },
  {
   "cell_type": "code",
   "execution_count": 6,
   "metadata": {},
   "outputs": [],
   "source": [
    "import matplotlib.pyplot as plt\n",
    "import os\n",
    "from typing import Dict\n",
    "import csv\n",
    "from collections import defaultdict"
   ]
  },
  {
   "cell_type": "markdown",
   "metadata": {},
   "source": [
    "###  2.1 데이터셋 다운로드\n",
    "위스콘신 유방암 진단 데이터셋  (Wisconsin Breast Cancer Diagnostic dataset)\n",
    "https://www.kaggle.com/uciml/breast-cancer-wisconsin-data"
   ]
  },
  {
   "cell_type": "code",
   "execution_count": 7,
   "metadata": {},
   "outputs": [],
   "source": [
    "import requests\n",
    "\n",
    "data = requests.get(\"https://archive.ics.uci.edu/ml/machine-learning-databases/breast-cancer-wisconsin/wdbc.data\")\n",
    "dataset_path = os.path.join('data', 'wdbc.data')\n",
    "\n",
    "with open(dataset_path, \"w\") as f:\n",
    "  f.write(data.text)"
   ]
  },
  {
   "cell_type": "markdown",
   "metadata": {},
   "source": [
    "### 2.2 데이터 파싱 (Q)"
   ]
  },
  {
   "cell_type": "code",
   "execution_count": 8,
   "metadata": {},
   "outputs": [],
   "source": [
    "def parse_cancer_row(row: List[str]) -> LabeledPoint:\n",
    "    measurements = [float(value) for value in row[2:]]\n",
    "    label = row[1]\n",
    "    return LabeledPoint(measurements, label)\n",
    "# assertion error로 인하여 Restart & Run All 기능은 사용하지 않고 일일히 한개씩 run했습니다.\n",
    "# e-class에 올라온 다른 학우들의 QnA에 저와 비슷한 error가 있기에 해결 될 경우 보고 고칠 예정 (20210330)\n"
   ]
  },
  {
   "cell_type": "markdown",
   "metadata": {
    "id": "dfDvgQ88PS1E"
   },
   "source": [
    "### 2.3 데이터 읽기"
   ]
  },
  {
   "cell_type": "code",
   "execution_count": 9,
   "metadata": {
    "id": "5sECNI0T7Mif"
   },
   "outputs": [],
   "source": [
    "with open(dataset_path) as f:\n",
    "    reader = csv.reader(f)\n",
    "    cancer_data = [parse_cancer_row(row) for row in reader if row]"
   ]
  },
  {
   "cell_type": "markdown",
   "metadata": {},
   "source": [
    "#### 데이터 탐색 단계의 시각화를 위해 데이터 행렬 생성"
   ]
  },
  {
   "cell_type": "code",
   "execution_count": 10,
   "metadata": {},
   "outputs": [],
   "source": [
    "columns = [\n",
    "    \"radius_mean\", \"texture_mean\", \"perimeter_mean\", \"area_mean\", \"smoothness_mean\", \n",
    "    \"compactness_mean\", \"concavity_mean\", \"points_mean\", \"symmetry_mean\", \"dimension_mean\", \n",
    "    \"radius_se\", \"texture_se\", \"perimeter_se\", \"area_se\", \"smoothness_se\", \n",
    "    \"compactness_se\", \"concavity_se\", \"points_se\", \"symmetry_se\", \"dimension_se\", \n",
    "    \"radius_worst\", \"texture_worst\", \"perimeter_worst\", \"area_worst\", \"smoothness_worst\", \n",
    "    \"compactness_worst\", \"concavity_worst\", \"points_worst\", \"symmetry_worst\", \"dimension_worst\",\n",
    "    ]"
   ]
  },
  {
   "cell_type": "code",
   "execution_count": 11,
   "metadata": {},
   "outputs": [],
   "source": [
    "from scratch.linear_algebra import get_column, shape\n",
    "def make_matrix(dataset):\n",
    "    matrix = []\n",
    "    for datapoint in dataset:\n",
    "        matrix.append(datapoint.point)\n",
    "    return matrix"
   ]
  },
  {
   "cell_type": "code",
   "execution_count": 12,
   "metadata": {},
   "outputs": [
    {
     "name": "stdout",
     "output_type": "stream",
     "text": [
      "(569, 30)\n"
     ]
    }
   ],
   "source": [
    "cancer_matrix = make_matrix(cancer_data)\n",
    "# print(cancer_matrix[1])\n",
    "print(shape(cancer_matrix))"
   ]
  },
  {
   "cell_type": "markdown",
   "metadata": {
    "id": "m3sNkSviJb5c"
   },
   "source": [
    "### 2.4 데이터 탐색"
   ]
  },
  {
   "cell_type": "markdown",
   "metadata": {},
   "source": [
    "#### 2.3.1 클래스 비율 확인"
   ]
  },
  {
   "cell_type": "code",
   "execution_count": null,
   "metadata": {},
   "outputs": [],
   "source": [
    "label_type = defaultdict(int)\n",
    "for cancer in cancer_data:\n",
    "    label_type[cancer.label] += 1"
   ]
  },
  {
   "cell_type": "code",
   "execution_count": 15,
   "metadata": {},
   "outputs": [
    {
     "data": {
      "image/png": "[encoded data removed]",
      "text/plain": [
       "<Figure size 576x288 with 2 Axes>"
      ]
     },
     "metadata": {
      "needs_background": "light"
     },
     "output_type": "display_data"
    }
   ],
   "source": [
    "plt.figure(figsize=(8,4))\n",
    "plt.subplot(1, 2, 1)\n",
    "plt.bar(label_type.keys(),\n",
    "        label_type.values(),\n",
    "        0.5,\n",
    "        facecolor=\"#2E495E\",\n",
    "        edgecolor=(0, 0, 0))                # Black edges for each bar\n",
    "\n",
    "plt.xlabel(\"Diagnosis\")\n",
    "plt.ylabel(\"# of diagnosis\")\n",
    "plt.title(\"Cancer diagnosis\")\n",
    "\n",
    "plt.subplot(1, 2, 2)\n",
    "pies = plt.pie(label_type.values(),\n",
    "               labels=label_type.keys(),\n",
    "               startangle=90)\n",
    "plt.legend()\n",
    "plt.show()\n",
    "# 링크를 타고 들어가서 데이터 확인했습니다. 교수님께서 주신 pdf에는 막대그래프와 파이차트에 파라미터가 'B'가 먼저오고 'M'이 두번째로 \n",
    "# 그려지는데 이점은 assertion error로 인하여 계속 코드를 변경했지만 다른곳에서 오류가 데이터가 바꿔지지 않았습니다. (202103123)\n",
    "# 데이터를 다시 확인후 처음 row[1]의 처음 데이터는 'M'으로 시작하고 마지막 행의 데이터는 'B' 끝나는것을 확인할 수 있었습니다.\n",
    "# 데이터를 맨끝부터 읽으면 barplot에서 'B'부터 그려지지 않을까? 하는 생각에 구글링 해보았지만 찾을 수 없습니다.(~20210330)"
   ]
  },
  {
   "cell_type": "code",
   "execution_count": 14,
   "metadata": {},
   "outputs": [],
   "source": []
  },
  {
   "cell_type": "markdown",
   "metadata": {},
   "source": [
    "#### 2.3.2 특징 별 히스토그램"
   ]
  },
  {
   "cell_type": "code",
   "execution_count": null,
   "metadata": {},
   "outputs": [],
   "source": [
    "def histogram(ax, col : int):\n",
    "    \n",
    "    n, bins, patches = ax.hist(get_column(cancer_matrix, col),\n",
    "                                8,\n",
    "                                facecolor=\"#2E495E\",\n",
    "                                edgecolor=(0, 0, 0)) \n",
    "\n",
    "    ax.set_title(columns[col], fontsize=8)"
   ]
  },
  {
   "cell_type": "code",
   "execution_count": null,
   "metadata": {},
   "outputs": [],
   "source": [
    "from matplotlib import pyplot as plt\n",
    "num_rows = 6\n",
    "num_cols = 5\n",
    "\n",
    "fig, ax = plt.subplots(num_rows, num_cols, figsize=(num_cols*4, num_rows*4))\n",
    "for row in range(num_rows):\n",
    "    for col in range(num_cols):\n",
    "        histogram(ax[row][col], num_cols * row + col)\n",
    "plt.show()"
   ]
  },
  {
   "cell_type": "markdown",
   "metadata": {},
   "source": [
    "#### 2.3.3 특징 쌍 별 산포도"
   ]
  },
  {
   "cell_type": "code",
   "execution_count": null,
   "metadata": {},
   "outputs": [],
   "source": [
    "points_by_diagnosis: Dict[str, List[Vector]] = defaultdict(list)\n",
    "for cancer in cancer_data:\n",
    "    points_by_diagnosis[cancer.label].append(cancer.point)"
   ]
  },
  {
   "cell_type": "code",
   "execution_count": null,
   "metadata": {},
   "outputs": [],
   "source": [
    "start = 0\n",
    "end = start + 10\n",
    "pairs = [(i, j) for i in range(start, end) for j in range(i+1, end) if i < j]\n",
    "print(pairs)\n",
    "marks = ['+', '.']"
   ]
  },
  {
   "cell_type": "code",
   "execution_count": null,
   "metadata": {},
   "outputs": [],
   "source": [
    "from matplotlib import pyplot as plt\n",
    "num_rows = 9\n",
    "num_cols = 5\n",
    "\n",
    "fig, ax = plt.subplots(num_rows, num_cols, figsize=(num_cols*3, num_rows*3))\n",
    "\n",
    "for row in range(num_rows):\n",
    "    for col in range(num_cols):\n",
    "        i, j = pairs[num_cols * row + col]\n",
    "        ax[row][col].set_title(f\"{columns[i]} vs {columns[j]}\", fontsize=8)\n",
    "        ax[row][col].set_xticks([])\n",
    "        ax[row][col].set_yticks([])\n",
    "\n",
    "        for mark, (diagnosis, points) in zip(marks, points_by_diagnosis.items()):\n",
    "            xs = [point[i] for point in points]\n",
    "            ys = [point[j] for point in points]\n",
    "            ax[row][col].scatter(xs, ys, marker=mark, label=diagnosis)\n",
    "\n",
    "ax[-1][-1].legend(loc='lower right', prop={'size': 6})\n",
    "plt.show()"
   ]
  },
  {
   "cell_type": "markdown",
   "metadata": {
    "id": "OSh-V8zBJZOz"
   },
   "source": [
    "### 2.5 데이터셋 분리 (Q)"
   ]
  },
  {
   "cell_type": "code",
   "execution_count": null,
   "metadata": {
    "id": "UGsPIFge-krd",
    "scrolled": true
   },
   "outputs": [],
   "source": [
    "import random\n",
    "from scratch.machine_learning import split_data\n",
    "\n",
    "random.seed(12)\n",
    "cancer_train, cancer_test = split_data(cancer_data, 0.70)\n",
    "# assert len(cancer_train) == 0.7 * 569\n",
    "# assert len(cancer_test) == 0.3 * 569\n",
    "# print(len(cancer_train),len(cancer_test))\n",
    "# print(cancer_test[32])"
   ]
  },
  {
   "cell_type": "markdown",
   "metadata": {},
   "source": [
    "### 2.6 데이터 표준화 (Standardization)"
   ]
  },
  {
   "cell_type": "code",
   "execution_count": null,
   "metadata": {
    "scrolled": true
   },
   "outputs": [],
   "source": [
    "from scratch.working_with_data import scale, rescale\n",
    "\n",
    "def normalization(dataset):\n",
    "    return rescale(make_matrix(dataset))"
   ]
  },
  {
   "cell_type": "code",
   "execution_count": null,
   "metadata": {},
   "outputs": [],
   "source": [
    "cancer_train_matrix = normalization(cancer_train)\n",
    "cancer_test_matrix = normalization(cancer_test)"
   ]
  },
  {
   "cell_type": "markdown",
   "metadata": {
    "id": "GOjI4BV4RW_i"
   },
   "source": [
    "### 2.7 예측 (Q) "
   ]
  },
  {
   "cell_type": "code",
   "execution_count": null,
   "metadata": {},
   "outputs": [],
   "source": [
    "from typing import Tuple\n",
    "# \n",
    "confusion_matrix: Dict[Tuple[str, str], int] = defaultdict(int)\n",
    "def prediction(k : int) -> Tuple[float, Dict[Tuple[str, str], int]]: \n",
    "    num_correct = 0\n",
    "    for cancer in cancer_test:\n",
    "        predicted = knn_classify(k, cancer_train, cancer.point)\n",
    "        actual = cancer.label\n",
    "        \n",
    "        if predicted == actual:\n",
    "            num_correct +=1\n",
    "        \n",
    "        confusion_matrix[(predicted, actual)] += 1\n",
    "    \n",
    "    pct_correct = num_correct / len(cancer_test)\n",
    "    \n",
    "    return pct_correct, confusion_matrix"
   ]
  },
  {
   "cell_type": "markdown",
   "metadata": {},
   "source": [
    "### 2.8 엘보 방법 (Elbow method)으로 k 선정 (Q)"
   ]
  },
  {
   "cell_type": "code",
   "execution_count": null,
   "metadata": {},
   "outputs": [],
   "source": [
    "k_candidate = (k for k in range(1, 30))\n",
    "optimal_k = 0\n",
    "\n",
    "acc_list : List[float] = []\n",
    "for k in k_candidate:\n",
    "    accuracy, confusion_matrix = prediction(k)\n",
    "    acc_list.append(accuracy)\n",
    "\n",
    "optimal_k = acc_list.index(max(acc_list)) + 1  # k는 1부터 시작하므로 최대값의\n",
    "                                               # 인데스에 더하기 1함\n",
    "\n",
    "# print(acc_list)\n",
    "print(\"\")\n",
    "print(\"Optimal k = \", optimal_k)\n",
    "plt.plot(acc_list)\n",
    "plt.show()"
   ]
  },
  {
   "cell_type": "code",
   "execution_count": null,
   "metadata": {},
   "outputs": [],
   "source": []
  }
 ],
 "metadata": {
  "colab": {
   "collapsed_sections": [],
   "name": "12. kNN.ipynb",
   "provenance": []
  },
  "kernelspec": {
   "display_name": "datamining",
   "language": "python",
   "name": "datamining"
  },
  "language_info": {
   "codemirror_mode": {
    "name": "ipython",
    "version": 3
   },
   "file_extension": ".py",
   "mimetype": "text/x-python",
   "name": "python",
   "nbconvert_exporter": "python",
   "pygments_lexer": "ipython3",
   "version": "3.8.5"
  }
 },
 "nbformat": 4,
 "nbformat_minor": 1
}
