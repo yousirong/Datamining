{
 "cells": [
  {
   "cell_type": "markdown",
   "metadata": {},
   "source": [
    "# 시각화 (Visualization) 과제"
   ]
  },
  {
   "cell_type": "code",
   "execution_count": 104,
   "metadata": {
    "scrolled": true
   },
   "outputs": [
    {
     "name": "stdout",
     "output_type": "stream",
     "text": [
      "Requirement already satisfied: pandas in c:\\users\\이준용\\.conda\\envs\\data_mining\\lib\\site-packages (1.1.3)\n",
      "Requirement already satisfied: python-dateutil>=2.7.3 in c:\\users\\이준용\\.conda\\envs\\data_mining\\lib\\site-packages (from pandas) (2.8.1)\n",
      "Requirement already satisfied: pytz>=2017.2 in c:\\users\\이준용\\.conda\\envs\\data_mining\\lib\\site-packages (from pandas) (2020.1)\n",
      "Requirement already satisfied: numpy>=1.15.4 in c:\\users\\이준용\\.conda\\envs\\data_mining\\lib\\site-packages (from pandas) (1.19.2)\n",
      "Requirement already satisfied: six>=1.5 in c:\\users\\이준용\\.conda\\envs\\data_mining\\lib\\site-packages (from python-dateutil>=2.7.3->pandas) (1.15.0)\n"
     ]
    }
   ],
   "source": [
    "!pip install pandas"
   ]
  },
  {
   "cell_type": "code",
   "execution_count": 105,
   "metadata": {},
   "outputs": [
    {
     "name": "stdout",
     "output_type": "stream",
     "text": [
      "Requirement already satisfied: matplotlib in c:\\users\\이준용\\.conda\\envs\\data_mining\\lib\\site-packages (3.3.2)\n",
      "Requirement already satisfied: pillow>=6.2.0 in c:\\users\\이준용\\.conda\\envs\\data_mining\\lib\\site-packages (from matplotlib) (8.0.1)\n",
      "Requirement already satisfied: pyparsing!=2.0.4,!=2.1.2,!=2.1.6,>=2.0.3 in c:\\users\\이준용\\.conda\\envs\\data_mining\\lib\\site-packages (from matplotlib) (2.4.7)\n",
      "Requirement already satisfied: numpy>=1.15 in c:\\users\\이준용\\.conda\\envs\\data_mining\\lib\\site-packages (from matplotlib) (1.19.2)\n",
      "Requirement already satisfied: kiwisolver>=1.0.1 in c:\\users\\이준용\\.conda\\envs\\data_mining\\lib\\site-packages (from matplotlib) (1.3.0)\n",
      "Requirement already satisfied: python-dateutil>=2.1 in c:\\users\\이준용\\.conda\\envs\\data_mining\\lib\\site-packages (from matplotlib) (2.8.1)\n",
      "Requirement already satisfied: certifi>=2020.06.20 in c:\\users\\이준용\\.conda\\envs\\data_mining\\lib\\site-packages (from matplotlib) (2020.6.20)\n",
      "Requirement already satisfied: cycler>=0.10 in c:\\users\\이준용\\.conda\\envs\\data_mining\\lib\\site-packages (from matplotlib) (0.10.0)\n",
      "Requirement already satisfied: six>=1.5 in c:\\users\\이준용\\.conda\\envs\\data_mining\\lib\\site-packages (from python-dateutil>=2.1->matplotlib) (1.15.0)\n"
     ]
    }
   ],
   "source": [
    "!pip install matplotlib"
   ]
  },
  {
   "cell_type": "markdown",
   "metadata": {},
   "source": [
    "다음 블로그에 있는 시각화 예시와 데이터셋을 이용해서 시각화를 구현해본다.\n",
    "\n",
    "https://towardsdatascience.com/10-viz-every-ds-should-know-4e4118f26fc3"
   ]
  },
  {
   "cell_type": "code",
   "execution_count": 106,
   "metadata": {},
   "outputs": [],
   "source": [
    "import matplotlib.pyplot as plt\n",
    "import pandas as pd"
   ]
  },
  {
   "cell_type": "markdown",
   "metadata": {},
   "source": [
    "## 1. 히스토그램 (Histograms)"
   ]
  },
  {
   "cell_type": "markdown",
   "metadata": {},
   "source": [
    "### 1) 데이터 읽기"
   ]
  },
  {
   "cell_type": "code",
   "execution_count": 107,
   "metadata": {},
   "outputs": [
    {
     "data": {
      "text/html": [
       "<div>\n",
       "<style scoped>\n",
       "    .dataframe tbody tr th:only-of-type {\n",
       "        vertical-align: middle;\n",
       "    }\n",
       "\n",
       "    .dataframe tbody tr th {\n",
       "        vertical-align: top;\n",
       "    }\n",
       "\n",
       "    .dataframe thead th {\n",
       "        text-align: right;\n",
       "    }\n",
       "</style>\n",
       "<table border=\"1\" class=\"dataframe\">\n",
       "  <thead>\n",
       "    <tr style=\"text-align: right;\">\n",
       "      <th></th>\n",
       "      <th>zip-code</th>\n",
       "      <th>rebate-usd</th>\n",
       "      <th>lat</th>\n",
       "      <th>lng</th>\n",
       "      <th>median-household-income</th>\n",
       "      <th>mean-household-income</th>\n",
       "      <th>population</th>\n",
       "    </tr>\n",
       "  </thead>\n",
       "  <tbody>\n",
       "    <tr>\n",
       "      <th>995</th>\n",
       "      <td>40385</td>\n",
       "      <td>100</td>\n",
       "      <td>37.758499</td>\n",
       "      <td>-84.132959</td>\n",
       "      <td>43280</td>\n",
       "      <td>51428</td>\n",
       "      <td>3131</td>\n",
       "    </tr>\n",
       "    <tr>\n",
       "      <th>996</th>\n",
       "      <td>72433</td>\n",
       "      <td>100</td>\n",
       "      <td>36.030397</td>\n",
       "      <td>-91.049037</td>\n",
       "      <td>31934</td>\n",
       "      <td>36651</td>\n",
       "      <td>3067</td>\n",
       "    </tr>\n",
       "    <tr>\n",
       "      <th>997</th>\n",
       "      <td>90014</td>\n",
       "      <td>67</td>\n",
       "      <td>34.043478</td>\n",
       "      <td>-118.251931</td>\n",
       "      <td>13832</td>\n",
       "      <td>30121</td>\n",
       "      <td>7005</td>\n",
       "    </tr>\n",
       "    <tr>\n",
       "      <th>998</th>\n",
       "      <td>8021</td>\n",
       "      <td>90</td>\n",
       "      <td>39.807377</td>\n",
       "      <td>-75.002697</td>\n",
       "      <td>55858</td>\n",
       "      <td>63779</td>\n",
       "      <td>45515</td>\n",
       "    </tr>\n",
       "    <tr>\n",
       "      <th>999</th>\n",
       "      <td>68067</td>\n",
       "      <td>100</td>\n",
       "      <td>42.152506</td>\n",
       "      <td>-96.471658</td>\n",
       "      <td>39062</td>\n",
       "      <td>51461</td>\n",
       "      <td>1397</td>\n",
       "    </tr>\n",
       "  </tbody>\n",
       "</table>\n",
       "</div>"
      ],
      "text/plain": [
       "     zip-code  rebate-usd        lat         lng  median-household-income  \\\n",
       "995     40385         100  37.758499  -84.132959                    43280   \n",
       "996     72433         100  36.030397  -91.049037                    31934   \n",
       "997     90014          67  34.043478 -118.251931                    13832   \n",
       "998      8021          90  39.807377  -75.002697                    55858   \n",
       "999     68067         100  42.152506  -96.471658                    39062   \n",
       "\n",
       "     mean-household-income  population  \n",
       "995                  51428        3131  \n",
       "996                  36651        3067  \n",
       "997                  30121        7005  \n",
       "998                  63779       45515  \n",
       "999                  51461        1397  "
      ]
     },
     "execution_count": 107,
     "metadata": {},
     "output_type": "execute_result"
    }
   ],
   "source": [
    "dataset_path = \"data/thermostat_rebates_by_zip_1000.csv\"\n",
    "dataset = pd.read_csv(dataset_path)\n",
    "\n",
    "dataset.tail()"
   ]
  },
  {
   "cell_type": "code",
   "execution_count": 108,
   "metadata": {},
   "outputs": [
    {
     "name": "stdout",
     "output_type": "stream",
     "text": [
      "0       88\n",
      "1       88\n",
      "2      100\n",
      "3      100\n",
      "4      100\n",
      "      ... \n",
      "995    100\n",
      "996    100\n",
      "997     67\n",
      "998     90\n",
      "999    100\n",
      "Name: rebate-usd, Length: 1000, dtype: int64\n"
     ]
    }
   ],
   "source": [
    "rebate = dataset[\"rebate-usd\"]\n",
    "print(rebate)"
   ]
  },
  {
   "cell_type": "markdown",
   "metadata": {},
   "source": [
    "### 2) 시각화"
   ]
  },
  {
   "cell_type": "code",
   "execution_count": 127,
   "metadata": {
    "scrolled": true
   },
   "outputs": [
    {
     "data": {
      "image/png": "[encoded data removed]",
      "text/plain": [
       "<Figure size 432x288 with 1 Axes>"
      ]
     },
     "metadata": {
      "needs_background": "light"
     },
     "output_type": "display_data"
    }
   ],
   "source": [
    "n, bins, patches = plt.hist(rebate,\n",
    "8,\n",
    "facecolor=\"#2E495E\",\n",
    "edgecolor=(0, 0, 0),\n",
    "align='mid',\n",
    ")\n",
    "# align은 tick과 막대의 위치를 조절합니다. \n",
    "#디폴트는 ‘center’인데 ‘edge’로 설정하면 \n",
    "#막대의 아래쪽 끝에 y_tick이 표시됩니다.\n",
    "\n",
    "plt.axis([40,160,0,800])    # 축 범위 지정 [x min,x max , y min,y max]\n",
    "plt.grid(True, alpha=0.5, linestyle='--')  # 격자 grid 생성\n",
    "title_font = {\n",
    "    'fontsize' : 9\n",
    "}\n",
    "plt.title(\"Histogram of Thermostatic Rebates in USD\",title_font,pad=25)\n",
    "plt.xlabel(\"Rabate USD\")\n",
    "plt.ylabel(\"Count\")\n",
    "plt.show()\n"
   ]
  },
  {
   "cell_type": "markdown",
   "metadata": {},
   "source": [
    "## 2. 막대/파이 차트 (Bar/Pie charts)"
   ]
  },
  {
   "cell_type": "markdown",
   "metadata": {},
   "source": [
    "### 1) 데이터 읽기"
   ]
  },
  {
   "cell_type": "code",
   "execution_count": 110,
   "metadata": {},
   "outputs": [
    {
     "data": {
      "text/html": [
       "<div>\n",
       "<style scoped>\n",
       "    .dataframe tbody tr th:only-of-type {\n",
       "        vertical-align: middle;\n",
       "    }\n",
       "\n",
       "    .dataframe tbody tr th {\n",
       "        vertical-align: top;\n",
       "    }\n",
       "\n",
       "    .dataframe thead th {\n",
       "        text-align: right;\n",
       "    }\n",
       "</style>\n",
       "<table border=\"1\" class=\"dataframe\">\n",
       "  <thead>\n",
       "    <tr style=\"text-align: right;\">\n",
       "      <th></th>\n",
       "      <th>Age</th>\n",
       "      <th>Sex</th>\n",
       "      <th>BP</th>\n",
       "      <th>Cholesterol</th>\n",
       "      <th>NA_to_K</th>\n",
       "      <th>Drug</th>\n",
       "    </tr>\n",
       "  </thead>\n",
       "  <tbody>\n",
       "    <tr>\n",
       "      <th>195</th>\n",
       "      <td>56</td>\n",
       "      <td>F</td>\n",
       "      <td>LOW</td>\n",
       "      <td>HIGH</td>\n",
       "      <td>11.566830</td>\n",
       "      <td>drugC</td>\n",
       "    </tr>\n",
       "    <tr>\n",
       "      <th>196</th>\n",
       "      <td>16</td>\n",
       "      <td>M</td>\n",
       "      <td>LOW</td>\n",
       "      <td>HIGH</td>\n",
       "      <td>12.006286</td>\n",
       "      <td>drugC</td>\n",
       "    </tr>\n",
       "    <tr>\n",
       "      <th>197</th>\n",
       "      <td>52</td>\n",
       "      <td>M</td>\n",
       "      <td>NORMAL</td>\n",
       "      <td>HIGH</td>\n",
       "      <td>9.894478</td>\n",
       "      <td>drugX</td>\n",
       "    </tr>\n",
       "    <tr>\n",
       "      <th>198</th>\n",
       "      <td>23</td>\n",
       "      <td>M</td>\n",
       "      <td>NORMAL</td>\n",
       "      <td>NORMAL</td>\n",
       "      <td>14.019550</td>\n",
       "      <td>drugX</td>\n",
       "    </tr>\n",
       "    <tr>\n",
       "      <th>199</th>\n",
       "      <td>40</td>\n",
       "      <td>F</td>\n",
       "      <td>LOW</td>\n",
       "      <td>NORMAL</td>\n",
       "      <td>11.348969</td>\n",
       "      <td>drugX</td>\n",
       "    </tr>\n",
       "  </tbody>\n",
       "</table>\n",
       "</div>"
      ],
      "text/plain": [
       "     Age Sex      BP Cholesterol    NA_to_K   Drug\n",
       "195   56   F     LOW        HIGH  11.566830  drugC\n",
       "196   16   M     LOW        HIGH  12.006286  drugC\n",
       "197   52   M  NORMAL        HIGH   9.894478  drugX\n",
       "198   23   M  NORMAL      NORMAL  14.019550  drugX\n",
       "199   40   F     LOW      NORMAL  11.348969  drugX"
      ]
     },
     "execution_count": 110,
     "metadata": {},
     "output_type": "execute_result"
    }
   ],
   "source": [
    "dataset_path = \"data/drugs_data.csv\"\n",
    "dataset = pd.read_csv(dataset_path)\n",
    "\n",
    "dataset.tail()"
   ]
  },
  {
   "cell_type": "code",
   "execution_count": 111,
   "metadata": {},
   "outputs": [
    {
     "data": {
      "text/plain": [
       "HIGH      77\n",
       "LOW       64\n",
       "NORMAL    59\n",
       "Name: BP, dtype: int64"
      ]
     },
     "execution_count": 111,
     "metadata": {},
     "output_type": "execute_result"
    }
   ],
   "source": [
    "BP = dataset[\"BP\"].value_counts()\n",
    "BP\n"
   ]
  },
  {
   "cell_type": "markdown",
   "metadata": {},
   "source": [
    "### 2) 시각화"
   ]
  },
  {
   "cell_type": "markdown",
   "metadata": {},
   "source": [
    "#### 막대 그래프"
   ]
  },
  {
   "cell_type": "code",
   "execution_count": 112,
   "metadata": {
    "scrolled": true
   },
   "outputs": [
    {
     "data": {
      "image/png": "[encoded data removed]",
      "text/plain": [
       "<Figure size 432x288 with 1 Axes>"
      ]
     },
     "metadata": {
      "needs_background": "light"
     },
     "output_type": "display_data"
    }
   ],
   "source": [
    "plt.bar(BP.keys(),\n",
    "        BP,                                  # Give each bar its correct height\n",
    "        0.5,                                 # Give each bar a width of 0.5\n",
    "        facecolor=\"#2E495E\",\n",
    "        edgecolor=(0, 0, 0)                  # Black edges for each bar\n",
    "       )\n",
    "# align은 tick과 막대의 위치를 조절합니다. \n",
    "#디폴트는 ‘center’인데 ‘edge’로 설정하면 \n",
    "#막대의 아래쪽 끝에 y_tick이 표시됩니다.\n",
    "\n",
    "\n",
    "#plt.grid(True, alpha=0.5, linestyle='--')  # 격자 grid 생성\n",
    "\n",
    "plt.title(\"Bar Chart for Patient's Blood Pressure\", loc='center', pad=20)\n",
    "#for loc; supported values are 'left', 'center', 'right'\n",
    "\n",
    "\n",
    "plt.xlabel(\"Blood Pressure\")\n",
    "plt.ylabel(\"# of Blood Pressure\")\n",
    "\n",
    "plt.show()"
   ]
  },
  {
   "cell_type": "markdown",
   "metadata": {},
   "source": [
    "#### 파이 그래프"
   ]
  },
  {
   "cell_type": "code",
   "execution_count": 113,
   "metadata": {
    "scrolled": false
   },
   "outputs": [
    {
     "data": {
      "image/png": "[encoded data removed]",
      "text/plain": [
       "<Figure size 432x288 with 1 Axes>"
      ]
     },
     "metadata": {},
     "output_type": "display_data"
    }
   ],
   "source": [
    "plt.pie(BP,labels=BP.keys(),startangle=90)\n",
    "plt.title(\"Bar Chart for Patient's Blood Pressure\",pad=20)   \n",
    "                                            # loc='center',pad =20\n",
    "plt.axis('equal')\n",
    "plt.legend(loc=1,fontsize=7)     #Location String 'upper right' =1  \n",
    "                                # legend의 폰트 사이즈 조절 가능\n",
    "plt.show()"
   ]
  },
  {
   "cell_type": "markdown",
   "metadata": {},
   "source": [
    "## 3. 산점도/직선 그래프 (Scatter/Line plots)"
   ]
  },
  {
   "cell_type": "markdown",
   "metadata": {},
   "source": [
    "### 1) 데이터 읽기"
   ]
  },
  {
   "cell_type": "code",
   "execution_count": 114,
   "metadata": {},
   "outputs": [
    {
     "data": {
      "text/html": [
       "<div>\n",
       "<style scoped>\n",
       "    .dataframe tbody tr th:only-of-type {\n",
       "        vertical-align: middle;\n",
       "    }\n",
       "\n",
       "    .dataframe tbody tr th {\n",
       "        vertical-align: top;\n",
       "    }\n",
       "\n",
       "    .dataframe thead th {\n",
       "        text-align: right;\n",
       "    }\n",
       "</style>\n",
       "<table border=\"1\" class=\"dataframe\">\n",
       "  <thead>\n",
       "    <tr style=\"text-align: right;\">\n",
       "      <th></th>\n",
       "      <th>square-feet</th>\n",
       "      <th>house-price</th>\n",
       "    </tr>\n",
       "  </thead>\n",
       "  <tbody>\n",
       "    <tr>\n",
       "      <th>70</th>\n",
       "      <td>14000.0</td>\n",
       "      <td>8.678987</td>\n",
       "    </tr>\n",
       "    <tr>\n",
       "      <th>71</th>\n",
       "      <td>14200.0</td>\n",
       "      <td>6.636067</td>\n",
       "    </tr>\n",
       "    <tr>\n",
       "      <th>72</th>\n",
       "      <td>14400.0</td>\n",
       "      <td>8.787156</td>\n",
       "    </tr>\n",
       "    <tr>\n",
       "      <th>73</th>\n",
       "      <td>14600.0</td>\n",
       "      <td>9.358178</td>\n",
       "    </tr>\n",
       "    <tr>\n",
       "      <th>74</th>\n",
       "      <td>14800.0</td>\n",
       "      <td>7.071544</td>\n",
       "    </tr>\n",
       "  </tbody>\n",
       "</table>\n",
       "</div>"
      ],
      "text/plain": [
       "    square-feet  house-price\n",
       "70      14000.0     8.678987\n",
       "71      14200.0     6.636067\n",
       "72      14400.0     8.787156\n",
       "73      14600.0     9.358178\n",
       "74      14800.0     7.071544"
      ]
     },
     "execution_count": 114,
     "metadata": {},
     "output_type": "execute_result"
    }
   ],
   "source": [
    "dataset_path = \"data/square-feet_and_house-price.csv\"\n",
    "dataset = pd.read_csv(dataset_path)\n",
    "\n",
    "dataset.tail()\n",
    "\n"
   ]
  },
  {
   "cell_type": "markdown",
   "metadata": {},
   "source": [
    "### 2) 시각화"
   ]
  },
  {
   "cell_type": "code",
   "execution_count": 115,
   "metadata": {},
   "outputs": [
    {
     "data": {
      "image/png": "[encoded data removed]",
      "text/plain": [
       "<Figure size 432x288 with 1 Axes>"
      ]
     },
     "metadata": {
      "needs_background": "light"
     },
     "output_type": "display_data"
    }
   ],
   "source": [
    "sq = dataset[\"square-feet\"]\n",
    "sq\n",
    "hp = dataset[\"house-price\"]\n",
    "hp\n",
    "plt.scatter(sq,hp,facecolor=\"#2E495E\")\n",
    "\n",
    "plt.title(\"Square Feet vs. House Price (in Millions)\",pad=5)   \n",
    "                                # loc='center',pad =20\n",
    "plt.xlabel(\"Suare Feet\")\n",
    "plt.ylabel(\"House Price\")\n",
    "plt.show()"
   ]
  },
  {
   "cell_type": "markdown",
   "metadata": {},
   "source": [
    "## 4. 시계열 그래프 (Time series plot)"
   ]
  },
  {
   "cell_type": "markdown",
   "metadata": {},
   "source": [
    "### 1) 데이터 읽기"
   ]
  },
  {
   "cell_type": "code",
   "execution_count": 116,
   "metadata": {},
   "outputs": [
    {
     "data": {
      "text/html": [
       "<div>\n",
       "<style scoped>\n",
       "    .dataframe tbody tr th:only-of-type {\n",
       "        vertical-align: middle;\n",
       "    }\n",
       "\n",
       "    .dataframe tbody tr th {\n",
       "        vertical-align: top;\n",
       "    }\n",
       "\n",
       "    .dataframe thead th {\n",
       "        text-align: right;\n",
       "    }\n",
       "</style>\n",
       "<table border=\"1\" class=\"dataframe\">\n",
       "  <thead>\n",
       "    <tr style=\"text-align: right;\">\n",
       "      <th></th>\n",
       "      <th>Date</th>\n",
       "      <th>Open</th>\n",
       "      <th>High</th>\n",
       "      <th>Low</th>\n",
       "      <th>Close</th>\n",
       "      <th>Volume</th>\n",
       "    </tr>\n",
       "  </thead>\n",
       "  <tbody>\n",
       "    <tr>\n",
       "      <th>749</th>\n",
       "      <td>2015-01-08</td>\n",
       "      <td>212.81</td>\n",
       "      <td>213.7999</td>\n",
       "      <td>210.0100</td>\n",
       "      <td>210.615</td>\n",
       "      <td>3442509.0</td>\n",
       "    </tr>\n",
       "    <tr>\n",
       "      <th>750</th>\n",
       "      <td>2015-01-07</td>\n",
       "      <td>213.35</td>\n",
       "      <td>214.7800</td>\n",
       "      <td>209.7800</td>\n",
       "      <td>210.950</td>\n",
       "      <td>2968390.0</td>\n",
       "    </tr>\n",
       "    <tr>\n",
       "      <th>751</th>\n",
       "      <td>2015-01-06</td>\n",
       "      <td>210.06</td>\n",
       "      <td>214.2000</td>\n",
       "      <td>204.2100</td>\n",
       "      <td>211.280</td>\n",
       "      <td>6261936.0</td>\n",
       "    </tr>\n",
       "    <tr>\n",
       "      <th>752</th>\n",
       "      <td>2015-01-05</td>\n",
       "      <td>214.55</td>\n",
       "      <td>216.5000</td>\n",
       "      <td>207.1626</td>\n",
       "      <td>210.090</td>\n",
       "      <td>5368477.0</td>\n",
       "    </tr>\n",
       "    <tr>\n",
       "      <th>753</th>\n",
       "      <td>2015-01-02</td>\n",
       "      <td>222.87</td>\n",
       "      <td>223.2500</td>\n",
       "      <td>213.2600</td>\n",
       "      <td>219.310</td>\n",
       "      <td>4764443.0</td>\n",
       "    </tr>\n",
       "  </tbody>\n",
       "</table>\n",
       "</div>"
      ],
      "text/plain": [
       "           Date    Open      High       Low    Close     Volume\n",
       "749  2015-01-08  212.81  213.7999  210.0100  210.615  3442509.0\n",
       "750  2015-01-07  213.35  214.7800  209.7800  210.950  2968390.0\n",
       "751  2015-01-06  210.06  214.2000  204.2100  211.280  6261936.0\n",
       "752  2015-01-05  214.55  216.5000  207.1626  210.090  5368477.0\n",
       "753  2015-01-02  222.87  223.2500  213.2600  219.310  4764443.0"
      ]
     },
     "execution_count": 116,
     "metadata": {},
     "output_type": "execute_result"
    }
   ],
   "source": [
    "dataset_path = \"data/tesla_stock.csv\"\n",
    "dataset = pd.read_csv(dataset_path)\n",
    "\n",
    "dataset.tail()"
   ]
  },
  {
   "cell_type": "code",
   "execution_count": 117,
   "metadata": {},
   "outputs": [
    {
     "data": {
      "text/html": [
       "<div>\n",
       "<style scoped>\n",
       "    .dataframe tbody tr th:only-of-type {\n",
       "        vertical-align: middle;\n",
       "    }\n",
       "\n",
       "    .dataframe tbody tr th {\n",
       "        vertical-align: top;\n",
       "    }\n",
       "\n",
       "    .dataframe thead th {\n",
       "        text-align: right;\n",
       "    }\n",
       "</style>\n",
       "<table border=\"1\" class=\"dataframe\">\n",
       "  <thead>\n",
       "    <tr style=\"text-align: right;\">\n",
       "      <th></th>\n",
       "      <th>Date</th>\n",
       "      <th>Open</th>\n",
       "      <th>High</th>\n",
       "      <th>Low</th>\n",
       "      <th>Close</th>\n",
       "      <th>Volume</th>\n",
       "    </tr>\n",
       "  </thead>\n",
       "  <tbody>\n",
       "    <tr>\n",
       "      <th>4</th>\n",
       "      <td>2017-12-22</td>\n",
       "      <td>329.51</td>\n",
       "      <td>330.9214</td>\n",
       "      <td>324.82</td>\n",
       "      <td>325.20</td>\n",
       "      <td>4186131.0</td>\n",
       "    </tr>\n",
       "    <tr>\n",
       "      <th>3</th>\n",
       "      <td>2017-12-26</td>\n",
       "      <td>323.83</td>\n",
       "      <td>323.9400</td>\n",
       "      <td>316.58</td>\n",
       "      <td>317.29</td>\n",
       "      <td>4321909.0</td>\n",
       "    </tr>\n",
       "    <tr>\n",
       "      <th>2</th>\n",
       "      <td>2017-12-27</td>\n",
       "      <td>316.00</td>\n",
       "      <td>317.6800</td>\n",
       "      <td>310.75</td>\n",
       "      <td>311.64</td>\n",
       "      <td>4645441.0</td>\n",
       "    </tr>\n",
       "    <tr>\n",
       "      <th>1</th>\n",
       "      <td>2017-12-28</td>\n",
       "      <td>311.75</td>\n",
       "      <td>315.8200</td>\n",
       "      <td>309.54</td>\n",
       "      <td>315.36</td>\n",
       "      <td>4294689.0</td>\n",
       "    </tr>\n",
       "    <tr>\n",
       "      <th>0</th>\n",
       "      <td>2017-12-29</td>\n",
       "      <td>316.18</td>\n",
       "      <td>316.4100</td>\n",
       "      <td>310.00</td>\n",
       "      <td>311.35</td>\n",
       "      <td>3727621.0</td>\n",
       "    </tr>\n",
       "  </tbody>\n",
       "</table>\n",
       "</div>"
      ],
      "text/plain": [
       "         Date    Open      High     Low   Close     Volume\n",
       "4  2017-12-22  329.51  330.9214  324.82  325.20  4186131.0\n",
       "3  2017-12-26  323.83  323.9400  316.58  317.29  4321909.0\n",
       "2  2017-12-27  316.00  317.6800  310.75  311.64  4645441.0\n",
       "1  2017-12-28  311.75  315.8200  309.54  315.36  4294689.0\n",
       "0  2017-12-29  316.18  316.4100  310.00  311.35  3727621.0"
      ]
     },
     "execution_count": 117,
     "metadata": {},
     "output_type": "execute_result"
    }
   ],
   "source": [
    "sorted_dataset = dataset.sort_values(by='Date')\n",
    "sorted_dataset.tail()"
   ]
  },
  {
   "cell_type": "markdown",
   "metadata": {},
   "source": [
    "### 2) 시각화"
   ]
  },
  {
   "cell_type": "code",
   "execution_count": 118,
   "metadata": {
    "scrolled": true
   },
   "outputs": [
    {
     "data": {
      "text/plain": [
       "[<matplotlib.lines.Line2D at 0x18710f7e820>]"
      ]
     },
     "execution_count": 118,
     "metadata": {},
     "output_type": "execute_result"
    },
    {
     "data": {
      "image/png": "[encoded data removed]",
      "text/plain": [
       "<Figure size 432x288 with 1 Axes>"
      ]
     },
     "metadata": {
      "needs_background": "light"
     },
     "output_type": "display_data"
    }
   ],
   "source": [
    "\n",
    "Dt = sorted_dataset[\"Date\"]\n",
    "Cl = sorted_dataset[\"Close\"]\n",
    "plt.xticks([])     # x축 표시 안함\n",
    "plt.xlabel(\"Date\")\n",
    "plt.ylabel(\"Close\")\n",
    "plt.plot(Dt,Cl,color=\"#2E495E\")\n"
   ]
  }
 ],
 "metadata": {
  "kernelspec": {
   "display_name": "datamining",
   "language": "python",
   "name": "datamining"
  },
  "language_info": {
   "codemirror_mode": {
    "name": "ipython",
    "version": 3
   },
   "file_extension": ".py",
   "mimetype": "text/x-python",
   "name": "python",
   "nbconvert_exporter": "python",
   "pygments_lexer": "ipython3",
   "version": "3.8.5"
  }
 },
 "nbformat": 4,
 "nbformat_minor": 4
}
