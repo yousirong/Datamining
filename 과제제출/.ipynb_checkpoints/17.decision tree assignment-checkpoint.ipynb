{
 "cells": [
  {
   "cell_type": "markdown",
   "metadata": {},
   "source": [
    "## 결정트리 유방암 진단 ##"
   ]
  },
  {
   "cell_type": "code",
   "execution_count": 1,
   "metadata": {},
   "outputs": [
    {
     "name": "stdout",
     "output_type": "stream",
     "text": [
      "Requirement already satisfied: sklearn in c:\\users\\이준용\\.conda\\envs\\data_mining\\lib\\site-packages (0.0)\n",
      "Requirement already satisfied: scikit-learn in c:\\users\\이준용\\.conda\\envs\\data_mining\\lib\\site-packages (from sklearn) (0.23.2)\n",
      "Requirement already satisfied: threadpoolctl>=2.0.0 in c:\\users\\이준용\\.conda\\envs\\data_mining\\lib\\site-packages (from scikit-learn->sklearn) (2.1.0)\n",
      "Requirement already satisfied: joblib>=0.11 in c:\\users\\이준용\\.conda\\envs\\data_mining\\lib\\site-packages (from scikit-learn->sklearn) (0.17.0)\n",
      "Requirement already satisfied: scipy>=0.19.1 in c:\\users\\이준용\\.conda\\envs\\data_mining\\lib\\site-packages (from scikit-learn->sklearn) (1.5.2)\n",
      "Requirement already satisfied: numpy>=1.13.3 in c:\\users\\이준용\\.conda\\envs\\data_mining\\lib\\site-packages (from scikit-learn->sklearn) (1.19.2)\n",
      "Requirement already satisfied: graphviz in c:\\users\\이준용\\.conda\\envs\\data_mining\\lib\\site-packages (0.16)\n"
     ]
    }
   ],
   "source": [
    "!pip install sklearn\n",
    "!pip install graphviz"
   ]
  },
  {
   "cell_type": "code",
   "execution_count": 2,
   "metadata": {},
   "outputs": [],
   "source": [
    "import numpy as np\n",
    "import pandas as pd\n",
    "import matplotlib.pyplot as plt\n",
    "import seaborn as sns\n",
    "import itertools\n",
    "from sklearn.metrics import confusion_matrix\n",
    "from sklearn.model_selection import learning_curve, train_test_split\n",
    "from sklearn.ensemble import RandomForestClassifier\n",
    "from sklearn.tree import DecisionTreeClassifier\n",
    "from sklearn import tree\n",
    "from sklearn.model_selection import train_test_split\n",
    "from sklearn.datasets import load_breast_cancer\n",
    "from sklearn.ensemble import RandomForestClassifier\n",
    "import graphviz\n",
    "%matplotlib inline"
   ]
  },
  {
   "cell_type": "code",
   "execution_count": 3,
   "metadata": {},
   "outputs": [],
   "source": [
    "from sklearn.datasets import load_breast_cancer\n",
    "\n",
    "cancer = load_breast_cancer()"
   ]
  },
  {
   "cell_type": "code",
   "execution_count": 4,
   "metadata": {},
   "outputs": [
    {
     "data": {
      "text/plain": [
       "(569, 30)"
      ]
     },
     "execution_count": 4,
     "metadata": {},
     "output_type": "execute_result"
    }
   ],
   "source": [
    "cancer.data.shape # rows columns 수 확인"
   ]
  },
  {
   "cell_type": "code",
   "execution_count": 5,
   "metadata": {},
   "outputs": [
    {
     "data": {
      "text/plain": [
       "array(['mean radius', 'mean texture', 'mean perimeter', 'mean area',\n",
       "       'mean smoothness', 'mean compactness', 'mean concavity',\n",
       "       'mean concave points', 'mean symmetry', 'mean fractal dimension',\n",
       "       'radius error', 'texture error', 'perimeter error', 'area error',\n",
       "       'smoothness error', 'compactness error', 'concavity error',\n",
       "       'concave points error', 'symmetry error',\n",
       "       'fractal dimension error', 'worst radius', 'worst texture',\n",
       "       'worst perimeter', 'worst area', 'worst smoothness',\n",
       "       'worst compactness', 'worst concavity', 'worst concave points',\n",
       "       'worst symmetry', 'worst fractal dimension'], dtype='<U23')"
      ]
     },
     "execution_count": 5,
     "metadata": {},
     "output_type": "execute_result"
    }
   ],
   "source": [
    "cancer.feature_names  # columns name"
   ]
  },
  {
   "cell_type": "code",
   "execution_count": 6,
   "metadata": {},
   "outputs": [
    {
     "data": {
      "text/plain": [
       "array(['malignant', 'benign'], dtype='<U9')"
      ]
     },
     "execution_count": 6,
     "metadata": {},
     "output_type": "execute_result"
    }
   ],
   "source": [
    "cancer.target_names  # 악성 양성"
   ]
  },
  {
   "cell_type": "code",
   "execution_count": 7,
   "metadata": {},
   "outputs": [
    {
     "data": {
      "text/plain": [
       "array([212, 357], dtype=int64)"
      ]
     },
     "execution_count": 7,
     "metadata": {},
     "output_type": "execute_result"
    }
   ],
   "source": [
    "np.bincount(cancer.target) # cancer.target[cancer.target==0].shape"
   ]
  },
  {
   "cell_type": "code",
   "execution_count": 8,
   "metadata": {},
   "outputs": [
    {
     "name": "stdout",
     "output_type": "stream",
     "text": [
      ".. _breast_cancer_dataset:\n",
      "\n",
      "Breast cancer wisconsin (diagnostic) dataset\n",
      "--------------------------------------------\n",
      "\n",
      "**Data Set Characteristics:**\n",
      "\n",
      "    :Number of Instances: 569\n",
      "\n",
      "    :Number of Attributes: 30 numeric, predictive attributes and the class\n",
      "\n",
      "    :Attribute Information:\n",
      "        - radius (mean of distances from center to points on the perimeter)\n",
      "        - texture (standard deviation of gray-scale values)\n",
      "        - perimeter\n",
      "        - area\n",
      "        - smoothness (local variation in radius lengths)\n",
      "        - compactness (perimeter^2 / area - 1.0)\n",
      "        - concavity (severity of concave portions of the contour)\n",
      "        - concave points (number of concave portions of the contour)\n",
      "        - symmetry\n",
      "        - fractal dimension (\"coastline approximation\" - 1)\n",
      "\n",
      "        The mean, standard error, and \"worst\" or largest (mean of the three\n",
      "        worst/largest values) of these features were computed for each image,\n",
      "        resulting in 30 features.  For instance, field 0 is Mean Radius, field\n",
      "        10 is Radius SE, field 20 is Worst Radius.\n",
      "\n",
      "        - class:\n",
      "                - WDBC-Malignant\n",
      "                - WDBC-Benign\n",
      "\n",
      "    :Summary Statistics:\n",
      "\n",
      "    ===================================== ====== ======\n",
      "                                           Min    Max\n",
      "    ===================================== ====== ======\n",
      "    radius (mean):                        6.981  28.11\n",
      "    texture (mean):                       9.71   39.28\n",
      "    perimeter (mean):                     43.79  188.5\n",
      "    area (mean):                          143.5  2501.0\n",
      "    smoothness (mean):                    0.053  0.163\n",
      "    compactness (mean):                   0.019  0.345\n",
      "    concavity (mean):                     0.0    0.427\n",
      "    concave points (mean):                0.0    0.201\n",
      "    symmetry (mean):                      0.106  0.304\n",
      "    fractal dimension (mean):             0.05   0.097\n",
      "    radius (standard error):              0.112  2.873\n",
      "    texture (standard error):             0.36   4.885\n",
      "    perimeter (standard error):           0.757  21.98\n",
      "    area (standard error):                6.802  542.2\n",
      "    smoothness (standard error):          0.002  0.031\n",
      "    compactness (standard error):         0.002  0.135\n",
      "    concavity (standard error):           0.0    0.396\n",
      "    concave points (standard error):      0.0    0.053\n",
      "    symmetry (standard error):            0.008  0.079\n",
      "    fractal dimension (standard error):   0.001  0.03\n",
      "    radius (worst):                       7.93   36.04\n",
      "    texture (worst):                      12.02  49.54\n",
      "    perimeter (worst):                    50.41  251.2\n",
      "    area (worst):                         185.2  4254.0\n",
      "    smoothness (worst):                   0.071  0.223\n",
      "    compactness (worst):                  0.027  1.058\n",
      "    concavity (worst):                    0.0    1.252\n",
      "    concave points (worst):               0.0    0.291\n",
      "    symmetry (worst):                     0.156  0.664\n",
      "    fractal dimension (worst):            0.055  0.208\n",
      "    ===================================== ====== ======\n",
      "\n",
      "    :Missing Attribute Values: None\n",
      "\n",
      "    :Class Distribution: 212 - Malignant, 357 - Benign\n",
      "\n",
      "    :Creator:  Dr. William H. Wolberg, W. Nick Street, Olvi L. Mangasarian\n",
      "\n",
      "    :Donor: Nick Street\n",
      "\n",
      "    :Date: November, 1995\n",
      "\n",
      "This is a copy of UCI ML Breast Cancer Wisconsin (Diagnostic) datasets.\n",
      "https://goo.gl/U2Uwz2\n",
      "\n",
      "Features are computed from a digitized image of a fine needle\n",
      "aspirate (FNA) of a breast mass.  They describe\n",
      "characteristics of the cell nuclei present in the image.\n",
      "\n",
      "Separating plane described above was obtained using\n",
      "Multisurface Method-Tree (MSM-T) [K. P. Bennett, \"Decision Tree\n",
      "Construction Via Linear Programming.\" Proceedings of the 4th\n",
      "Midwest Artificial Intelligence and Cognitive Science Society,\n",
      "pp. 97-101, 1992], a classification method which uses linear\n",
      "programming to construct a decision tree.  Relevant features\n",
      "were selected using an exhaustive search in the space of 1-4\n",
      "features and 1-3 separating planes.\n",
      "\n",
      "The actual linear program used to obtain the separating plane\n",
      "in the 3-dimensional space is that described in:\n",
      "[K. P. Bennett and O. L. Mangasarian: \"Robust Linear\n",
      "Programming Discrimination of Two Linearly Inseparable Sets\",\n",
      "Optimization Methods and Software 1, 1992, 23-34].\n",
      "\n",
      "This database is also available through the UW CS ftp server:\n",
      "\n",
      "ftp ftp.cs.wisc.edu\n",
      "cd math-prog/cpo-dataset/machine-learn/WDBC/\n",
      "\n",
      ".. topic:: References\n",
      "\n",
      "   - W.N. Street, W.H. Wolberg and O.L. Mangasarian. Nuclear feature extraction \n",
      "     for breast tumor diagnosis. IS&T/SPIE 1993 International Symposium on \n",
      "     Electronic Imaging: Science and Technology, volume 1905, pages 861-870,\n",
      "     San Jose, CA, 1993.\n",
      "   - O.L. Mangasarian, W.N. Street and W.H. Wolberg. Breast cancer diagnosis and \n",
      "     prognosis via linear programming. Operations Research, 43(4), pages 570-577, \n",
      "     July-August 1995.\n",
      "   - W.H. Wolberg, W.N. Street, and O.L. Mangasarian. Machine learning techniques\n",
      "     to diagnose breast cancer from fine-needle aspirates. Cancer Letters 77 (1994) \n",
      "     163-171.\n"
     ]
    }
   ],
   "source": [
    "print(cancer.DESCR)"
   ]
  },
  {
   "cell_type": "code",
   "execution_count": 9,
   "metadata": {
    "scrolled": true
   },
   "outputs": [
    {
     "name": "stdout",
     "output_type": "stream",
     "text": [
      "00 : mean radius\n",
      "01 : mean texture\n",
      "02 : mean perimeter\n",
      "03 : mean area\n",
      "04 : mean smoothness\n",
      "05 : mean compactness\n",
      "06 : mean concavity\n",
      "07 : mean concave points\n",
      "08 : mean symmetry\n",
      "09 : mean fractal dimension\n",
      "10 : radius error\n",
      "11 : texture error\n",
      "12 : perimeter error\n",
      "13 : area error\n",
      "14 : smoothness error\n",
      "15 : compactness error\n",
      "16 : concavity error\n",
      "17 : concave points error\n",
      "18 : symmetry error\n",
      "19 : fractal dimension error\n",
      "20 : worst radius\n",
      "21 : worst texture\n",
      "22 : worst perimeter\n",
      "23 : worst area\n",
      "24 : worst smoothness\n",
      "25 : worst compactness\n",
      "26 : worst concavity\n",
      "27 : worst concave points\n",
      "28 : worst symmetry\n",
      "29 : worst fractal dimension\n"
     ]
    }
   ],
   "source": [
    "for i,name in enumerate(cancer.feature_names):\n",
    "    print('%02d : %s' %(i,name)) \n",
    "    # 0을 안붙이면 앞에 0을 안붙이고, 02를 안붙이면 숫자를 앞으로 땡겨쓴다."
   ]
  },
  {
   "cell_type": "code",
   "execution_count": 10,
   "metadata": {},
   "outputs": [
    {
     "data": {
      "text/plain": [
       "array(['malignant', 'benign'], dtype='<U9')"
      ]
     },
     "execution_count": 10,
     "metadata": {},
     "output_type": "execute_result"
    }
   ],
   "source": [
    "cancer.target_names # malignant(악성), benign(양성)"
   ]
  },
  {
   "cell_type": "code",
   "execution_count": 11,
   "metadata": {},
   "outputs": [
    {
     "name": "stdout",
     "output_type": "stream",
     "text": [
      "data => (569, 30)\n",
      "target => (569,)\n",
      "malignant(악성) => (212, 30)\n",
      "benign(양성) => (357, 30)\n"
     ]
    }
   ],
   "source": [
    "print('data =>',cancer.data.shape)\n",
    "print('target =>',cancer.target.shape)\n",
    "\n",
    "malignant = cancer.data[cancer.target==0]\n",
    "benign = cancer.data[cancer.target==1]\n",
    "\n",
    "print('malignant(악성) =>',malignant.shape)\n",
    "print('benign(양성) =>',benign.shape)"
   ]
  },
  {
   "cell_type": "code",
   "execution_count": 12,
   "metadata": {
    "scrolled": true
   },
   "outputs": [
    {
     "data": {
      "text/plain": [
       "(array([ 4, 15, 31, 48, 93, 92, 71, 58, 32, 23, 22, 28, 27, 11,  2,  5,  2,\n",
       "         2,  0,  3], dtype=int64),\n",
       " array([ 6.981  ,  8.03745,  9.0939 , 10.15035, 11.2068 , 12.26325,\n",
       "        13.3197 , 14.37615, 15.4326 , 16.48905, 17.5455 , 18.60195,\n",
       "        19.6584 , 20.71485, 21.7713 , 22.82775, 23.8842 , 24.94065,\n",
       "        25.9971 , 27.05355, 28.11   ]))"
      ]
     },
     "execution_count": 12,
     "metadata": {},
     "output_type": "execute_result"
    }
   ],
   "source": [
    "_, bins=np.histogram(cancer.data[:,0], bins=20)\n",
    "np.histogram(cancer.data[:,0], bins=20)"
   ]
  },
  {
   "cell_type": "code",
   "execution_count": 13,
   "metadata": {
    "scrolled": true
   },
   "outputs": [
    {
     "data": {
      "text/plain": [
       "1.0"
      ]
     },
     "metadata": {},
     "output_type": "display_data"
    },
    {
     "data": {
      "text/plain": [
       "0.951048951048951"
      ]
     },
     "metadata": {},
     "output_type": "display_data"
    },
    {
     "data": {
      "text/plain": [
       "1.0"
      ]
     },
     "metadata": {},
     "output_type": "display_data"
    },
    {
     "data": {
      "text/plain": [
       "0.9300699300699301"
      ]
     },
     "metadata": {},
     "output_type": "display_data"
    },
    {
     "data": {
      "text/plain": [
       "1.0"
      ]
     },
     "metadata": {},
     "output_type": "display_data"
    },
    {
     "data": {
      "text/plain": [
       "0.9300699300699301"
      ]
     },
     "metadata": {},
     "output_type": "display_data"
    },
    {
     "data": {
      "text/plain": [
       "1.0"
      ]
     },
     "metadata": {},
     "output_type": "display_data"
    },
    {
     "data": {
      "text/plain": [
       "0.9230769230769231"
      ]
     },
     "metadata": {},
     "output_type": "display_data"
    },
    {
     "data": {
      "text/plain": [
       "1.0"
      ]
     },
     "metadata": {},
     "output_type": "display_data"
    },
    {
     "data": {
      "text/plain": [
       "0.9230769230769231"
      ]
     },
     "metadata": {},
     "output_type": "display_data"
    },
    {
     "data": {
      "text/plain": [
       "1.0"
      ]
     },
     "metadata": {},
     "output_type": "display_data"
    },
    {
     "data": {
      "text/plain": [
       "0.9440559440559441"
      ]
     },
     "metadata": {},
     "output_type": "display_data"
    },
    {
     "data": {
      "text/plain": [
       "1.0"
      ]
     },
     "metadata": {},
     "output_type": "display_data"
    },
    {
     "data": {
      "text/plain": [
       "0.9440559440559441"
      ]
     },
     "metadata": {},
     "output_type": "display_data"
    },
    {
     "data": {
      "text/plain": [
       "1.0"
      ]
     },
     "metadata": {},
     "output_type": "display_data"
    },
    {
     "data": {
      "text/plain": [
       "0.965034965034965"
      ]
     },
     "metadata": {},
     "output_type": "display_data"
    },
    {
     "data": {
      "text/plain": [
       "1.0"
      ]
     },
     "metadata": {},
     "output_type": "display_data"
    },
    {
     "data": {
      "text/plain": [
       "0.9370629370629371"
      ]
     },
     "metadata": {},
     "output_type": "display_data"
    },
    {
     "data": {
      "text/plain": [
       "1.0"
      ]
     },
     "metadata": {},
     "output_type": "display_data"
    },
    {
     "data": {
      "text/plain": [
       "0.9370629370629371"
      ]
     },
     "metadata": {},
     "output_type": "display_data"
    },
    {
     "name": "stdout",
     "output_type": "stream",
     "text": [
      "scores = [0.951048951048951, 0.9300699300699301, 0.9300699300699301, 0.9230769230769231, 0.9230769230769231, 0.9440559440559441, 0.9440559440559441, 0.965034965034965, 0.9370629370629371, 0.9370629370629371]\n"
     ]
    }
   ],
   "source": [
    "from sklearn.linear_model import LogisticRegression\n",
    "from sklearn.feature_selection import RFECV\n",
    "scores = []\n",
    "\n",
    "for i in range(10):\n",
    "    X_train,X_test,y_train,y_test = train_test_split(cancer.data,cancer.target)\n",
    "\n",
    "    model = DecisionTreeClassifier()  # 결정트리화\n",
    "    model.fit(X_train,y_train)\n",
    "    \n",
    "    \n",
    "    score = model.score(X_test,y_test)\n",
    "    scores.append(score)\n",
    "    train_score = model.score(X_train, y_train)\n",
    "    test_score = model.score(X_test, y_test)\n",
    "    display(train_score, test_score)\n",
    "print('scores =', scores)"
   ]
  },
  {
   "cell_type": "code",
   "execution_count": 14,
   "metadata": {},
   "outputs": [
    {
     "data": {
      "image/png": "[encoded data removed]",
      "text/plain": [
       "<Figure size 504x360 with 1 Axes>"
      ]
     },
     "metadata": {
      "needs_background": "light"
     },
     "output_type": "display_data"
    }
   ],
   "source": [
    "from sklearn.feature_selection import RFECV\n",
    "min_features_to_select = 1\n",
    "clf = DecisionTreeClassifier(max_depth=4, min_samples_leaf=12, random_state=12)\n",
    "\n",
    "rfe = RFECV(estimator=clf,   # 차원 축소 \n",
    "    step=1,\n",
    "    cv=5, # 5-fold cross-validation\n",
    "    scoring='accuracy',\n",
    "    min_features_to_select=min_features_to_select\n",
    "    )\n",
    "rfe = rfe.fit(X_train, y_train)\n",
    "# Plot number of features VS. cross-validation scores\n",
    "plt.figure(figsize=(7,5))\n",
    "plt.xlabel(\"Number of features selected\")\n",
    "plt.ylabel(\"Cross validation score (# of correct classifications)\")\n",
    "plt.plot(range(min_features_to_select, len(rfe.grid_scores_)+min_features_to_select),rfe.grid_scores_)\n",
    "plt.show()"
   ]
  },
  {
   "cell_type": "code",
   "execution_count": 15,
   "metadata": {},
   "outputs": [
    {
     "name": "stdout",
     "output_type": "stream",
     "text": [
      "Optimal number of features : 2\n",
      "Best features : ['worst area' 'worst concave points']\n",
      "Drop features : ['mean perimeter', 'mean area', 'mean smoothness', 'mean compactness', 'mean concavity', 'mean concave points', 'mean symmetry', 'mean fractal dimension', 'radius error', 'texture error', 'perimeter error', 'area error', 'smoothness error', 'compactness error', 'concavity error', 'concave points error', 'symmetry error', 'fractal dimension error', 'worst radius', 'worst texture', 'worst perimeter', 'worst smoothness', 'worst compactness', 'worst concavity', 'worst symmetry', 'worst fractal dimension']\n"
     ]
    }
   ],
   "source": [
    "best_features = cancer.feature_names[rfe.support_]\n",
    "\n",
    "drop_features = [ column_name for column_name in cancer.feature_names[2:] if column_name not in best_features ]\n",
    "\n",
    "print('Optimal number of features :', rfe.n_features_)\n",
    "print('Best features :', best_features)\n",
    "print('Drop features :', drop_features)"
   ]
  },
  {
   "cell_type": "markdown",
   "metadata": {},
   "source": [
    "## 모델 빌드업"
   ]
  },
  {
   "cell_type": "code",
   "execution_count": 16,
   "metadata": {},
   "outputs": [
    {
     "data": {
      "image/png": "[encoded data removed]",
      "text/plain": [
       "<Figure size 1008x1008 with 30 Axes>"
      ]
     },
     "metadata": {},
     "output_type": "display_data"
    }
   ],
   "source": [
    "fig=plt.figure(figsize=[14,14])\n",
    "fig.suptitle('Breast Cancer - feature analysis', fontsize=20)\n",
    "\n",
    "for col in range(cancer.feature_names.shape[0]): # 30 features\n",
    "    plt.subplot(8,4,col+1)\n",
    "    _,bins=np.histogram(cancer.data[:,col],bins=50)\n",
    "    plt.hist(malignant[:,col], bins=bins, alpha=0.5, label='malignant', color='red')\n",
    "    plt.hist(benign[:,col], bins=bins, alpha=0.5, label='benign', color='green')\n",
    "    \n",
    "    plt.title(cancer.feature_names[col]+('(%d)' % col))\n",
    "    plt.xticks([])\n",
    "    plt.yticks([])\n",
    "    if col==0: plt.legend()"
   ]
  },
  {
   "cell_type": "code",
   "execution_count": 17,
   "metadata": {
    "scrolled": true
   },
   "outputs": [
    {
     "data": {
      "text/plain": [
       "<matplotlib.collections.PathCollection at 0x1ddc6cf27f0>"
      ]
     },
     "execution_count": 17,
     "metadata": {},
     "output_type": "execute_result"
    },
    {
     "data": {
      "image/png": "[encoded data removed]",
      "text/plain": [
       "<Figure size 432x288 with 1 Axes>"
      ]
     },
     "metadata": {
      "needs_background": "light"
     },
     "output_type": "display_data"
    }
   ],
   "source": [
    "plt.scatter(cancer.data[:,4], cancer.data[:,24], alpha=0.1)"
   ]
  },
  {
   "cell_type": "code",
   "execution_count": 18,
   "metadata": {},
   "outputs": [
    {
     "name": "stdout",
     "output_type": "stream",
     "text": [
      "\n"
     ]
    },
    {
     "data": {
      "image/png": "[encoded data removed]",
      "text/plain": [
       "<Figure size 1008x1008 with 2 Axes>"
      ]
     },
     "metadata": {
      "needs_background": "light"
     },
     "output_type": "display_data"
    }
   ],
   "source": [
    "#모든 속성에 대해서 한번에 그래프를 \n",
    "#그릴수 없으므로 상관관계를 수치를 통해 데이터를 파악한다.\n",
    "mat=np.corrcoef(cancer.data.T)  # 열로 읽으므로 Transpose 시켜줘야 한다.\n",
    "mat.shape, mat[4,24]\n",
    "# 속성간의 관계를 한 눈에 파악\n",
    "fig=plt.figure(figsize=[14,14])\n",
    "plt.title('Breast Cancer - Correlation Coefficient',fontsize=20)\n",
    "plt.imshow(mat, interpolation='none', vmin=-1, vmax=1)\n",
    "plt.colorbar(shrink=0.7)\n",
    "plt.xticks(range(30),cancer.feature_names,rotation=90,ha='center')\n",
    "plt.yticks(range(30))\n",
    "print('')"
   ]
  },
  {
   "cell_type": "markdown",
   "metadata": {},
   "source": [
    "## 결정트리의 옵션들"
   ]
  },
  {
   "cell_type": "code",
   "execution_count": 19,
   "metadata": {},
   "outputs": [
    {
     "data": {
      "text/plain": [
       "DecisionTreeClassifier()"
      ]
     },
     "execution_count": 19,
     "metadata": {},
     "output_type": "execute_result"
    }
   ],
   "source": [
    "model\n",
    "\n",
    "# gini 알고리즘을 사용하여 경계선 선택, 속도는 느리지만 엔트로피 알고리즘이 더 정확\n",
    "# max_depth 몇층까지 내려갈거냐. 한번 분기가 1층"
   ]
  },
  {
   "cell_type": "code",
   "execution_count": 20,
   "metadata": {},
   "outputs": [],
   "source": [
    "X_train, X_test, y_train, y_test = train_test_split(cancer.data, cancer.target)\n",
    "\n",
    "score_train = []\n",
    "score_test = []\n",
    "\n",
    "for depth in range(1,10):\n",
    "    model = DecisionTreeClassifier(max_depth=depth)\n",
    "    model.fit(X_train, y_train)\n",
    "    score1 = model.score(X_train,y_train)\n",
    "    score2 = model.score(X_test, y_test)\n",
    "    score_train.append(score1)\n",
    "    score_test.append(score2)\n",
    "    "
   ]
  },
  {
   "cell_type": "code",
   "execution_count": 21,
   "metadata": {},
   "outputs": [
    {
     "data": {
      "text/plain": [
       "Text(0.5, 0, 'max_depth')"
      ]
     },
     "execution_count": 21,
     "metadata": {},
     "output_type": "execute_result"
    },
    {
     "data": {
      "image/png": "[encoded data removed]",
      "text/plain": [
       "<Figure size 432x288 with 1 Axes>"
      ]
     },
     "metadata": {
      "needs_background": "light"
     },
     "output_type": "display_data"
    }
   ],
   "source": [
    "plt.plot(range(1,10), score_train, 'ro--')\n",
    "plt.plot(range(1,10), score_test, 'bs-')\n",
    "plt.legend(['train','test'])\n",
    "plt.xlabel('max_depth')"
   ]
  },
  {
   "cell_type": "markdown",
   "metadata": {},
   "source": [
    "## 그래프 출력을 위한 graphviz"
   ]
  },
  {
   "cell_type": "code",
   "execution_count": 22,
   "metadata": {},
   "outputs": [],
   "source": [
    "model = DecisionTreeClassifier(max_depth=2)\n",
    "model.fit(cancer.data, cancer.target)\n",
    "from IPython.display import display\n",
    "import graphviz\n",
    "from sklearn.tree import export_graphviz\n",
    "\n",
    "\n",
    "\n",
    "export_graphviz(model,out_file='tree2.dot',class_names=cancer.target_names,\n",
    "                feature_names=cancer.feature_names,impurity=False,filled=True)\n"
   ]
  },
  {
   "cell_type": "code",
   "execution_count": 23,
   "metadata": {
    "scrolled": true
   },
   "outputs": [
    {
     "data": {
      "image/svg+xml": [
       "<?xml version=\"1.0\" encoding=\"UTF-8\" standalone=\"no\"?>\r\n",
       "<!DOCTYPE svg PUBLIC \"-//W3C//DTD SVG 1.1//EN\"\r\n",
       " \"http://www.w3.org/Graphics/SVG/1.1/DTD/svg11.dtd\">\r\n",
       "<!-- Generated by graphviz version 2.47.2 (20210527.0053)\r\n",
       " -->\r\n",
       "<!-- Title: Tree Pages: 1 -->\r\n",
       "<svg width=\"521pt\" height=\"269pt\"\r\n",
       " viewBox=\"0.00 0.00 520.50 269.00\" xmlns=\"http://www.w3.org/2000/svg\" xmlns:xlink=\"http://www.w3.org/1999/xlink\">\r\n",
       "<g id=\"graph0\" class=\"graph\" transform=\"scale(1 1) rotate(0) translate(4 265)\">\r\n",
       "<title>Tree</title>\r\n",
       "<polygon fill=\"white\" stroke=\"transparent\" points=\"-4,4 -4,-265 516.5,-265 516.5,4 -4,4\"/>\r\n",
       "<!-- 0 -->\r\n",
       "<g id=\"node1\" class=\"node\">\r\n",
       "<title>0</title>\r\n",
       "<polygon fill=\"#afd7f4\" stroke=\"black\" points=\"329.5,-261 182.5,-261 182.5,-193 329.5,-193 329.5,-261\"/>\r\n",
       "<text text-anchor=\"middle\" x=\"256\" y=\"-245.8\" font-family=\"Times New Roman,serif\" font-size=\"14.00\">worst radius &lt;= 16.795</text>\r\n",
       "<text text-anchor=\"middle\" x=\"256\" y=\"-230.8\" font-family=\"Times New Roman,serif\" font-size=\"14.00\">samples = 569</text>\r\n",
       "<text text-anchor=\"middle\" x=\"256\" y=\"-215.8\" font-family=\"Times New Roman,serif\" font-size=\"14.00\">value = [212, 357]</text>\r\n",
       "<text text-anchor=\"middle\" x=\"256\" y=\"-200.8\" font-family=\"Times New Roman,serif\" font-size=\"14.00\">class = benign</text>\r\n",
       "</g>\r\n",
       "<!-- 1 -->\r\n",
       "<g id=\"node2\" class=\"node\">\r\n",
       "<title>1</title>\r\n",
       "<polygon fill=\"#4ca6e7\" stroke=\"black\" points=\"258.5,-157 67.5,-157 67.5,-89 258.5,-89 258.5,-157\"/>\r\n",
       "<text text-anchor=\"middle\" x=\"163\" y=\"-141.8\" font-family=\"Times New Roman,serif\" font-size=\"14.00\">worst concave points &lt;= 0.136</text>\r\n",
       "<text text-anchor=\"middle\" x=\"163\" y=\"-126.8\" font-family=\"Times New Roman,serif\" font-size=\"14.00\">samples = 379</text>\r\n",
       "<text text-anchor=\"middle\" x=\"163\" y=\"-111.8\" font-family=\"Times New Roman,serif\" font-size=\"14.00\">value = [33, 346]</text>\r\n",
       "<text text-anchor=\"middle\" x=\"163\" y=\"-96.8\" font-family=\"Times New Roman,serif\" font-size=\"14.00\">class = benign</text>\r\n",
       "</g>\r\n",
       "<!-- 0&#45;&gt;1 -->\r\n",
       "<g id=\"edge1\" class=\"edge\">\r\n",
       "<title>0&#45;&gt;1</title>\r\n",
       "<path fill=\"none\" stroke=\"black\" d=\"M225.81,-192.88C217.68,-183.98 208.8,-174.24 200.34,-164.96\"/>\r\n",
       "<polygon fill=\"black\" stroke=\"black\" points=\"202.69,-162.33 193.36,-157.3 197.51,-167.05 202.69,-162.33\"/>\r\n",
       "<text text-anchor=\"middle\" x=\"192.21\" y=\"-178.57\" font-family=\"Times New Roman,serif\" font-size=\"14.00\">True</text>\r\n",
       "</g>\r\n",
       "<!-- 4 -->\r\n",
       "<g id=\"node5\" class=\"node\">\r\n",
       "<title>4</title>\r\n",
       "<polygon fill=\"#e78945\" stroke=\"black\" points=\"421,-157 277,-157 277,-89 421,-89 421,-157\"/>\r\n",
       "<text text-anchor=\"middle\" x=\"349\" y=\"-141.8\" font-family=\"Times New Roman,serif\" font-size=\"14.00\">worst texture &lt;= 19.91</text>\r\n",
       "<text text-anchor=\"middle\" x=\"349\" y=\"-126.8\" font-family=\"Times New Roman,serif\" font-size=\"14.00\">samples = 190</text>\r\n",
       "<text text-anchor=\"middle\" x=\"349\" y=\"-111.8\" font-family=\"Times New Roman,serif\" font-size=\"14.00\">value = [179, 11]</text>\r\n",
       "<text text-anchor=\"middle\" x=\"349\" y=\"-96.8\" font-family=\"Times New Roman,serif\" font-size=\"14.00\">class = malignant</text>\r\n",
       "</g>\r\n",
       "<!-- 0&#45;&gt;4 -->\r\n",
       "<g id=\"edge4\" class=\"edge\">\r\n",
       "<title>0&#45;&gt;4</title>\r\n",
       "<path fill=\"none\" stroke=\"black\" d=\"M286.19,-192.88C294.32,-183.98 303.2,-174.24 311.66,-164.96\"/>\r\n",
       "<polygon fill=\"black\" stroke=\"black\" points=\"314.49,-167.05 318.64,-157.3 309.31,-162.33 314.49,-167.05\"/>\r\n",
       "<text text-anchor=\"middle\" x=\"319.79\" y=\"-178.57\" font-family=\"Times New Roman,serif\" font-size=\"14.00\">False</text>\r\n",
       "</g>\r\n",
       "<!-- 2 -->\r\n",
       "<g id=\"node3\" class=\"node\">\r\n",
       "<title>2</title>\r\n",
       "<polygon fill=\"#3c9ee5\" stroke=\"black\" points=\"104,-53 0,-53 0,0 104,0 104,-53\"/>\r\n",
       "<text text-anchor=\"middle\" x=\"52\" y=\"-37.8\" font-family=\"Times New Roman,serif\" font-size=\"14.00\">samples = 333</text>\r\n",
       "<text text-anchor=\"middle\" x=\"52\" y=\"-22.8\" font-family=\"Times New Roman,serif\" font-size=\"14.00\">value = [5, 328]</text>\r\n",
       "<text text-anchor=\"middle\" x=\"52\" y=\"-7.8\" font-family=\"Times New Roman,serif\" font-size=\"14.00\">class = benign</text>\r\n",
       "</g>\r\n",
       "<!-- 1&#45;&gt;2 -->\r\n",
       "<g id=\"edge2\" class=\"edge\">\r\n",
       "<title>1&#45;&gt;2</title>\r\n",
       "<path fill=\"none\" stroke=\"black\" d=\"M124.18,-88.95C113.11,-79.53 101.07,-69.27 90.05,-59.89\"/>\r\n",
       "<polygon fill=\"black\" stroke=\"black\" points=\"92.11,-57.05 82.23,-53.24 87.58,-62.38 92.11,-57.05\"/>\r\n",
       "</g>\r\n",
       "<!-- 3 -->\r\n",
       "<g id=\"node4\" class=\"node\">\r\n",
       "<title>3</title>\r\n",
       "<polygon fill=\"#f6d2b8\" stroke=\"black\" points=\"235.5,-53 122.5,-53 122.5,0 235.5,0 235.5,-53\"/>\r\n",
       "<text text-anchor=\"middle\" x=\"179\" y=\"-37.8\" font-family=\"Times New Roman,serif\" font-size=\"14.00\">samples = 46</text>\r\n",
       "<text text-anchor=\"middle\" x=\"179\" y=\"-22.8\" font-family=\"Times New Roman,serif\" font-size=\"14.00\">value = [28, 18]</text>\r\n",
       "<text text-anchor=\"middle\" x=\"179\" y=\"-7.8\" font-family=\"Times New Roman,serif\" font-size=\"14.00\">class = malignant</text>\r\n",
       "</g>\r\n",
       "<!-- 1&#45;&gt;3 -->\r\n",
       "<g id=\"edge3\" class=\"edge\">\r\n",
       "<title>1&#45;&gt;3</title>\r\n",
       "<path fill=\"none\" stroke=\"black\" d=\"M168.6,-88.95C170.01,-80.62 171.52,-71.65 172.96,-63.2\"/>\r\n",
       "<polygon fill=\"black\" stroke=\"black\" points=\"176.42,-63.68 174.64,-53.24 169.52,-62.51 176.42,-63.68\"/>\r\n",
       "</g>\r\n",
       "<!-- 5 -->\r\n",
       "<g id=\"node6\" class=\"node\">\r\n",
       "<title>5</title>\r\n",
       "<polygon fill=\"#e9f4fc\" stroke=\"black\" points=\"381.5,-53 284.5,-53 284.5,0 381.5,0 381.5,-53\"/>\r\n",
       "<text text-anchor=\"middle\" x=\"333\" y=\"-37.8\" font-family=\"Times New Roman,serif\" font-size=\"14.00\">samples = 17</text>\r\n",
       "<text text-anchor=\"middle\" x=\"333\" y=\"-22.8\" font-family=\"Times New Roman,serif\" font-size=\"14.00\">value = [8, 9]</text>\r\n",
       "<text text-anchor=\"middle\" x=\"333\" y=\"-7.8\" font-family=\"Times New Roman,serif\" font-size=\"14.00\">class = benign</text>\r\n",
       "</g>\r\n",
       "<!-- 4&#45;&gt;5 -->\r\n",
       "<g id=\"edge5\" class=\"edge\">\r\n",
       "<title>4&#45;&gt;5</title>\r\n",
       "<path fill=\"none\" stroke=\"black\" d=\"M343.4,-88.95C341.99,-80.62 340.48,-71.65 339.04,-63.2\"/>\r\n",
       "<polygon fill=\"black\" stroke=\"black\" points=\"342.48,-62.51 337.36,-53.24 335.58,-63.68 342.48,-62.51\"/>\r\n",
       "</g>\r\n",
       "<!-- 6 -->\r\n",
       "<g id=\"node7\" class=\"node\">\r\n",
       "<title>6</title>\r\n",
       "<polygon fill=\"#e5823b\" stroke=\"black\" points=\"512.5,-53 399.5,-53 399.5,0 512.5,0 512.5,-53\"/>\r\n",
       "<text text-anchor=\"middle\" x=\"456\" y=\"-37.8\" font-family=\"Times New Roman,serif\" font-size=\"14.00\">samples = 173</text>\r\n",
       "<text text-anchor=\"middle\" x=\"456\" y=\"-22.8\" font-family=\"Times New Roman,serif\" font-size=\"14.00\">value = [171, 2]</text>\r\n",
       "<text text-anchor=\"middle\" x=\"456\" y=\"-7.8\" font-family=\"Times New Roman,serif\" font-size=\"14.00\">class = malignant</text>\r\n",
       "</g>\r\n",
       "<!-- 4&#45;&gt;6 -->\r\n",
       "<g id=\"edge6\" class=\"edge\">\r\n",
       "<title>4&#45;&gt;6</title>\r\n",
       "<path fill=\"none\" stroke=\"black\" d=\"M386.42,-88.95C397.09,-79.53 408.7,-69.27 419.32,-59.89\"/>\r\n",
       "<polygon fill=\"black\" stroke=\"black\" points=\"421.68,-62.48 426.86,-53.24 417.05,-57.23 421.68,-62.48\"/>\r\n",
       "</g>\r\n",
       "</g>\r\n",
       "</svg>\r\n"
      ],
      "text/plain": [
       "<graphviz.files.Source at 0x1ddc738c9a0>"
      ]
     },
     "metadata": {},
     "output_type": "display_data"
    }
   ],
   "source": [
    "with open('tree2.dot') as f: #tree2.dot으로 저장\n",
    "    dot_graph=f.read()\n",
    "display(graphviz.Source(dot_graph))"
   ]
  },
  {
   "cell_type": "code",
   "execution_count": 24,
   "metadata": {},
   "outputs": [
    {
     "data": {
      "text/plain": [
       "'tree2.png'"
      ]
     },
     "execution_count": 24,
     "metadata": {},
     "output_type": "execute_result"
    }
   ],
   "source": [
    "# save dot to png\n",
    "import graphviz\n",
    "dot=graphviz.Source(dot_graph)\n",
    "dot.format='png'\n",
    "dot.render(filename='tree2') #tree2.png 저장"
   ]
  },
  {
   "cell_type": "code",
   "execution_count": 25,
   "metadata": {},
   "outputs": [
    {
     "data": {
      "text/plain": [
       "DecisionTreeClassifier(max_depth=2)"
      ]
     },
     "execution_count": 25,
     "metadata": {},
     "output_type": "execute_result"
    }
   ],
   "source": [
    "model"
   ]
  },
  {
   "cell_type": "code",
   "execution_count": 26,
   "metadata": {},
   "outputs": [
    {
     "data": {
      "image/svg+xml": [
       "<?xml version=\"1.0\" encoding=\"UTF-8\" standalone=\"no\"?>\r\n",
       "<!DOCTYPE svg PUBLIC \"-//W3C//DTD SVG 1.1//EN\"\r\n",
       " \"http://www.w3.org/Graphics/SVG/1.1/DTD/svg11.dtd\">\r\n",
       "<!-- Generated by graphviz version 2.47.2 (20210527.0053)\r\n",
       " -->\r\n",
       "<!-- Title: Tree Pages: 1 -->\r\n",
       "<svg width=\"941pt\" height=\"581pt\"\r\n",
       " viewBox=\"0.00 0.00 940.50 581.00\" xmlns=\"http://www.w3.org/2000/svg\" xmlns:xlink=\"http://www.w3.org/1999/xlink\">\r\n",
       "<g id=\"graph0\" class=\"graph\" transform=\"scale(1 1) rotate(0) translate(4 577)\">\r\n",
       "<title>Tree</title>\r\n",
       "<polygon fill=\"white\" stroke=\"transparent\" points=\"-4,4 -4,-577 936.5,-577 936.5,4 -4,4\"/>\r\n",
       "<!-- 0 -->\r\n",
       "<g id=\"node1\" class=\"node\">\r\n",
       "<title>0</title>\r\n",
       "<polygon fill=\"#afd7f4\" stroke=\"black\" points=\"572.5,-573 425.5,-573 425.5,-505 572.5,-505 572.5,-573\"/>\r\n",
       "<text text-anchor=\"middle\" x=\"499\" y=\"-557.8\" font-family=\"Times New Roman,serif\" font-size=\"14.00\">worst radius &lt;= 16.795</text>\r\n",
       "<text text-anchor=\"middle\" x=\"499\" y=\"-542.8\" font-family=\"Times New Roman,serif\" font-size=\"14.00\">samples = 569</text>\r\n",
       "<text text-anchor=\"middle\" x=\"499\" y=\"-527.8\" font-family=\"Times New Roman,serif\" font-size=\"14.00\">value = [212, 357]</text>\r\n",
       "<text text-anchor=\"middle\" x=\"499\" y=\"-512.8\" font-family=\"Times New Roman,serif\" font-size=\"14.00\">class = benign</text>\r\n",
       "</g>\r\n",
       "<!-- 1 -->\r\n",
       "<g id=\"node2\" class=\"node\">\r\n",
       "<title>1</title>\r\n",
       "<polygon fill=\"#4ca6e7\" stroke=\"black\" points=\"502.5,-469 311.5,-469 311.5,-401 502.5,-401 502.5,-469\"/>\r\n",
       "<text text-anchor=\"middle\" x=\"407\" y=\"-453.8\" font-family=\"Times New Roman,serif\" font-size=\"14.00\">worst concave points &lt;= 0.136</text>\r\n",
       "<text text-anchor=\"middle\" x=\"407\" y=\"-438.8\" font-family=\"Times New Roman,serif\" font-size=\"14.00\">samples = 379</text>\r\n",
       "<text text-anchor=\"middle\" x=\"407\" y=\"-423.8\" font-family=\"Times New Roman,serif\" font-size=\"14.00\">value = [33, 346]</text>\r\n",
       "<text text-anchor=\"middle\" x=\"407\" y=\"-408.8\" font-family=\"Times New Roman,serif\" font-size=\"14.00\">class = benign</text>\r\n",
       "</g>\r\n",
       "<!-- 0&#45;&gt;1 -->\r\n",
       "<g id=\"edge1\" class=\"edge\">\r\n",
       "<title>0&#45;&gt;1</title>\r\n",
       "<path fill=\"none\" stroke=\"black\" d=\"M469.13,-504.88C461.1,-495.98 452.31,-486.24 443.94,-476.96\"/>\r\n",
       "<polygon fill=\"black\" stroke=\"black\" points=\"446.33,-474.38 437.03,-469.3 441.13,-479.07 446.33,-474.38\"/>\r\n",
       "<text text-anchor=\"middle\" x=\"435.75\" y=\"-490.57\" font-family=\"Times New Roman,serif\" font-size=\"14.00\">True</text>\r\n",
       "</g>\r\n",
       "<!-- 14 -->\r\n",
       "<g id=\"node15\" class=\"node\">\r\n",
       "<title>14</title>\r\n",
       "<polygon fill=\"#e78945\" stroke=\"black\" points=\"663,-469 521,-469 521,-401 663,-401 663,-469\"/>\r\n",
       "<text text-anchor=\"middle\" x=\"592\" y=\"-453.8\" font-family=\"Times New Roman,serif\" font-size=\"14.00\">mean texture &lt;= 16.11</text>\r\n",
       "<text text-anchor=\"middle\" x=\"592\" y=\"-438.8\" font-family=\"Times New Roman,serif\" font-size=\"14.00\">samples = 190</text>\r\n",
       "<text text-anchor=\"middle\" x=\"592\" y=\"-423.8\" font-family=\"Times New Roman,serif\" font-size=\"14.00\">value = [179, 11]</text>\r\n",
       "<text text-anchor=\"middle\" x=\"592\" y=\"-408.8\" font-family=\"Times New Roman,serif\" font-size=\"14.00\">class = malignant</text>\r\n",
       "</g>\r\n",
       "<!-- 0&#45;&gt;14 -->\r\n",
       "<g id=\"edge14\" class=\"edge\">\r\n",
       "<title>0&#45;&gt;14</title>\r\n",
       "<path fill=\"none\" stroke=\"black\" d=\"M529.19,-504.88C537.32,-495.98 546.2,-486.24 554.66,-476.96\"/>\r\n",
       "<polygon fill=\"black\" stroke=\"black\" points=\"557.49,-479.05 561.64,-469.3 552.31,-474.33 557.49,-479.05\"/>\r\n",
       "<text text-anchor=\"middle\" x=\"562.79\" y=\"-490.57\" font-family=\"Times New Roman,serif\" font-size=\"14.00\">False</text>\r\n",
       "</g>\r\n",
       "<!-- 2 -->\r\n",
       "<g id=\"node3\" class=\"node\">\r\n",
       "<title>2</title>\r\n",
       "<polygon fill=\"#3c9ee5\" stroke=\"black\" points=\"320.5,-365 189.5,-365 189.5,-297 320.5,-297 320.5,-365\"/>\r\n",
       "<text text-anchor=\"middle\" x=\"255\" y=\"-349.8\" font-family=\"Times New Roman,serif\" font-size=\"14.00\">area error &lt;= 38.605</text>\r\n",
       "<text text-anchor=\"middle\" x=\"255\" y=\"-334.8\" font-family=\"Times New Roman,serif\" font-size=\"14.00\">samples = 333</text>\r\n",
       "<text text-anchor=\"middle\" x=\"255\" y=\"-319.8\" font-family=\"Times New Roman,serif\" font-size=\"14.00\">value = [5, 328]</text>\r\n",
       "<text text-anchor=\"middle\" x=\"255\" y=\"-304.8\" font-family=\"Times New Roman,serif\" font-size=\"14.00\">class = benign</text>\r\n",
       "</g>\r\n",
       "<!-- 1&#45;&gt;2 -->\r\n",
       "<g id=\"edge2\" class=\"edge\">\r\n",
       "<title>1&#45;&gt;2</title>\r\n",
       "<path fill=\"none\" stroke=\"black\" d=\"M357.65,-400.88C343.37,-391.3 327.66,-380.76 312.92,-370.86\"/>\r\n",
       "<polygon fill=\"black\" stroke=\"black\" points=\"314.62,-367.79 304.36,-365.12 310.72,-373.6 314.62,-367.79\"/>\r\n",
       "</g>\r\n",
       "<!-- 9 -->\r\n",
       "<g id=\"node10\" class=\"node\">\r\n",
       "<title>9</title>\r\n",
       "<polygon fill=\"#f6d2b8\" stroke=\"black\" points=\"483,-365 339,-365 339,-297 483,-297 483,-365\"/>\r\n",
       "<text text-anchor=\"middle\" x=\"411\" y=\"-349.8\" font-family=\"Times New Roman,serif\" font-size=\"14.00\">worst texture &lt;= 25.67</text>\r\n",
       "<text text-anchor=\"middle\" x=\"411\" y=\"-334.8\" font-family=\"Times New Roman,serif\" font-size=\"14.00\">samples = 46</text>\r\n",
       "<text text-anchor=\"middle\" x=\"411\" y=\"-319.8\" font-family=\"Times New Roman,serif\" font-size=\"14.00\">value = [28, 18]</text>\r\n",
       "<text text-anchor=\"middle\" x=\"411\" y=\"-304.8\" font-family=\"Times New Roman,serif\" font-size=\"14.00\">class = malignant</text>\r\n",
       "</g>\r\n",
       "<!-- 1&#45;&gt;9 -->\r\n",
       "<g id=\"edge9\" class=\"edge\">\r\n",
       "<title>1&#45;&gt;9</title>\r\n",
       "<path fill=\"none\" stroke=\"black\" d=\"M408.3,-400.88C408.62,-392.78 408.96,-383.98 409.3,-375.47\"/>\r\n",
       "<polygon fill=\"black\" stroke=\"black\" points=\"412.8,-375.43 409.69,-365.3 405.8,-375.15 412.8,-375.43\"/>\r\n",
       "</g>\r\n",
       "<!-- 3 -->\r\n",
       "<g id=\"node4\" class=\"node\">\r\n",
       "<title>3</title>\r\n",
       "<polygon fill=\"#3a9ee5\" stroke=\"black\" points=\"197.5,-261 46.5,-261 46.5,-193 197.5,-193 197.5,-261\"/>\r\n",
       "<text text-anchor=\"middle\" x=\"122\" y=\"-245.8\" font-family=\"Times New Roman,serif\" font-size=\"14.00\">worst texture &lt;= 30.145</text>\r\n",
       "<text text-anchor=\"middle\" x=\"122\" y=\"-230.8\" font-family=\"Times New Roman,serif\" font-size=\"14.00\">samples = 319</text>\r\n",
       "<text text-anchor=\"middle\" x=\"122\" y=\"-215.8\" font-family=\"Times New Roman,serif\" font-size=\"14.00\">value = [2, 317]</text>\r\n",
       "<text text-anchor=\"middle\" x=\"122\" y=\"-200.8\" font-family=\"Times New Roman,serif\" font-size=\"14.00\">class = benign</text>\r\n",
       "</g>\r\n",
       "<!-- 2&#45;&gt;3 -->\r\n",
       "<g id=\"edge3\" class=\"edge\">\r\n",
       "<title>2&#45;&gt;3</title>\r\n",
       "<path fill=\"none\" stroke=\"black\" d=\"M211.82,-296.88C199.62,-287.53 186.23,-277.26 173.59,-267.57\"/>\r\n",
       "<polygon fill=\"black\" stroke=\"black\" points=\"175.48,-264.61 165.42,-261.3 171.22,-270.16 175.48,-264.61\"/>\r\n",
       "</g>\r\n",
       "<!-- 8 -->\r\n",
       "<g id=\"node9\" class=\"node\">\r\n",
       "<title>8</title>\r\n",
       "<polygon fill=\"#6fb8ec\" stroke=\"black\" points=\"314,-253.5 216,-253.5 216,-200.5 314,-200.5 314,-253.5\"/>\r\n",
       "<text text-anchor=\"middle\" x=\"265\" y=\"-238.3\" font-family=\"Times New Roman,serif\" font-size=\"14.00\">samples = 14</text>\r\n",
       "<text text-anchor=\"middle\" x=\"265\" y=\"-223.3\" font-family=\"Times New Roman,serif\" font-size=\"14.00\">value = [3, 11]</text>\r\n",
       "<text text-anchor=\"middle\" x=\"265\" y=\"-208.3\" font-family=\"Times New Roman,serif\" font-size=\"14.00\">class = benign</text>\r\n",
       "</g>\r\n",
       "<!-- 2&#45;&gt;8 -->\r\n",
       "<g id=\"edge8\" class=\"edge\">\r\n",
       "<title>2&#45;&gt;8</title>\r\n",
       "<path fill=\"none\" stroke=\"black\" d=\"M258.25,-296.88C259.29,-286.22 260.46,-274.35 261.52,-263.52\"/>\r\n",
       "<polygon fill=\"black\" stroke=\"black\" points=\"265.01,-263.81 262.5,-253.52 258.04,-263.13 265.01,-263.81\"/>\r\n",
       "</g>\r\n",
       "<!-- 4 -->\r\n",
       "<g id=\"node5\" class=\"node\">\r\n",
       "<title>4</title>\r\n",
       "<polygon fill=\"#399de5\" stroke=\"black\" points=\"104,-149.5 0,-149.5 0,-96.5 104,-96.5 104,-149.5\"/>\r\n",
       "<text text-anchor=\"middle\" x=\"52\" y=\"-134.3\" font-family=\"Times New Roman,serif\" font-size=\"14.00\">samples = 275</text>\r\n",
       "<text text-anchor=\"middle\" x=\"52\" y=\"-119.3\" font-family=\"Times New Roman,serif\" font-size=\"14.00\">value = [0, 275]</text>\r\n",
       "<text text-anchor=\"middle\" x=\"52\" y=\"-104.3\" font-family=\"Times New Roman,serif\" font-size=\"14.00\">class = benign</text>\r\n",
       "</g>\r\n",
       "<!-- 3&#45;&gt;4 -->\r\n",
       "<g id=\"edge4\" class=\"edge\">\r\n",
       "<title>3&#45;&gt;4</title>\r\n",
       "<path fill=\"none\" stroke=\"black\" d=\"M99.27,-192.88C91.57,-181.67 82.97,-169.13 75.23,-157.85\"/>\r\n",
       "<polygon fill=\"black\" stroke=\"black\" points=\"78.06,-155.78 69.51,-149.52 72.29,-159.75 78.06,-155.78\"/>\r\n",
       "</g>\r\n",
       "<!-- 5 -->\r\n",
       "<g id=\"node6\" class=\"node\">\r\n",
       "<title>5</title>\r\n",
       "<polygon fill=\"#42a2e6\" stroke=\"black\" points=\"262,-157 122,-157 122,-89 262,-89 262,-157\"/>\r\n",
       "<text text-anchor=\"middle\" x=\"192\" y=\"-141.8\" font-family=\"Times New Roman,serif\" font-size=\"14.00\">worst radius &lt;= 14.43</text>\r\n",
       "<text text-anchor=\"middle\" x=\"192\" y=\"-126.8\" font-family=\"Times New Roman,serif\" font-size=\"14.00\">samples = 44</text>\r\n",
       "<text text-anchor=\"middle\" x=\"192\" y=\"-111.8\" font-family=\"Times New Roman,serif\" font-size=\"14.00\">value = [2, 42]</text>\r\n",
       "<text text-anchor=\"middle\" x=\"192\" y=\"-96.8\" font-family=\"Times New Roman,serif\" font-size=\"14.00\">class = benign</text>\r\n",
       "</g>\r\n",
       "<!-- 3&#45;&gt;5 -->\r\n",
       "<g id=\"edge5\" class=\"edge\">\r\n",
       "<title>3&#45;&gt;5</title>\r\n",
       "<path fill=\"none\" stroke=\"black\" d=\"M144.73,-192.88C150.66,-184.24 157.12,-174.82 163.32,-165.79\"/>\r\n",
       "<polygon fill=\"black\" stroke=\"black\" points=\"166.37,-167.52 169.15,-157.3 160.6,-163.56 166.37,-167.52\"/>\r\n",
       "</g>\r\n",
       "<!-- 6 -->\r\n",
       "<g id=\"node7\" class=\"node\">\r\n",
       "<title>6</title>\r\n",
       "<polygon fill=\"#399de5\" stroke=\"black\" points=\"183,-53 85,-53 85,0 183,0 183,-53\"/>\r\n",
       "<text text-anchor=\"middle\" x=\"134\" y=\"-37.8\" font-family=\"Times New Roman,serif\" font-size=\"14.00\">samples = 32</text>\r\n",
       "<text text-anchor=\"middle\" x=\"134\" y=\"-22.8\" font-family=\"Times New Roman,serif\" font-size=\"14.00\">value = [0, 32]</text>\r\n",
       "<text text-anchor=\"middle\" x=\"134\" y=\"-7.8\" font-family=\"Times New Roman,serif\" font-size=\"14.00\">class = benign</text>\r\n",
       "</g>\r\n",
       "<!-- 5&#45;&gt;6 -->\r\n",
       "<g id=\"edge6\" class=\"edge\">\r\n",
       "<title>5&#45;&gt;6</title>\r\n",
       "<path fill=\"none\" stroke=\"black\" d=\"M171.71,-88.95C166.32,-80.17 160.49,-70.66 155.06,-61.82\"/>\r\n",
       "<polygon fill=\"black\" stroke=\"black\" points=\"158.01,-59.93 149.8,-53.24 152.04,-63.59 158.01,-59.93\"/>\r\n",
       "</g>\r\n",
       "<!-- 7 -->\r\n",
       "<g id=\"node8\" class=\"node\">\r\n",
       "<title>7</title>\r\n",
       "<polygon fill=\"#61b1ea\" stroke=\"black\" points=\"299,-53 201,-53 201,0 299,0 299,-53\"/>\r\n",
       "<text text-anchor=\"middle\" x=\"250\" y=\"-37.8\" font-family=\"Times New Roman,serif\" font-size=\"14.00\">samples = 12</text>\r\n",
       "<text text-anchor=\"middle\" x=\"250\" y=\"-22.8\" font-family=\"Times New Roman,serif\" font-size=\"14.00\">value = [2, 10]</text>\r\n",
       "<text text-anchor=\"middle\" x=\"250\" y=\"-7.8\" font-family=\"Times New Roman,serif\" font-size=\"14.00\">class = benign</text>\r\n",
       "</g>\r\n",
       "<!-- 5&#45;&gt;7 -->\r\n",
       "<g id=\"edge7\" class=\"edge\">\r\n",
       "<title>5&#45;&gt;7</title>\r\n",
       "<path fill=\"none\" stroke=\"black\" d=\"M212.29,-88.95C217.68,-80.17 223.51,-70.66 228.94,-61.82\"/>\r\n",
       "<polygon fill=\"black\" stroke=\"black\" points=\"231.96,-63.59 234.2,-53.24 225.99,-59.93 231.96,-63.59\"/>\r\n",
       "</g>\r\n",
       "<!-- 10 -->\r\n",
       "<g id=\"node11\" class=\"node\">\r\n",
       "<title>10</title>\r\n",
       "<polygon fill=\"#6eb7ec\" stroke=\"black\" points=\"450,-253.5 352,-253.5 352,-200.5 450,-200.5 450,-253.5\"/>\r\n",
       "<text text-anchor=\"middle\" x=\"401\" y=\"-238.3\" font-family=\"Times New Roman,serif\" font-size=\"14.00\">samples = 19</text>\r\n",
       "<text text-anchor=\"middle\" x=\"401\" y=\"-223.3\" font-family=\"Times New Roman,serif\" font-size=\"14.00\">value = [4, 15]</text>\r\n",
       "<text text-anchor=\"middle\" x=\"401\" y=\"-208.3\" font-family=\"Times New Roman,serif\" font-size=\"14.00\">class = benign</text>\r\n",
       "</g>\r\n",
       "<!-- 9&#45;&gt;10 -->\r\n",
       "<g id=\"edge10\" class=\"edge\">\r\n",
       "<title>9&#45;&gt;10</title>\r\n",
       "<path fill=\"none\" stroke=\"black\" d=\"M407.75,-296.88C406.71,-286.22 405.54,-274.35 404.48,-263.52\"/>\r\n",
       "<polygon fill=\"black\" stroke=\"black\" points=\"407.96,-263.13 403.5,-253.52 400.99,-263.81 407.96,-263.13\"/>\r\n",
       "</g>\r\n",
       "<!-- 11 -->\r\n",
       "<g id=\"node12\" class=\"node\">\r\n",
       "<title>11</title>\r\n",
       "<polygon fill=\"#e89152\" stroke=\"black\" points=\"668,-261 468,-261 468,-193 668,-193 668,-261\"/>\r\n",
       "<text text-anchor=\"middle\" x=\"568\" y=\"-245.8\" font-family=\"Times New Roman,serif\" font-size=\"14.00\">mean fractal dimension &lt;= 0.068</text>\r\n",
       "<text text-anchor=\"middle\" x=\"568\" y=\"-230.8\" font-family=\"Times New Roman,serif\" font-size=\"14.00\">samples = 27</text>\r\n",
       "<text text-anchor=\"middle\" x=\"568\" y=\"-215.8\" font-family=\"Times New Roman,serif\" font-size=\"14.00\">value = [24, 3]</text>\r\n",
       "<text text-anchor=\"middle\" x=\"568\" y=\"-200.8\" font-family=\"Times New Roman,serif\" font-size=\"14.00\">class = malignant</text>\r\n",
       "</g>\r\n",
       "<!-- 9&#45;&gt;11 -->\r\n",
       "<g id=\"edge11\" class=\"edge\">\r\n",
       "<title>9&#45;&gt;11</title>\r\n",
       "<path fill=\"none\" stroke=\"black\" d=\"M461.97,-296.88C476.86,-287.21 493.25,-276.56 508.61,-266.59\"/>\r\n",
       "<polygon fill=\"black\" stroke=\"black\" points=\"510.54,-269.51 517.01,-261.12 506.72,-263.64 510.54,-269.51\"/>\r\n",
       "</g>\r\n",
       "<!-- 12 -->\r\n",
       "<g id=\"node13\" class=\"node\">\r\n",
       "<title>12</title>\r\n",
       "<polygon fill=\"#eeab7b\" stroke=\"black\" points=\"558.5,-149.5 445.5,-149.5 445.5,-96.5 558.5,-96.5 558.5,-149.5\"/>\r\n",
       "<text text-anchor=\"middle\" x=\"502\" y=\"-134.3\" font-family=\"Times New Roman,serif\" font-size=\"14.00\">samples = 12</text>\r\n",
       "<text text-anchor=\"middle\" x=\"502\" y=\"-119.3\" font-family=\"Times New Roman,serif\" font-size=\"14.00\">value = [9, 3]</text>\r\n",
       "<text text-anchor=\"middle\" x=\"502\" y=\"-104.3\" font-family=\"Times New Roman,serif\" font-size=\"14.00\">class = malignant</text>\r\n",
       "</g>\r\n",
       "<!-- 11&#45;&gt;12 -->\r\n",
       "<g id=\"edge12\" class=\"edge\">\r\n",
       "<title>11&#45;&gt;12</title>\r\n",
       "<path fill=\"none\" stroke=\"black\" d=\"M546.57,-192.88C539.38,-181.78 531.36,-169.37 524.12,-158.18\"/>\r\n",
       "<polygon fill=\"black\" stroke=\"black\" points=\"526.88,-156.01 518.51,-149.52 521.01,-159.82 526.88,-156.01\"/>\r\n",
       "</g>\r\n",
       "<!-- 13 -->\r\n",
       "<g id=\"node14\" class=\"node\">\r\n",
       "<title>13</title>\r\n",
       "<polygon fill=\"#e58139\" stroke=\"black\" points=\"689.5,-149.5 576.5,-149.5 576.5,-96.5 689.5,-96.5 689.5,-149.5\"/>\r\n",
       "<text text-anchor=\"middle\" x=\"633\" y=\"-134.3\" font-family=\"Times New Roman,serif\" font-size=\"14.00\">samples = 15</text>\r\n",
       "<text text-anchor=\"middle\" x=\"633\" y=\"-119.3\" font-family=\"Times New Roman,serif\" font-size=\"14.00\">value = [15, 0]</text>\r\n",
       "<text text-anchor=\"middle\" x=\"633\" y=\"-104.3\" font-family=\"Times New Roman,serif\" font-size=\"14.00\">class = malignant</text>\r\n",
       "</g>\r\n",
       "<!-- 11&#45;&gt;13 -->\r\n",
       "<g id=\"edge13\" class=\"edge\">\r\n",
       "<title>11&#45;&gt;13</title>\r\n",
       "<path fill=\"none\" stroke=\"black\" d=\"M589.1,-192.88C596.18,-181.78 604.09,-169.37 611.22,-158.18\"/>\r\n",
       "<polygon fill=\"black\" stroke=\"black\" points=\"614.31,-159.83 616.74,-149.52 608.41,-156.07 614.31,-159.83\"/>\r\n",
       "</g>\r\n",
       "<!-- 15 -->\r\n",
       "<g id=\"node16\" class=\"node\">\r\n",
       "<title>15</title>\r\n",
       "<polygon fill=\"#e9f4fc\" stroke=\"black\" points=\"634.5,-357.5 537.5,-357.5 537.5,-304.5 634.5,-304.5 634.5,-357.5\"/>\r\n",
       "<text text-anchor=\"middle\" x=\"586\" y=\"-342.3\" font-family=\"Times New Roman,serif\" font-size=\"14.00\">samples = 17</text>\r\n",
       "<text text-anchor=\"middle\" x=\"586\" y=\"-327.3\" font-family=\"Times New Roman,serif\" font-size=\"14.00\">value = [8, 9]</text>\r\n",
       "<text text-anchor=\"middle\" x=\"586\" y=\"-312.3\" font-family=\"Times New Roman,serif\" font-size=\"14.00\">class = benign</text>\r\n",
       "</g>\r\n",
       "<!-- 14&#45;&gt;15 -->\r\n",
       "<g id=\"edge15\" class=\"edge\">\r\n",
       "<title>14&#45;&gt;15</title>\r\n",
       "<path fill=\"none\" stroke=\"black\" d=\"M590.05,-400.88C589.42,-390.22 588.73,-378.35 588.09,-367.52\"/>\r\n",
       "<polygon fill=\"black\" stroke=\"black\" points=\"591.58,-367.3 587.5,-357.52 584.59,-367.71 591.58,-367.3\"/>\r\n",
       "</g>\r\n",
       "<!-- 16 -->\r\n",
       "<g id=\"node17\" class=\"node\">\r\n",
       "<title>16</title>\r\n",
       "<polygon fill=\"#e5823b\" stroke=\"black\" points=\"843.5,-365 652.5,-365 652.5,-297 843.5,-297 843.5,-365\"/>\r\n",
       "<text text-anchor=\"middle\" x=\"748\" y=\"-349.8\" font-family=\"Times New Roman,serif\" font-size=\"14.00\">worst concave points &lt;= 0.112</text>\r\n",
       "<text text-anchor=\"middle\" x=\"748\" y=\"-334.8\" font-family=\"Times New Roman,serif\" font-size=\"14.00\">samples = 173</text>\r\n",
       "<text text-anchor=\"middle\" x=\"748\" y=\"-319.8\" font-family=\"Times New Roman,serif\" font-size=\"14.00\">value = [171, 2]</text>\r\n",
       "<text text-anchor=\"middle\" x=\"748\" y=\"-304.8\" font-family=\"Times New Roman,serif\" font-size=\"14.00\">class = malignant</text>\r\n",
       "</g>\r\n",
       "<!-- 14&#45;&gt;16 -->\r\n",
       "<g id=\"edge16\" class=\"edge\">\r\n",
       "<title>14&#45;&gt;16</title>\r\n",
       "<path fill=\"none\" stroke=\"black\" d=\"M642.65,-400.88C657.3,-391.3 673.42,-380.76 688.56,-370.86\"/>\r\n",
       "<polygon fill=\"black\" stroke=\"black\" points=\"690.88,-373.53 697.34,-365.12 687.05,-367.67 690.88,-373.53\"/>\r\n",
       "</g>\r\n",
       "<!-- 17 -->\r\n",
       "<g id=\"node18\" class=\"node\">\r\n",
       "<title>17</title>\r\n",
       "<polygon fill=\"#ea9a61\" stroke=\"black\" points=\"801.5,-253.5 688.5,-253.5 688.5,-200.5 801.5,-200.5 801.5,-253.5\"/>\r\n",
       "<text text-anchor=\"middle\" x=\"745\" y=\"-238.3\" font-family=\"Times New Roman,serif\" font-size=\"14.00\">samples = 12</text>\r\n",
       "<text text-anchor=\"middle\" x=\"745\" y=\"-223.3\" font-family=\"Times New Roman,serif\" font-size=\"14.00\">value = [10, 2]</text>\r\n",
       "<text text-anchor=\"middle\" x=\"745\" y=\"-208.3\" font-family=\"Times New Roman,serif\" font-size=\"14.00\">class = malignant</text>\r\n",
       "</g>\r\n",
       "<!-- 16&#45;&gt;17 -->\r\n",
       "<g id=\"edge17\" class=\"edge\">\r\n",
       "<title>16&#45;&gt;17</title>\r\n",
       "<path fill=\"none\" stroke=\"black\" d=\"M747.03,-296.88C746.71,-286.22 746.36,-274.35 746.04,-263.52\"/>\r\n",
       "<polygon fill=\"black\" stroke=\"black\" points=\"749.54,-263.41 745.75,-253.52 742.55,-263.62 749.54,-263.41\"/>\r\n",
       "</g>\r\n",
       "<!-- 18 -->\r\n",
       "<g id=\"node19\" class=\"node\">\r\n",
       "<title>18</title>\r\n",
       "<polygon fill=\"#e58139\" stroke=\"black\" points=\"932.5,-253.5 819.5,-253.5 819.5,-200.5 932.5,-200.5 932.5,-253.5\"/>\r\n",
       "<text text-anchor=\"middle\" x=\"876\" y=\"-238.3\" font-family=\"Times New Roman,serif\" font-size=\"14.00\">samples = 161</text>\r\n",
       "<text text-anchor=\"middle\" x=\"876\" y=\"-223.3\" font-family=\"Times New Roman,serif\" font-size=\"14.00\">value = [161, 0]</text>\r\n",
       "<text text-anchor=\"middle\" x=\"876\" y=\"-208.3\" font-family=\"Times New Roman,serif\" font-size=\"14.00\">class = malignant</text>\r\n",
       "</g>\r\n",
       "<!-- 16&#45;&gt;18 -->\r\n",
       "<g id=\"edge18\" class=\"edge\">\r\n",
       "<title>16&#45;&gt;18</title>\r\n",
       "<path fill=\"none\" stroke=\"black\" d=\"M789.56,-296.88C804.46,-285.01 821.23,-271.65 836,-259.88\"/>\r\n",
       "<polygon fill=\"black\" stroke=\"black\" points=\"838.34,-262.49 843.97,-253.52 833.97,-257.01 838.34,-262.49\"/>\r\n",
       "</g>\r\n",
       "</g>\r\n",
       "</svg>\r\n"
      ],
      "text/plain": [
       "<graphviz.files.Source at 0x1ddc936bf40>"
      ]
     },
     "metadata": {},
     "output_type": "display_data"
    }
   ],
   "source": [
    "model = DecisionTreeClassifier(min_samples_leaf=12)\n",
    "model.fit(cancer.data, cancer.target)\n",
    "\n",
    "from sklearn.tree import export_graphviz\n",
    "\n",
    "export_graphviz(model,out_file='tree1.dot',class_names=cancer.target_names,\n",
    "                feature_names=cancer.feature_names,impurity=False,filled=True)\n",
    "\n",
    "import graphviz\n",
    "\n",
    "with open('tree1.dot') as f:\n",
    "    dot_graph=f.read()\n",
    "display(graphviz.Source(dot_graph))"
   ]
  },
  {
   "cell_type": "code",
   "execution_count": 27,
   "metadata": {},
   "outputs": [
    {
     "data": {
      "image/svg+xml": [
       "<?xml version=\"1.0\" encoding=\"UTF-8\" standalone=\"no\"?>\r\n",
       "<!DOCTYPE svg PUBLIC \"-//W3C//DTD SVG 1.1//EN\"\r\n",
       " \"http://www.w3.org/Graphics/SVG/1.1/DTD/svg11.dtd\">\r\n",
       "<!-- Generated by graphviz version 2.47.2 (20210527.0053)\r\n",
       " -->\r\n",
       "<!-- Title: Tree Pages: 1 -->\r\n",
       "<svg width=\"678pt\" height=\"685pt\"\r\n",
       " viewBox=\"0.00 0.00 678.00 685.00\" xmlns=\"http://www.w3.org/2000/svg\" xmlns:xlink=\"http://www.w3.org/1999/xlink\">\r\n",
       "<g id=\"graph0\" class=\"graph\" transform=\"scale(1 1) rotate(0) translate(4 681)\">\r\n",
       "<title>Tree</title>\r\n",
       "<polygon fill=\"white\" stroke=\"transparent\" points=\"-4,4 -4,-681 674,-681 674,4 -4,4\"/>\r\n",
       "<!-- 0 -->\r\n",
       "<g id=\"node1\" class=\"node\">\r\n",
       "<title>0</title>\r\n",
       "<polygon fill=\"#afd7f4\" stroke=\"black\" points=\"426,-677 279,-677 279,-609 426,-609 426,-677\"/>\r\n",
       "<text text-anchor=\"middle\" x=\"352.5\" y=\"-661.8\" font-family=\"Times New Roman,serif\" font-size=\"14.00\">worst radius &lt;= 16.795</text>\r\n",
       "<text text-anchor=\"middle\" x=\"352.5\" y=\"-646.8\" font-family=\"Times New Roman,serif\" font-size=\"14.00\">samples = 569</text>\r\n",
       "<text text-anchor=\"middle\" x=\"352.5\" y=\"-631.8\" font-family=\"Times New Roman,serif\" font-size=\"14.00\">value = [212, 357]</text>\r\n",
       "<text text-anchor=\"middle\" x=\"352.5\" y=\"-616.8\" font-family=\"Times New Roman,serif\" font-size=\"14.00\">class = benign</text>\r\n",
       "</g>\r\n",
       "<!-- 1 -->\r\n",
       "<g id=\"node2\" class=\"node\">\r\n",
       "<title>1</title>\r\n",
       "<polygon fill=\"#4ca6e7\" stroke=\"black\" points=\"356,-573 165,-573 165,-505 356,-505 356,-573\"/>\r\n",
       "<text text-anchor=\"middle\" x=\"260.5\" y=\"-557.8\" font-family=\"Times New Roman,serif\" font-size=\"14.00\">worst concave points &lt;= 0.136</text>\r\n",
       "<text text-anchor=\"middle\" x=\"260.5\" y=\"-542.8\" font-family=\"Times New Roman,serif\" font-size=\"14.00\">samples = 379</text>\r\n",
       "<text text-anchor=\"middle\" x=\"260.5\" y=\"-527.8\" font-family=\"Times New Roman,serif\" font-size=\"14.00\">value = [33, 346]</text>\r\n",
       "<text text-anchor=\"middle\" x=\"260.5\" y=\"-512.8\" font-family=\"Times New Roman,serif\" font-size=\"14.00\">class = benign</text>\r\n",
       "</g>\r\n",
       "<!-- 0&#45;&gt;1 -->\r\n",
       "<g id=\"edge1\" class=\"edge\">\r\n",
       "<title>0&#45;&gt;1</title>\r\n",
       "<path fill=\"none\" stroke=\"black\" d=\"M322.63,-608.88C314.6,-599.98 305.81,-590.24 297.44,-580.96\"/>\r\n",
       "<polygon fill=\"black\" stroke=\"black\" points=\"299.83,-578.38 290.53,-573.3 294.63,-583.07 299.83,-578.38\"/>\r\n",
       "<text text-anchor=\"middle\" x=\"289.25\" y=\"-594.57\" font-family=\"Times New Roman,serif\" font-size=\"14.00\">True</text>\r\n",
       "</g>\r\n",
       "<!-- 12 -->\r\n",
       "<g id=\"node13\" class=\"node\">\r\n",
       "<title>12</title>\r\n",
       "<polygon fill=\"#e78945\" stroke=\"black\" points=\"516.5,-573 374.5,-573 374.5,-505 516.5,-505 516.5,-573\"/>\r\n",
       "<text text-anchor=\"middle\" x=\"445.5\" y=\"-557.8\" font-family=\"Times New Roman,serif\" font-size=\"14.00\">mean texture &lt;= 16.11</text>\r\n",
       "<text text-anchor=\"middle\" x=\"445.5\" y=\"-542.8\" font-family=\"Times New Roman,serif\" font-size=\"14.00\">samples = 190</text>\r\n",
       "<text text-anchor=\"middle\" x=\"445.5\" y=\"-527.8\" font-family=\"Times New Roman,serif\" font-size=\"14.00\">value = [179, 11]</text>\r\n",
       "<text text-anchor=\"middle\" x=\"445.5\" y=\"-512.8\" font-family=\"Times New Roman,serif\" font-size=\"14.00\">class = malignant</text>\r\n",
       "</g>\r\n",
       "<!-- 0&#45;&gt;12 -->\r\n",
       "<g id=\"edge12\" class=\"edge\">\r\n",
       "<title>0&#45;&gt;12</title>\r\n",
       "<path fill=\"none\" stroke=\"black\" d=\"M382.69,-608.88C390.82,-599.98 399.7,-590.24 408.16,-580.96\"/>\r\n",
       "<polygon fill=\"black\" stroke=\"black\" points=\"410.99,-583.05 415.14,-573.3 405.81,-578.33 410.99,-583.05\"/>\r\n",
       "<text text-anchor=\"middle\" x=\"416.29\" y=\"-594.57\" font-family=\"Times New Roman,serif\" font-size=\"14.00\">False</text>\r\n",
       "</g>\r\n",
       "<!-- 2 -->\r\n",
       "<g id=\"node3\" class=\"node\">\r\n",
       "<title>2</title>\r\n",
       "<polygon fill=\"#3c9ee5\" stroke=\"black\" points=\"202,-469 45,-469 45,-401 202,-401 202,-469\"/>\r\n",
       "<text text-anchor=\"middle\" x=\"123.5\" y=\"-453.8\" font-family=\"Times New Roman,serif\" font-size=\"14.00\">symmetry error &lt;= 0.009</text>\r\n",
       "<text text-anchor=\"middle\" x=\"123.5\" y=\"-438.8\" font-family=\"Times New Roman,serif\" font-size=\"14.00\">samples = 333</text>\r\n",
       "<text text-anchor=\"middle\" x=\"123.5\" y=\"-423.8\" font-family=\"Times New Roman,serif\" font-size=\"14.00\">value = [5, 328]</text>\r\n",
       "<text text-anchor=\"middle\" x=\"123.5\" y=\"-408.8\" font-family=\"Times New Roman,serif\" font-size=\"14.00\">class = benign</text>\r\n",
       "</g>\r\n",
       "<!-- 1&#45;&gt;2 -->\r\n",
       "<g id=\"edge2\" class=\"edge\">\r\n",
       "<title>1&#45;&gt;2</title>\r\n",
       "<path fill=\"none\" stroke=\"black\" d=\"M216.02,-504.88C203.34,-495.44 189.4,-485.06 176.27,-475.29\"/>\r\n",
       "<polygon fill=\"black\" stroke=\"black\" points=\"178.34,-472.46 168.23,-469.3 174.16,-478.08 178.34,-472.46\"/>\r\n",
       "</g>\r\n",
       "<!-- 11 -->\r\n",
       "<g id=\"node12\" class=\"node\">\r\n",
       "<title>11</title>\r\n",
       "<polygon fill=\"#f6d2b8\" stroke=\"black\" points=\"333,-461.5 220,-461.5 220,-408.5 333,-408.5 333,-461.5\"/>\r\n",
       "<text text-anchor=\"middle\" x=\"276.5\" y=\"-446.3\" font-family=\"Times New Roman,serif\" font-size=\"14.00\">samples = 46</text>\r\n",
       "<text text-anchor=\"middle\" x=\"276.5\" y=\"-431.3\" font-family=\"Times New Roman,serif\" font-size=\"14.00\">value = [28, 18]</text>\r\n",
       "<text text-anchor=\"middle\" x=\"276.5\" y=\"-416.3\" font-family=\"Times New Roman,serif\" font-size=\"14.00\">class = malignant</text>\r\n",
       "</g>\r\n",
       "<!-- 1&#45;&gt;11 -->\r\n",
       "<g id=\"edge11\" class=\"edge\">\r\n",
       "<title>1&#45;&gt;11</title>\r\n",
       "<path fill=\"none\" stroke=\"black\" d=\"M265.69,-504.88C267.37,-494.22 269.23,-482.35 270.93,-471.52\"/>\r\n",
       "<polygon fill=\"black\" stroke=\"black\" points=\"274.4,-471.94 272.5,-461.52 267.49,-470.86 274.4,-471.94\"/>\r\n",
       "</g>\r\n",
       "<!-- 3 -->\r\n",
       "<g id=\"node4\" class=\"node\">\r\n",
       "<title>3</title>\r\n",
       "<polygon fill=\"#e58139\" stroke=\"black\" points=\"113,-357.5 0,-357.5 0,-304.5 113,-304.5 113,-357.5\"/>\r\n",
       "<text text-anchor=\"middle\" x=\"56.5\" y=\"-342.3\" font-family=\"Times New Roman,serif\" font-size=\"14.00\">samples = 1</text>\r\n",
       "<text text-anchor=\"middle\" x=\"56.5\" y=\"-327.3\" font-family=\"Times New Roman,serif\" font-size=\"14.00\">value = [1, 0]</text>\r\n",
       "<text text-anchor=\"middle\" x=\"56.5\" y=\"-312.3\" font-family=\"Times New Roman,serif\" font-size=\"14.00\">class = malignant</text>\r\n",
       "</g>\r\n",
       "<!-- 2&#45;&gt;3 -->\r\n",
       "<g id=\"edge3\" class=\"edge\">\r\n",
       "<title>2&#45;&gt;3</title>\r\n",
       "<path fill=\"none\" stroke=\"black\" d=\"M101.75,-400.88C94.45,-389.78 86.3,-377.37 78.95,-366.18\"/>\r\n",
       "<polygon fill=\"black\" stroke=\"black\" points=\"81.68,-363.96 73.26,-357.52 75.83,-367.8 81.68,-363.96\"/>\r\n",
       "</g>\r\n",
       "<!-- 4 -->\r\n",
       "<g id=\"node5\" class=\"node\">\r\n",
       "<title>4</title>\r\n",
       "<polygon fill=\"#3b9ee5\" stroke=\"black\" points=\"262,-365 131,-365 131,-297 262,-297 262,-365\"/>\r\n",
       "<text text-anchor=\"middle\" x=\"196.5\" y=\"-349.8\" font-family=\"Times New Roman,serif\" font-size=\"14.00\">area error &lt;= 38.605</text>\r\n",
       "<text text-anchor=\"middle\" x=\"196.5\" y=\"-334.8\" font-family=\"Times New Roman,serif\" font-size=\"14.00\">samples = 332</text>\r\n",
       "<text text-anchor=\"middle\" x=\"196.5\" y=\"-319.8\" font-family=\"Times New Roman,serif\" font-size=\"14.00\">value = [4, 328]</text>\r\n",
       "<text text-anchor=\"middle\" x=\"196.5\" y=\"-304.8\" font-family=\"Times New Roman,serif\" font-size=\"14.00\">class = benign</text>\r\n",
       "</g>\r\n",
       "<!-- 2&#45;&gt;4 -->\r\n",
       "<g id=\"edge4\" class=\"edge\">\r\n",
       "<title>2&#45;&gt;4</title>\r\n",
       "<path fill=\"none\" stroke=\"black\" d=\"M147.2,-400.88C153.45,-392.15 160.27,-382.62 166.79,-373.51\"/>\r\n",
       "<polygon fill=\"black\" stroke=\"black\" points=\"169.69,-375.47 172.67,-365.3 164,-371.39 169.69,-375.47\"/>\r\n",
       "</g>\r\n",
       "<!-- 5 -->\r\n",
       "<g id=\"node6\" class=\"node\">\r\n",
       "<title>5</title>\r\n",
       "<polygon fill=\"#3a9ee5\" stroke=\"black\" points=\"271,-261 102,-261 102,-193 271,-193 271,-261\"/>\r\n",
       "<text text-anchor=\"middle\" x=\"186.5\" y=\"-245.8\" font-family=\"Times New Roman,serif\" font-size=\"14.00\">smoothness error &lt;= 0.003</text>\r\n",
       "<text text-anchor=\"middle\" x=\"186.5\" y=\"-230.8\" font-family=\"Times New Roman,serif\" font-size=\"14.00\">samples = 319</text>\r\n",
       "<text text-anchor=\"middle\" x=\"186.5\" y=\"-215.8\" font-family=\"Times New Roman,serif\" font-size=\"14.00\">value = [2, 317]</text>\r\n",
       "<text text-anchor=\"middle\" x=\"186.5\" y=\"-200.8\" font-family=\"Times New Roman,serif\" font-size=\"14.00\">class = benign</text>\r\n",
       "</g>\r\n",
       "<!-- 4&#45;&gt;5 -->\r\n",
       "<g id=\"edge5\" class=\"edge\">\r\n",
       "<title>4&#45;&gt;5</title>\r\n",
       "<path fill=\"none\" stroke=\"black\" d=\"M193.25,-296.88C192.46,-288.78 191.6,-279.98 190.76,-271.47\"/>\r\n",
       "<polygon fill=\"black\" stroke=\"black\" points=\"194.22,-270.91 189.76,-261.3 187.26,-271.59 194.22,-270.91\"/>\r\n",
       "</g>\r\n",
       "<!-- 10 -->\r\n",
       "<g id=\"node11\" class=\"node\">\r\n",
       "<title>10</title>\r\n",
       "<polygon fill=\"#5dafea\" stroke=\"black\" points=\"387.5,-253.5 289.5,-253.5 289.5,-200.5 387.5,-200.5 387.5,-253.5\"/>\r\n",
       "<text text-anchor=\"middle\" x=\"338.5\" y=\"-238.3\" font-family=\"Times New Roman,serif\" font-size=\"14.00\">samples = 13</text>\r\n",
       "<text text-anchor=\"middle\" x=\"338.5\" y=\"-223.3\" font-family=\"Times New Roman,serif\" font-size=\"14.00\">value = [2, 11]</text>\r\n",
       "<text text-anchor=\"middle\" x=\"338.5\" y=\"-208.3\" font-family=\"Times New Roman,serif\" font-size=\"14.00\">class = benign</text>\r\n",
       "</g>\r\n",
       "<!-- 4&#45;&gt;10 -->\r\n",
       "<g id=\"edge10\" class=\"edge\">\r\n",
       "<title>4&#45;&gt;10</title>\r\n",
       "<path fill=\"none\" stroke=\"black\" d=\"M242.6,-296.88C259.29,-284.9 278.08,-271.4 294.58,-259.55\"/>\r\n",
       "<polygon fill=\"black\" stroke=\"black\" points=\"296.89,-262.2 302.97,-253.52 292.81,-256.51 296.89,-262.2\"/>\r\n",
       "</g>\r\n",
       "<!-- 6 -->\r\n",
       "<g id=\"node7\" class=\"node\">\r\n",
       "<title>6</title>\r\n",
       "<polygon fill=\"#5aade9\" stroke=\"black\" points=\"166,-149.5 69,-149.5 69,-96.5 166,-96.5 166,-149.5\"/>\r\n",
       "<text text-anchor=\"middle\" x=\"117.5\" y=\"-134.3\" font-family=\"Times New Roman,serif\" font-size=\"14.00\">samples = 7</text>\r\n",
       "<text text-anchor=\"middle\" x=\"117.5\" y=\"-119.3\" font-family=\"Times New Roman,serif\" font-size=\"14.00\">value = [1, 6]</text>\r\n",
       "<text text-anchor=\"middle\" x=\"117.5\" y=\"-104.3\" font-family=\"Times New Roman,serif\" font-size=\"14.00\">class = benign</text>\r\n",
       "</g>\r\n",
       "<!-- 5&#45;&gt;6 -->\r\n",
       "<g id=\"edge6\" class=\"edge\">\r\n",
       "<title>5&#45;&gt;6</title>\r\n",
       "<path fill=\"none\" stroke=\"black\" d=\"M164.1,-192.88C156.51,-181.67 148.03,-169.13 140.4,-157.85\"/>\r\n",
       "<polygon fill=\"black\" stroke=\"black\" points=\"143.27,-155.84 134.76,-149.52 137.47,-159.76 143.27,-155.84\"/>\r\n",
       "</g>\r\n",
       "<!-- 7 -->\r\n",
       "<g id=\"node8\" class=\"node\">\r\n",
       "<title>7</title>\r\n",
       "<polygon fill=\"#3a9de5\" stroke=\"black\" points=\"328.5,-157 184.5,-157 184.5,-89 328.5,-89 328.5,-157\"/>\r\n",
       "<text text-anchor=\"middle\" x=\"256.5\" y=\"-141.8\" font-family=\"Times New Roman,serif\" font-size=\"14.00\">worst texture &lt;= 33.27</text>\r\n",
       "<text text-anchor=\"middle\" x=\"256.5\" y=\"-126.8\" font-family=\"Times New Roman,serif\" font-size=\"14.00\">samples = 312</text>\r\n",
       "<text text-anchor=\"middle\" x=\"256.5\" y=\"-111.8\" font-family=\"Times New Roman,serif\" font-size=\"14.00\">value = [1, 311]</text>\r\n",
       "<text text-anchor=\"middle\" x=\"256.5\" y=\"-96.8\" font-family=\"Times New Roman,serif\" font-size=\"14.00\">class = benign</text>\r\n",
       "</g>\r\n",
       "<!-- 5&#45;&gt;7 -->\r\n",
       "<g id=\"edge7\" class=\"edge\">\r\n",
       "<title>5&#45;&gt;7</title>\r\n",
       "<path fill=\"none\" stroke=\"black\" d=\"M209.23,-192.88C215.16,-184.24 221.62,-174.82 227.82,-165.79\"/>\r\n",
       "<polygon fill=\"black\" stroke=\"black\" points=\"230.87,-167.52 233.65,-157.3 225.1,-163.56 230.87,-167.52\"/>\r\n",
       "</g>\r\n",
       "<!-- 8 -->\r\n",
       "<g id=\"node9\" class=\"node\">\r\n",
       "<title>8</title>\r\n",
       "<polygon fill=\"#399de5\" stroke=\"black\" points=\"249.5,-53 145.5,-53 145.5,0 249.5,0 249.5,-53\"/>\r\n",
       "<text text-anchor=\"middle\" x=\"197.5\" y=\"-37.8\" font-family=\"Times New Roman,serif\" font-size=\"14.00\">samples = 292</text>\r\n",
       "<text text-anchor=\"middle\" x=\"197.5\" y=\"-22.8\" font-family=\"Times New Roman,serif\" font-size=\"14.00\">value = [0, 292]</text>\r\n",
       "<text text-anchor=\"middle\" x=\"197.5\" y=\"-7.8\" font-family=\"Times New Roman,serif\" font-size=\"14.00\">class = benign</text>\r\n",
       "</g>\r\n",
       "<!-- 7&#45;&gt;8 -->\r\n",
       "<g id=\"edge8\" class=\"edge\">\r\n",
       "<title>7&#45;&gt;8</title>\r\n",
       "<path fill=\"none\" stroke=\"black\" d=\"M235.86,-88.95C230.38,-80.17 224.45,-70.66 218.92,-61.82\"/>\r\n",
       "<polygon fill=\"black\" stroke=\"black\" points=\"221.83,-59.87 213.57,-53.24 215.9,-63.57 221.83,-59.87\"/>\r\n",
       "</g>\r\n",
       "<!-- 9 -->\r\n",
       "<g id=\"node10\" class=\"node\">\r\n",
       "<title>9</title>\r\n",
       "<polygon fill=\"#43a2e6\" stroke=\"black\" points=\"365.5,-53 267.5,-53 267.5,0 365.5,0 365.5,-53\"/>\r\n",
       "<text text-anchor=\"middle\" x=\"316.5\" y=\"-37.8\" font-family=\"Times New Roman,serif\" font-size=\"14.00\">samples = 20</text>\r\n",
       "<text text-anchor=\"middle\" x=\"316.5\" y=\"-22.8\" font-family=\"Times New Roman,serif\" font-size=\"14.00\">value = [1, 19]</text>\r\n",
       "<text text-anchor=\"middle\" x=\"316.5\" y=\"-7.8\" font-family=\"Times New Roman,serif\" font-size=\"14.00\">class = benign</text>\r\n",
       "</g>\r\n",
       "<!-- 7&#45;&gt;9 -->\r\n",
       "<g id=\"edge9\" class=\"edge\">\r\n",
       "<title>7&#45;&gt;9</title>\r\n",
       "<path fill=\"none\" stroke=\"black\" d=\"M277.49,-88.95C283.06,-80.17 289.09,-70.66 294.71,-61.82\"/>\r\n",
       "<polygon fill=\"black\" stroke=\"black\" points=\"297.75,-63.55 300.16,-53.24 291.84,-59.8 297.75,-63.55\"/>\r\n",
       "</g>\r\n",
       "<!-- 13 -->\r\n",
       "<g id=\"node14\" class=\"node\">\r\n",
       "<title>13</title>\r\n",
       "<polygon fill=\"#e9f4fc\" stroke=\"black\" points=\"479,-461.5 382,-461.5 382,-408.5 479,-408.5 479,-461.5\"/>\r\n",
       "<text text-anchor=\"middle\" x=\"430.5\" y=\"-446.3\" font-family=\"Times New Roman,serif\" font-size=\"14.00\">samples = 17</text>\r\n",
       "<text text-anchor=\"middle\" x=\"430.5\" y=\"-431.3\" font-family=\"Times New Roman,serif\" font-size=\"14.00\">value = [8, 9]</text>\r\n",
       "<text text-anchor=\"middle\" x=\"430.5\" y=\"-416.3\" font-family=\"Times New Roman,serif\" font-size=\"14.00\">class = benign</text>\r\n",
       "</g>\r\n",
       "<!-- 12&#45;&gt;13 -->\r\n",
       "<g id=\"edge13\" class=\"edge\">\r\n",
       "<title>12&#45;&gt;13</title>\r\n",
       "<path fill=\"none\" stroke=\"black\" d=\"M440.63,-504.88C439.06,-494.22 437.32,-482.35 435.72,-471.52\"/>\r\n",
       "<polygon fill=\"black\" stroke=\"black\" points=\"439.17,-470.9 434.25,-461.52 432.25,-471.92 439.17,-470.9\"/>\r\n",
       "</g>\r\n",
       "<!-- 14 -->\r\n",
       "<g id=\"node15\" class=\"node\">\r\n",
       "<title>14</title>\r\n",
       "<polygon fill=\"#e5823b\" stroke=\"black\" points=\"670,-469 497,-469 497,-401 670,-401 670,-469\"/>\r\n",
       "<text text-anchor=\"middle\" x=\"583.5\" y=\"-453.8\" font-family=\"Times New Roman,serif\" font-size=\"14.00\">worst smoothness &lt;= 0.088</text>\r\n",
       "<text text-anchor=\"middle\" x=\"583.5\" y=\"-438.8\" font-family=\"Times New Roman,serif\" font-size=\"14.00\">samples = 173</text>\r\n",
       "<text text-anchor=\"middle\" x=\"583.5\" y=\"-423.8\" font-family=\"Times New Roman,serif\" font-size=\"14.00\">value = [171, 2]</text>\r\n",
       "<text text-anchor=\"middle\" x=\"583.5\" y=\"-408.8\" font-family=\"Times New Roman,serif\" font-size=\"14.00\">class = malignant</text>\r\n",
       "</g>\r\n",
       "<!-- 12&#45;&gt;14 -->\r\n",
       "<g id=\"edge14\" class=\"edge\">\r\n",
       "<title>12&#45;&gt;14</title>\r\n",
       "<path fill=\"none\" stroke=\"black\" d=\"M490.3,-504.88C503.08,-495.44 517.12,-485.06 530.34,-475.29\"/>\r\n",
       "<polygon fill=\"black\" stroke=\"black\" points=\"532.49,-478.06 538.45,-469.3 528.33,-472.43 532.49,-478.06\"/>\r\n",
       "</g>\r\n",
       "<!-- 15 -->\r\n",
       "<g id=\"node16\" class=\"node\">\r\n",
       "<title>15</title>\r\n",
       "<polygon fill=\"#399de5\" stroke=\"black\" points=\"497,-357.5 400,-357.5 400,-304.5 497,-304.5 497,-357.5\"/>\r\n",
       "<text text-anchor=\"middle\" x=\"448.5\" y=\"-342.3\" font-family=\"Times New Roman,serif\" font-size=\"14.00\">samples = 1</text>\r\n",
       "<text text-anchor=\"middle\" x=\"448.5\" y=\"-327.3\" font-family=\"Times New Roman,serif\" font-size=\"14.00\">value = [0, 1]</text>\r\n",
       "<text text-anchor=\"middle\" x=\"448.5\" y=\"-312.3\" font-family=\"Times New Roman,serif\" font-size=\"14.00\">class = benign</text>\r\n",
       "</g>\r\n",
       "<!-- 14&#45;&gt;15 -->\r\n",
       "<g id=\"edge15\" class=\"edge\">\r\n",
       "<title>14&#45;&gt;15</title>\r\n",
       "<path fill=\"none\" stroke=\"black\" d=\"M539.67,-400.88C523.8,-388.9 505.94,-375.4 490.26,-363.55\"/>\r\n",
       "<polygon fill=\"black\" stroke=\"black\" points=\"492.37,-360.76 482.28,-357.52 488.15,-366.34 492.37,-360.76\"/>\r\n",
       "</g>\r\n",
       "<!-- 16 -->\r\n",
       "<g id=\"node17\" class=\"node\">\r\n",
       "<title>16</title>\r\n",
       "<polygon fill=\"#e5823a\" stroke=\"black\" points=\"669.5,-365 515.5,-365 515.5,-297 669.5,-297 669.5,-365\"/>\r\n",
       "<text text-anchor=\"middle\" x=\"592.5\" y=\"-349.8\" font-family=\"Times New Roman,serif\" font-size=\"14.00\">worst concavity &lt;= 0.18</text>\r\n",
       "<text text-anchor=\"middle\" x=\"592.5\" y=\"-334.8\" font-family=\"Times New Roman,serif\" font-size=\"14.00\">samples = 172</text>\r\n",
       "<text text-anchor=\"middle\" x=\"592.5\" y=\"-319.8\" font-family=\"Times New Roman,serif\" font-size=\"14.00\">value = [171, 1]</text>\r\n",
       "<text text-anchor=\"middle\" x=\"592.5\" y=\"-304.8\" font-family=\"Times New Roman,serif\" font-size=\"14.00\">class = malignant</text>\r\n",
       "</g>\r\n",
       "<!-- 14&#45;&gt;16 -->\r\n",
       "<g id=\"edge16\" class=\"edge\">\r\n",
       "<title>14&#45;&gt;16</title>\r\n",
       "<path fill=\"none\" stroke=\"black\" d=\"M586.42,-400.88C587.14,-392.78 587.91,-383.98 588.66,-375.47\"/>\r\n",
       "<polygon fill=\"black\" stroke=\"black\" points=\"592.17,-375.57 589.56,-365.3 585.2,-374.95 592.17,-375.57\"/>\r\n",
       "</g>\r\n",
       "<!-- 17 -->\r\n",
       "<g id=\"node18\" class=\"node\">\r\n",
       "<title>17</title>\r\n",
       "<polygon fill=\"#eeab7b\" stroke=\"black\" points=\"536,-253.5 423,-253.5 423,-200.5 536,-200.5 536,-253.5\"/>\r\n",
       "<text text-anchor=\"middle\" x=\"479.5\" y=\"-238.3\" font-family=\"Times New Roman,serif\" font-size=\"14.00\">samples = 4</text>\r\n",
       "<text text-anchor=\"middle\" x=\"479.5\" y=\"-223.3\" font-family=\"Times New Roman,serif\" font-size=\"14.00\">value = [3, 1]</text>\r\n",
       "<text text-anchor=\"middle\" x=\"479.5\" y=\"-208.3\" font-family=\"Times New Roman,serif\" font-size=\"14.00\">class = malignant</text>\r\n",
       "</g>\r\n",
       "<!-- 16&#45;&gt;17 -->\r\n",
       "<g id=\"edge17\" class=\"edge\">\r\n",
       "<title>16&#45;&gt;17</title>\r\n",
       "<path fill=\"none\" stroke=\"black\" d=\"M555.81,-296.88C542.9,-285.23 528.4,-272.14 515.54,-260.53\"/>\r\n",
       "<polygon fill=\"black\" stroke=\"black\" points=\"517.54,-257.62 507.77,-253.52 512.85,-262.82 517.54,-257.62\"/>\r\n",
       "</g>\r\n",
       "<!-- 18 -->\r\n",
       "<g id=\"node19\" class=\"node\">\r\n",
       "<title>18</title>\r\n",
       "<polygon fill=\"#e58139\" stroke=\"black\" points=\"667,-253.5 554,-253.5 554,-200.5 667,-200.5 667,-253.5\"/>\r\n",
       "<text text-anchor=\"middle\" x=\"610.5\" y=\"-238.3\" font-family=\"Times New Roman,serif\" font-size=\"14.00\">samples = 168</text>\r\n",
       "<text text-anchor=\"middle\" x=\"610.5\" y=\"-223.3\" font-family=\"Times New Roman,serif\" font-size=\"14.00\">value = [168, 0]</text>\r\n",
       "<text text-anchor=\"middle\" x=\"610.5\" y=\"-208.3\" font-family=\"Times New Roman,serif\" font-size=\"14.00\">class = malignant</text>\r\n",
       "</g>\r\n",
       "<!-- 16&#45;&gt;18 -->\r\n",
       "<g id=\"edge18\" class=\"edge\">\r\n",
       "<title>16&#45;&gt;18</title>\r\n",
       "<path fill=\"none\" stroke=\"black\" d=\"M598.34,-296.88C600.23,-286.22 602.32,-274.35 604.23,-263.52\"/>\r\n",
       "<polygon fill=\"black\" stroke=\"black\" points=\"607.71,-263.98 606,-253.52 600.81,-262.76 607.71,-263.98\"/>\r\n",
       "</g>\r\n",
       "</g>\r\n",
       "</svg>\r\n"
      ],
      "text/plain": [
       "<graphviz.files.Source at 0x1ddc8f87040>"
      ]
     },
     "metadata": {},
     "output_type": "display_data"
    }
   ],
   "source": [
    "model = DecisionTreeClassifier(min_samples_split=50)\n",
    "model.fit(cancer.data, cancer.target)\n",
    "\n",
    "from sklearn.tree import export_graphviz\n",
    "\n",
    "export_graphviz(model,out_file='tree1.dot',class_names=cancer.target_names,\n",
    "                feature_names=cancer.feature_names,impurity=False,filled=True)\n",
    "\n",
    "import graphviz\n",
    "\n",
    "with open('tree1.dot') as f:\n",
    "    dot_graph=f.read()\n",
    "display(graphviz.Source(dot_graph))"
   ]
  },
  {
   "cell_type": "code",
   "execution_count": 28,
   "metadata": {},
   "outputs": [
    {
     "data": {
      "image/svg+xml": [
       "<?xml version=\"1.0\" encoding=\"UTF-8\" standalone=\"no\"?>\r\n",
       "<!DOCTYPE svg PUBLIC \"-//W3C//DTD SVG 1.1//EN\"\r\n",
       " \"http://www.w3.org/Graphics/SVG/1.1/DTD/svg11.dtd\">\r\n",
       "<!-- Generated by graphviz version 2.47.2 (20210527.0053)\r\n",
       " -->\r\n",
       "<!-- Title: Tree Pages: 1 -->\r\n",
       "<svg width=\"544pt\" height=\"373pt\"\r\n",
       " viewBox=\"0.00 0.00 543.50 373.00\" xmlns=\"http://www.w3.org/2000/svg\" xmlns:xlink=\"http://www.w3.org/1999/xlink\">\r\n",
       "<g id=\"graph0\" class=\"graph\" transform=\"scale(1 1) rotate(0) translate(4 369)\">\r\n",
       "<title>Tree</title>\r\n",
       "<polygon fill=\"white\" stroke=\"transparent\" points=\"-4,4 -4,-369 539.5,-369 539.5,4 -4,4\"/>\r\n",
       "<!-- 0 -->\r\n",
       "<g id=\"node1\" class=\"node\">\r\n",
       "<title>0</title>\r\n",
       "<polygon fill=\"#afd7f4\" stroke=\"black\" points=\"348.5,-365 201.5,-365 201.5,-297 348.5,-297 348.5,-365\"/>\r\n",
       "<text text-anchor=\"middle\" x=\"275\" y=\"-349.8\" font-family=\"Times New Roman,serif\" font-size=\"14.00\">worst radius &lt;= 16.795</text>\r\n",
       "<text text-anchor=\"middle\" x=\"275\" y=\"-334.8\" font-family=\"Times New Roman,serif\" font-size=\"14.00\">samples = 569</text>\r\n",
       "<text text-anchor=\"middle\" x=\"275\" y=\"-319.8\" font-family=\"Times New Roman,serif\" font-size=\"14.00\">value = [212, 357]</text>\r\n",
       "<text text-anchor=\"middle\" x=\"275\" y=\"-304.8\" font-family=\"Times New Roman,serif\" font-size=\"14.00\">class = benign</text>\r\n",
       "</g>\r\n",
       "<!-- 1 -->\r\n",
       "<g id=\"node2\" class=\"node\">\r\n",
       "<title>1</title>\r\n",
       "<polygon fill=\"#4ca6e7\" stroke=\"black\" points=\"277.5,-261 86.5,-261 86.5,-193 277.5,-193 277.5,-261\"/>\r\n",
       "<text text-anchor=\"middle\" x=\"182\" y=\"-245.8\" font-family=\"Times New Roman,serif\" font-size=\"14.00\">worst concave points &lt;= 0.136</text>\r\n",
       "<text text-anchor=\"middle\" x=\"182\" y=\"-230.8\" font-family=\"Times New Roman,serif\" font-size=\"14.00\">samples = 379</text>\r\n",
       "<text text-anchor=\"middle\" x=\"182\" y=\"-215.8\" font-family=\"Times New Roman,serif\" font-size=\"14.00\">value = [33, 346]</text>\r\n",
       "<text text-anchor=\"middle\" x=\"182\" y=\"-200.8\" font-family=\"Times New Roman,serif\" font-size=\"14.00\">class = benign</text>\r\n",
       "</g>\r\n",
       "<!-- 0&#45;&gt;1 -->\r\n",
       "<g id=\"edge1\" class=\"edge\">\r\n",
       "<title>0&#45;&gt;1</title>\r\n",
       "<path fill=\"none\" stroke=\"black\" d=\"M244.81,-296.88C236.68,-287.98 227.8,-278.24 219.34,-268.96\"/>\r\n",
       "<polygon fill=\"black\" stroke=\"black\" points=\"221.69,-266.33 212.36,-261.3 216.51,-271.05 221.69,-266.33\"/>\r\n",
       "<text text-anchor=\"middle\" x=\"211.21\" y=\"-282.57\" font-family=\"Times New Roman,serif\" font-size=\"14.00\">True</text>\r\n",
       "</g>\r\n",
       "<!-- 2 -->\r\n",
       "<g id=\"node7\" class=\"node\">\r\n",
       "<title>2</title>\r\n",
       "<polygon fill=\"#e78945\" stroke=\"black\" points=\"440,-261 296,-261 296,-193 440,-193 440,-261\"/>\r\n",
       "<text text-anchor=\"middle\" x=\"368\" y=\"-245.8\" font-family=\"Times New Roman,serif\" font-size=\"14.00\">worst texture &lt;= 19.91</text>\r\n",
       "<text text-anchor=\"middle\" x=\"368\" y=\"-230.8\" font-family=\"Times New Roman,serif\" font-size=\"14.00\">samples = 190</text>\r\n",
       "<text text-anchor=\"middle\" x=\"368\" y=\"-215.8\" font-family=\"Times New Roman,serif\" font-size=\"14.00\">value = [179, 11]</text>\r\n",
       "<text text-anchor=\"middle\" x=\"368\" y=\"-200.8\" font-family=\"Times New Roman,serif\" font-size=\"14.00\">class = malignant</text>\r\n",
       "</g>\r\n",
       "<!-- 0&#45;&gt;2 -->\r\n",
       "<g id=\"edge6\" class=\"edge\">\r\n",
       "<title>0&#45;&gt;2</title>\r\n",
       "<path fill=\"none\" stroke=\"black\" d=\"M305.19,-296.88C313.32,-287.98 322.2,-278.24 330.66,-268.96\"/>\r\n",
       "<polygon fill=\"black\" stroke=\"black\" points=\"333.49,-271.05 337.64,-261.3 328.31,-266.33 333.49,-271.05\"/>\r\n",
       "<text text-anchor=\"middle\" x=\"338.79\" y=\"-282.57\" font-family=\"Times New Roman,serif\" font-size=\"14.00\">False</text>\r\n",
       "</g>\r\n",
       "<!-- 3 -->\r\n",
       "<g id=\"node3\" class=\"node\">\r\n",
       "<title>3</title>\r\n",
       "<polygon fill=\"#3c9ee5\" stroke=\"black\" points=\"104,-149.5 0,-149.5 0,-96.5 104,-96.5 104,-149.5\"/>\r\n",
       "<text text-anchor=\"middle\" x=\"52\" y=\"-134.3\" font-family=\"Times New Roman,serif\" font-size=\"14.00\">samples = 333</text>\r\n",
       "<text text-anchor=\"middle\" x=\"52\" y=\"-119.3\" font-family=\"Times New Roman,serif\" font-size=\"14.00\">value = [5, 328]</text>\r\n",
       "<text text-anchor=\"middle\" x=\"52\" y=\"-104.3\" font-family=\"Times New Roman,serif\" font-size=\"14.00\">class = benign</text>\r\n",
       "</g>\r\n",
       "<!-- 1&#45;&gt;3 -->\r\n",
       "<g id=\"edge2\" class=\"edge\">\r\n",
       "<title>1&#45;&gt;3</title>\r\n",
       "<path fill=\"none\" stroke=\"black\" d=\"M139.79,-192.88C124.65,-181.01 107.63,-167.65 92.63,-155.88\"/>\r\n",
       "<polygon fill=\"black\" stroke=\"black\" points=\"94.55,-152.94 84.53,-149.52 90.23,-158.45 94.55,-152.94\"/>\r\n",
       "</g>\r\n",
       "<!-- 4 -->\r\n",
       "<g id=\"node4\" class=\"node\">\r\n",
       "<title>4</title>\r\n",
       "<polygon fill=\"#f6d2b8\" stroke=\"black\" points=\"266,-157 122,-157 122,-89 266,-89 266,-157\"/>\r\n",
       "<text text-anchor=\"middle\" x=\"194\" y=\"-141.8\" font-family=\"Times New Roman,serif\" font-size=\"14.00\">worst texture &lt;= 25.67</text>\r\n",
       "<text text-anchor=\"middle\" x=\"194\" y=\"-126.8\" font-family=\"Times New Roman,serif\" font-size=\"14.00\">samples = 46</text>\r\n",
       "<text text-anchor=\"middle\" x=\"194\" y=\"-111.8\" font-family=\"Times New Roman,serif\" font-size=\"14.00\">value = [28, 18]</text>\r\n",
       "<text text-anchor=\"middle\" x=\"194\" y=\"-96.8\" font-family=\"Times New Roman,serif\" font-size=\"14.00\">class = malignant</text>\r\n",
       "</g>\r\n",
       "<!-- 1&#45;&gt;4 -->\r\n",
       "<g id=\"edge3\" class=\"edge\">\r\n",
       "<title>1&#45;&gt;4</title>\r\n",
       "<path fill=\"none\" stroke=\"black\" d=\"M185.9,-192.88C186.85,-184.78 187.88,-175.98 188.89,-167.47\"/>\r\n",
       "<polygon fill=\"black\" stroke=\"black\" points=\"192.39,-167.64 190.08,-157.3 185.44,-166.82 192.39,-167.64\"/>\r\n",
       "</g>\r\n",
       "<!-- 5 -->\r\n",
       "<g id=\"node5\" class=\"node\">\r\n",
       "<title>5</title>\r\n",
       "<polygon fill=\"#6eb7ec\" stroke=\"black\" points=\"181,-53 83,-53 83,0 181,0 181,-53\"/>\r\n",
       "<text text-anchor=\"middle\" x=\"132\" y=\"-37.8\" font-family=\"Times New Roman,serif\" font-size=\"14.00\">samples = 19</text>\r\n",
       "<text text-anchor=\"middle\" x=\"132\" y=\"-22.8\" font-family=\"Times New Roman,serif\" font-size=\"14.00\">value = [4, 15]</text>\r\n",
       "<text text-anchor=\"middle\" x=\"132\" y=\"-7.8\" font-family=\"Times New Roman,serif\" font-size=\"14.00\">class = benign</text>\r\n",
       "</g>\r\n",
       "<!-- 4&#45;&gt;5 -->\r\n",
       "<g id=\"edge4\" class=\"edge\">\r\n",
       "<title>4&#45;&gt;5</title>\r\n",
       "<path fill=\"none\" stroke=\"black\" d=\"M172.32,-88.95C166.55,-80.17 160.32,-70.66 154.51,-61.82\"/>\r\n",
       "<polygon fill=\"black\" stroke=\"black\" points=\"157.3,-59.68 148.89,-53.24 151.44,-63.52 157.3,-59.68\"/>\r\n",
       "</g>\r\n",
       "<!-- 6 -->\r\n",
       "<g id=\"node6\" class=\"node\">\r\n",
       "<title>6</title>\r\n",
       "<polygon fill=\"#e89152\" stroke=\"black\" points=\"312.5,-53 199.5,-53 199.5,0 312.5,0 312.5,-53\"/>\r\n",
       "<text text-anchor=\"middle\" x=\"256\" y=\"-37.8\" font-family=\"Times New Roman,serif\" font-size=\"14.00\">samples = 27</text>\r\n",
       "<text text-anchor=\"middle\" x=\"256\" y=\"-22.8\" font-family=\"Times New Roman,serif\" font-size=\"14.00\">value = [24, 3]</text>\r\n",
       "<text text-anchor=\"middle\" x=\"256\" y=\"-7.8\" font-family=\"Times New Roman,serif\" font-size=\"14.00\">class = malignant</text>\r\n",
       "</g>\r\n",
       "<!-- 4&#45;&gt;6 -->\r\n",
       "<g id=\"edge5\" class=\"edge\">\r\n",
       "<title>4&#45;&gt;6</title>\r\n",
       "<path fill=\"none\" stroke=\"black\" d=\"M215.68,-88.95C221.45,-80.17 227.68,-70.66 233.49,-61.82\"/>\r\n",
       "<polygon fill=\"black\" stroke=\"black\" points=\"236.56,-63.52 239.11,-53.24 230.7,-59.68 236.56,-63.52\"/>\r\n",
       "</g>\r\n",
       "<!-- 7 -->\r\n",
       "<g id=\"node8\" class=\"node\">\r\n",
       "<title>7</title>\r\n",
       "<polygon fill=\"#e9f4fc\" stroke=\"black\" points=\"404.5,-149.5 307.5,-149.5 307.5,-96.5 404.5,-96.5 404.5,-149.5\"/>\r\n",
       "<text text-anchor=\"middle\" x=\"356\" y=\"-134.3\" font-family=\"Times New Roman,serif\" font-size=\"14.00\">samples = 17</text>\r\n",
       "<text text-anchor=\"middle\" x=\"356\" y=\"-119.3\" font-family=\"Times New Roman,serif\" font-size=\"14.00\">value = [8, 9]</text>\r\n",
       "<text text-anchor=\"middle\" x=\"356\" y=\"-104.3\" font-family=\"Times New Roman,serif\" font-size=\"14.00\">class = benign</text>\r\n",
       "</g>\r\n",
       "<!-- 2&#45;&gt;7 -->\r\n",
       "<g id=\"edge7\" class=\"edge\">\r\n",
       "<title>2&#45;&gt;7</title>\r\n",
       "<path fill=\"none\" stroke=\"black\" d=\"M364.1,-192.88C362.85,-182.22 361.45,-170.35 360.18,-159.52\"/>\r\n",
       "<polygon fill=\"black\" stroke=\"black\" points=\"363.65,-159.04 359,-149.52 356.69,-159.86 363.65,-159.04\"/>\r\n",
       "</g>\r\n",
       "<!-- 8 -->\r\n",
       "<g id=\"node9\" class=\"node\">\r\n",
       "<title>8</title>\r\n",
       "<polygon fill=\"#e5823b\" stroke=\"black\" points=\"535.5,-149.5 422.5,-149.5 422.5,-96.5 535.5,-96.5 535.5,-149.5\"/>\r\n",
       "<text text-anchor=\"middle\" x=\"479\" y=\"-134.3\" font-family=\"Times New Roman,serif\" font-size=\"14.00\">samples = 173</text>\r\n",
       "<text text-anchor=\"middle\" x=\"479\" y=\"-119.3\" font-family=\"Times New Roman,serif\" font-size=\"14.00\">value = [171, 2]</text>\r\n",
       "<text text-anchor=\"middle\" x=\"479\" y=\"-104.3\" font-family=\"Times New Roman,serif\" font-size=\"14.00\">class = malignant</text>\r\n",
       "</g>\r\n",
       "<!-- 2&#45;&gt;8 -->\r\n",
       "<g id=\"edge8\" class=\"edge\">\r\n",
       "<title>2&#45;&gt;8</title>\r\n",
       "<path fill=\"none\" stroke=\"black\" d=\"M404.04,-192.88C416.72,-181.23 430.96,-168.14 443.6,-156.53\"/>\r\n",
       "<polygon fill=\"black\" stroke=\"black\" points=\"446.23,-158.86 451.23,-149.52 441.5,-153.71 446.23,-158.86\"/>\r\n",
       "</g>\r\n",
       "</g>\r\n",
       "</svg>\r\n"
      ],
      "text/plain": [
       "<graphviz.files.Source at 0x1ddc696a6d0>"
      ]
     },
     "metadata": {},
     "output_type": "display_data"
    }
   ],
   "source": [
    "model = DecisionTreeClassifier(max_leaf_nodes=5)\n",
    "model.fit(cancer.data, cancer.target)\n",
    "\n",
    "from sklearn.tree import export_graphviz\n",
    "\n",
    "export_graphviz(model,out_file='tree1.dot',class_names=cancer.target_names,\n",
    "                feature_names=cancer.feature_names,impurity=False,filled=True)\n",
    "\n",
    "import graphviz\n",
    "\n",
    "with open('tree1.dot') as f:\n",
    "    dot_graph=f.read()\n",
    "display(graphviz.Source(dot_graph))"
   ]
  },
  {
   "cell_type": "code",
   "execution_count": null,
   "metadata": {},
   "outputs": [],
   "source": []
  }
 ],
 "metadata": {
  "kernelspec": {
   "display_name": "datamining",
   "language": "python",
   "name": "datamining"
  },
  "language_info": {
   "codemirror_mode": {
    "name": "ipython",
    "version": 3
   },
   "file_extension": ".py",
   "mimetype": "text/x-python",
   "name": "python",
   "nbconvert_exporter": "python",
   "pygments_lexer": "ipython3",
   "version": "3.8.5"
  }
 },
 "nbformat": 4,
 "nbformat_minor": 4
}
